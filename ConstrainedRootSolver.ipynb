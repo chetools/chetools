{
  "nbformat": 4,
  "nbformat_minor": 0,
  "metadata": {
    "colab": {
      "provenance": [],
      "authorship_tag": "ABX9TyOgWK58qguVxfbeUxvJa8tI",
      "include_colab_link": true
    },
    "kernelspec": {
      "name": "python3",
      "display_name": "Python 3"
    },
    "language_info": {
      "name": "python"
    }
  },
  "cells": [
    {
      "cell_type": "markdown",
      "metadata": {
        "id": "view-in-github",
        "colab_type": "text"
      },
      "source": [
        "<a href=\"https://colab.research.google.com/github/profteachkids/chetools/blob/main/ConstrainedRootSolver.ipynb\" target=\"_parent\"><img src=\"https://colab.research.google.com/assets/colab-badge.svg\" alt=\"Open In Colab\"/></a>"
      ]
    },
    {
      "cell_type": "code",
      "execution_count": 3,
      "metadata": {
        "id": "jeX0r9uJ6ZFQ"
      },
      "outputs": [],
      "source": [
        "import jax\n",
        "jax.config.update('jax_enable_x64',True)\n",
        "import jax.numpy as jnp\n",
        "from scipy.optimize import root"
      ]
    },
    {
      "cell_type": "code",
      "source": [
        "def f(v):\n",
        "    x1,x2,x3 = v\n",
        "    return jnp.array([jnp.linalg.norm(v) - 1, x1/x2 - 1., x2/x3-0.5])"
      ],
      "metadata": {
        "id": "ydWRt5cI6h3E"
      },
      "execution_count": 124,
      "outputs": []
    },
    {
      "cell_type": "code",
      "source": [
        "def wrap(f, guess, bounds):\n",
        "\n",
        "    lbs = jnp.logical_not(jnp.isnan(bounds[:,0]))\n",
        "    ubs = jnp.logical_not(jnp.isnan(bounds[:,1]))\n",
        "    both = jnp.logical_and(lbs,ubs)\n",
        "    ubs_only = jnp.logical_and(ubs,jnp.logical_not(lbs))\n",
        "    Nvs = bounds.shape[0]\n",
        "    Nboth = jnp.sum(both)\n",
        "    slacks = jnp.zeros(Nboth)\n",
        "    constrained_guess = jnp.r_[guess, slacks]\n",
        "\n",
        "    def constrained(vec):\n",
        "        vec=jnp.asarray(vec)\n",
        "        v=vec[:Nvs]\n",
        "        slacks=vec[Nvs:]\n",
        "        v=v.at[lbs].set(bounds[lbs,0]+jnp.abs(v[lbs]))\n",
        "        v=v.at[ubs_only].set(bounds[ubs_only,1]-jnp.abs(v[ubs_only]))\n",
        "        constraintf = slacks**2 - (bounds[both,1] - v[both])\n",
        "        return jnp.r_[f(v[:Nvs]),constraintf]\n",
        "\n",
        "    def v2x(vec):\n",
        "        v=jnp.asarray(vec)[:Nvs]\n",
        "        v=v.at[lbs].set(bounds[lbs,0]+jnp.abs(v[lbs]))\n",
        "        v=v.at[ubs_only].set(bounds[ubs_only,1]-jnp.abs(v[ubs_only]))\n",
        "        return v\n",
        "\n",
        "    return constrained, constrained_guess, v2x"
      ],
      "metadata": {
        "id": "cr7jRHRk-D9s"
      },
      "execution_count": 265,
      "outputs": []
    },
    {
      "cell_type": "code",
      "source": [
        "bounds = jnp.asarray([[-1. ,None],\n",
        "          [-1., 0.],\n",
        "          [None, 0.]])\n",
        "guess = [-0.5, 0.5, 0.5]"
      ],
      "metadata": {
        "id": "OTtG-tpUEq47"
      },
      "execution_count": 289,
      "outputs": []
    },
    {
      "cell_type": "code",
      "source": [
        "constrained, constrained_guess, v2x=wrap(jax.jit(f), guess, bounds)"
      ],
      "metadata": {
        "id": "Lj2Xp4oCR7Pa"
      },
      "execution_count": 290,
      "outputs": []
    },
    {
      "cell_type": "code",
      "source": [
        "res=root(constrained, constrained_guess, jac=jax.jacobian(constrained))\n",
        "v2x(res.x)"
      ],
      "metadata": {
        "colab": {
          "base_uri": "https://localhost:8080/"
        },
        "id": "-05RSKrC66M2",
        "outputId": "8c1483a5-4dad-4e4e-cac9-f0d74cf5ea0b"
      },
      "execution_count": 291,
      "outputs": [
        {
          "output_type": "execute_result",
          "data": {
            "text/plain": [
              "Array([-0.40824829, -0.40824829, -0.81649658], dtype=float64)"
            ]
          },
          "metadata": {},
          "execution_count": 291
        }
      ]
    },
    {
      "cell_type": "code",
      "source": [
        "f(v2x(res.x))"
      ],
      "metadata": {
        "colab": {
          "base_uri": "https://localhost:8080/"
        },
        "id": "CzY3CDsBEF2G",
        "outputId": "5ea3deef-c925-48f5-dace-bd2454697662"
      },
      "execution_count": 292,
      "outputs": [
        {
          "output_type": "execute_result",
          "data": {
            "text/plain": [
              "Array([-4.50750548e-14, -3.54893892e-12,  4.21884749e-15], dtype=float64)"
            ]
          },
          "metadata": {},
          "execution_count": 292
        }
      ]
    },
    {
      "cell_type": "code",
      "source": [
        "res"
      ],
      "metadata": {
        "colab": {
          "base_uri": "https://localhost:8080/"
        },
        "id": "avBXjeN9UdGJ",
        "outputId": "68a6e7f3-d965-427b-9df6-29e7b4a0de9d"
      },
      "execution_count": 293,
      "outputs": [
        {
          "output_type": "execute_result",
          "data": {
            "text/plain": [
              " message: The solution converged.\n",
              " success: True\n",
              "  status: 1\n",
              "     fun: [-4.508e-14 -3.549e-12  4.219e-15  1.457e-11]\n",
              "       x: [-5.918e-01  5.918e-01  8.165e-01  6.389e-01]\n",
              "    nfev: 17\n",
              "    njev: 2\n",
              "    fjac: [[-1.580e-01 -9.752e-01 -5.396e-04  1.553e-01]\n",
              "           [ 3.183e-01 -1.752e-01  5.177e-01 -7.746e-01]\n",
              "           [ 8.311e-01 -1.326e-01 -5.399e-01  1.071e-02]\n",
              "           [-4.277e-01 -2.797e-02 -6.637e-01 -6.130e-01]]\n",
              "       r: [-2.571e+00 -2.366e+00 -1.231e-01  1.846e-01 -2.379e+00\n",
              "           -1.272e-01 -9.683e-01  1.007e+00  1.239e-02 -7.654e-01]\n",
              "     qtf: [ 6.153e-10 -1.043e-09  6.366e-11 -8.648e-10]"
            ]
          },
          "metadata": {},
          "execution_count": 293
        }
      ]
    },
    {
      "cell_type": "code",
      "source": [],
      "metadata": {
        "id": "vOekywGjZQPh"
      },
      "execution_count": null,
      "outputs": []
    }
  ]
}