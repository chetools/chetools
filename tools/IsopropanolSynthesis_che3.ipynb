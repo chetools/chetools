{
  "nbformat": 4,
  "nbformat_minor": 0,
  "metadata": {
    "colab": {
      "name": "IsopropanolSynthesis_che3.ipynb",
      "provenance": [],
      "collapsed_sections": [],
      "authorship_tag": "ABX9TyNfqWZd/NFqulE8SdpTUUec",
      "include_colab_link": true
    },
    "kernelspec": {
      "name": "python3",
      "display_name": "Python 3"
    },
    "language_info": {
      "name": "python"
    }
  },
  "cells": [
    {
      "cell_type": "markdown",
      "metadata": {
        "id": "view-in-github",
        "colab_type": "text"
      },
      "source": [
        "<a href=\"https://colab.research.google.com/github/profteachkids/chetools/blob/main/tools/IsopropanolSynthesis_che3.ipynb\" target=\"_parent\"><img src=\"https://colab.research.google.com/assets/colab-badge.svg\" alt=\"Open In Colab\"/></a>"
      ]
    },
    {
      "cell_type": "code",
      "source": [
        "!wget -N -q https://raw.githubusercontent.com/profteachkids/chetools/main/tools/che3.ipynb -O che3.ipynb\n",
        "!wget -N -q https://raw.githubusercontent.com/profteachkids/chetools/main/tools/lsq_root.ipynb -O lsq_root.ipynb\n",
        "!pip install importnb"
      ],
      "metadata": {
        "id": "Gwp9C2bBoebL",
        "colab": {
          "base_uri": "https://localhost:8080/"
        },
        "outputId": "cf2131a1-0963-4011-ebe4-538918a260e2"
      },
      "execution_count": 1,
      "outputs": [
        {
          "output_type": "stream",
          "name": "stdout",
          "text": [
            "Looking in indexes: https://pypi.org/simple, https://us-python.pkg.dev/colab-wheels/public/simple/\n",
            "Collecting importnb\n",
            "  Downloading importnb-0.7.0-py3-none-any.whl (24 kB)\n",
            "Installing collected packages: importnb\n",
            "Successfully installed importnb-0.7.0\n"
          ]
        }
      ]
    },
    {
      "cell_type": "code",
      "source": [
        "from importnb import Notebook\n",
        "with Notebook(): \n",
        "    from che3 import DotDict, Range, RangeArray, d2nt, Props\n",
        "    from lsq_root import lsq_root"
      ],
      "metadata": {
        "id": "e-4zIaZrKnmz"
      },
      "execution_count": 2,
      "outputs": []
    },
    {
      "cell_type": "code",
      "execution_count": 3,
      "metadata": {
        "id": "EQTOJoLTGQgb"
      },
      "outputs": [],
      "source": [
        "import jax\n",
        "import jax.numpy as jnp"
      ]
    },
    {
      "cell_type": "markdown",
      "source": [
        "<img src='https://github.com/profteachkids/CHE2064_Spring2022/raw/main/IsopropylSynthesisProcessDiagram.jpg'>"
      ],
      "metadata": {
        "id": "rPIq5KWqCytb"
      }
    },
    {
      "cell_type": "code",
      "source": [
        "# Static parameters (Total feed, feed mole fradtions, feed temperature and )\n",
        "# 1. propene\n",
        "# 2. diisopropyl ether\n",
        "# 3. isopropanol\n",
        "# 4. water\n",
        "# Rx1:  C3H6 + H2O -> C3H8O\n",
        "# Rx2:  2C3H8O -> C6H14 + H2O \n",
        "\n",
        "#Simple version - Overall mass balance only\n",
        "\n",
        "e = DotDict()\n",
        "e.alkeneF = 100.\n",
        "e.waterF = 100.\n",
        "\n",
        "e.alkeney = jnp.array([1., 0., 0., 0.])\n",
        "e.waterx = jnp.array([0., 0., 0., 1.])\n",
        "\n",
        "e.rx1 = jnp.array([-1, 0, 1, -1])\n",
        "e.rx2 = jnp.array([0, 1, -2, 1])\n",
        "\n",
        "e.rx1_extent = Range(e.alkeneF/2, 0., e.alkeneF)\n",
        "e.rx2_extent = Range(e.alkeneF/4, 0., e.alkeneF/2)\n",
        "\n",
        "e.alcoholP = Range(e.alkeneF/2, 0., e.alkeneF)  \n",
        "e.alcoholPx = jnp.array([0., 0.005, 0.94, 0.055])\n",
        "\n",
        "e.etherP = Range(e.alkeneF/2, 0., e.alkeneF)\n",
        "e.etherPx = jnp.array([0.0005, 0.98, 0.018, 0.0015])"
      ],
      "metadata": {
        "id": "y91AfkgeM3XL",
        "outputId": "121b6d06-7d11-4e43-d789-97da88f355df",
        "colab": {
          "base_uri": "https://localhost:8080/"
        }
      },
      "execution_count": 4,
      "outputs": [
        {
          "output_type": "stream",
          "name": "stderr",
          "text": [
            "WARNING:absl:No GPU/TPU found, falling back to CPU. (Set TF_CPP_MIN_LOG_LEVEL=0 and rerun for more info.)\n"
          ]
        }
      ]
    },
    {
      "cell_type": "code",
      "source": [
        "x0, lb, ub, x2nt, wrap, x2unk, const  = d2nt(e)"
      ],
      "metadata": {
        "id": "W1SjV7rkND3_"
      },
      "execution_count": 5,
      "outputs": []
    },
    {
      "cell_type": "code",
      "source": [
        "def eqs(d):\n",
        "    r=DotDict()\n",
        "    feed = d.alkeneF*d.alkeney + d.waterF*d.waterx \n",
        "    product = (d.etherP*d.etherPx + d.alcoholP*d.alcoholPx)\n",
        "\n",
        "    molecular_balance = feed + d.rx1_extent*d.rx1 + d.rx2_extent*d.rx2 - product\n",
        "\n",
        "    r.alkene = d.alkeneF*d.alkeney\n",
        "    r.water = d.waterF*d.waterx \n",
        "    r.ether = d.etherP*d.etherPx\n",
        "    r.alcohol = d.alcoholP*d.alcoholPx\n",
        "    return molecular_balance, r"
      ],
      "metadata": {
        "id": "ihz1HodGNG6_"
      },
      "execution_count": 6,
      "outputs": []
    },
    {
      "cell_type": "code",
      "source": [
        "eqs_wrapped = wrap(eqs)\n",
        "eqs_wrapped(x0)"
      ],
      "metadata": {
        "colab": {
          "base_uri": "https://localhost:8080/"
        },
        "id": "T6SyaBMhNMzj",
        "outputId": "c444f910-7ec2-445d-fe25-2d08a7e52893"
      },
      "execution_count": 7,
      "outputs": [
        {
          "output_type": "execute_result",
          "data": {
            "text/plain": [
              "DeviceArray([ 49.975, -24.25 , -47.9  ,  72.175], dtype=float64)"
            ]
          },
          "metadata": {},
          "execution_count": 7
        }
      ]
    },
    {
      "cell_type": "code",
      "source": [
        "sol=lsq_root(eqs_wrapped, x0)\n",
        "print(sol)"
      ],
      "metadata": {
        "colab": {
          "base_uri": "https://localhost:8080/"
        },
        "id": "Yq8Nq50_NVWf",
        "outputId": "8c914bab-e7d3-48bb-aa69-0e880eff7ffe"
      },
      "execution_count": 8,
      "outputs": [
        {
          "output_type": "stream",
          "name": "stdout",
          "text": [
            " active_mask: array([0., 0., 0., 0.])\n",
            "        cost: 3.7992236653254967e-19\n",
            "         fun: array([-3.94241272e-10,  1.29940503e-12,  1.30654598e-10,  7.66385178e-10])\n",
            "        grad: array([-2.41489308e-10,  5.06375386e-10, -1.64973004e-10, -4.57765683e-12])\n",
            "         jac: <4x4 _CustomLinearOperator with dtype=float64>\n",
            "     message: '`gtol` termination condition is satisfied.'\n",
            "        nfev: 4\n",
            "        njev: 4\n",
            "  optimality: 5.06375386066793e-10\n",
            "      status: 1\n",
            "     success: True\n",
            "           x: array([99.9975704 ,  5.23773658, 95.14322505,  4.85920455])\n"
          ]
        }
      ]
    },
    {
      "cell_type": "code",
      "source": [
        "nt=x2nt(sol.x)\n",
        "nt._asdict()"
      ],
      "metadata": {
        "colab": {
          "base_uri": "https://localhost:8080/"
        },
        "id": "8bm3_bzwNj7i",
        "outputId": "102af190-b61a-427f-a326-72c99e077e10"
      },
      "execution_count": 9,
      "outputs": [
        {
          "output_type": "execute_result",
          "data": {
            "text/plain": [
              "OrderedDict([('alkeneF', DeviceArray(100., dtype=float64)),\n",
              "             ('waterF', DeviceArray(100., dtype=float64)),\n",
              "             ('alkeney', DeviceArray([1., 0., 0., 0.], dtype=float64)),\n",
              "             ('waterx', DeviceArray([0., 0., 0., 1.], dtype=float64)),\n",
              "             ('rx1', DeviceArray([-1,  0,  1, -1], dtype=int64)),\n",
              "             ('rx2', DeviceArray([ 0,  1, -2,  1], dtype=int64)),\n",
              "             ('rx1_extent', DeviceArray(99.9975704, dtype=float64)),\n",
              "             ('rx2_extent', DeviceArray(5.23773658, dtype=float64)),\n",
              "             ('alcoholP', DeviceArray(95.14322505, dtype=float64)),\n",
              "             ('alcoholPx',\n",
              "              DeviceArray([0.   , 0.005, 0.94 , 0.055], dtype=float64)),\n",
              "             ('etherP', DeviceArray(4.85920455, dtype=float64)),\n",
              "             ('etherPx',\n",
              "              DeviceArray([5.0e-04, 9.8e-01, 1.8e-02, 1.5e-03], dtype=float64))])"
            ]
          },
          "metadata": {},
          "execution_count": 9
        }
      ]
    },
    {
      "cell_type": "code",
      "source": [
        "unk=x2unk(sol.x)\n",
        "unk._asdict()"
      ],
      "metadata": {
        "colab": {
          "base_uri": "https://localhost:8080/"
        },
        "id": "FhE1ZXdaAbHE",
        "outputId": "d446dc51-692b-4311-eec1-cc99067e95c9"
      },
      "execution_count": 10,
      "outputs": [
        {
          "output_type": "execute_result",
          "data": {
            "text/plain": [
              "OrderedDict([('rx1_extent', DeviceArray(99.9975704, dtype=float64)),\n",
              "             ('rx2_extent', DeviceArray(5.23773658, dtype=float64)),\n",
              "             ('alcoholP', DeviceArray(95.14322505, dtype=float64)),\n",
              "             ('etherP', DeviceArray(4.85920455, dtype=float64))])"
            ]
          },
          "metadata": {},
          "execution_count": 10
        }
      ]
    },
    {
      "cell_type": "code",
      "source": [
        "const"
      ],
      "metadata": {
        "colab": {
          "base_uri": "https://localhost:8080/"
        },
        "id": "b8ZBqSQZCXmp",
        "outputId": "4e92d647-d13c-40bb-ee38-7a91c7f2e201"
      },
      "execution_count": 11,
      "outputs": [
        {
          "output_type": "execute_result",
          "data": {
            "text/plain": [
              "_(alkeneF=DeviceArray(100., dtype=float64), waterF=DeviceArray(100., dtype=float64), alkeney=DeviceArray([1., 0., 0., 0.], dtype=float64), waterx=DeviceArray([0., 0., 0., 1.], dtype=float64), rx1=DeviceArray([-1,  0,  1, -1], dtype=int64), rx2=DeviceArray([ 0,  1, -2,  1], dtype=int64), alcoholPx=DeviceArray([0.   , 0.005, 0.94 , 0.055], dtype=float64), etherPx=DeviceArray([5.0e-04, 9.8e-01, 1.8e-02, 1.5e-03], dtype=float64))"
            ]
          },
          "metadata": {},
          "execution_count": 11
        }
      ]
    },
    {
      "cell_type": "code",
      "source": [
        "_, r= eqs(x2nt(sol.x))\n",
        "r"
      ],
      "metadata": {
        "colab": {
          "base_uri": "https://localhost:8080/"
        },
        "id": "YJJ3E0yYNmmM",
        "outputId": "687c11c2-086c-47ba-931f-b904b9366430"
      },
      "execution_count": 12,
      "outputs": [
        {
          "output_type": "execute_result",
          "data": {
            "text/plain": [
              "{'alkene': DeviceArray([100.,   0.,   0.,   0.], dtype=float64),\n",
              " 'water': DeviceArray([  0.,   0.,   0., 100.], dtype=float64),\n",
              " 'ether': DeviceArray([2.42960227e-03, 4.76202046e+00, 8.74656819e-02,\n",
              "              7.28880682e-03], dtype=float64),\n",
              " 'alcohol': DeviceArray([ 0.        ,  0.47571613, 89.43463155,  5.23287738], dtype=float64)}"
            ]
          },
          "metadata": {},
          "execution_count": 12
        }
      ]
    },
    {
      "cell_type": "markdown",
      "source": [
        "<img src='https://github.com/profteachkids/CHE2064_Spring2022/raw/main/IsopropylSynthesisProcessDiagram.jpg'>"
      ],
      "metadata": {
        "id": "_FiCvYkNNr5a"
      }
    },
    {
      "cell_type": "code",
      "source": [
        "# Include internal flows (recycle)\n",
        "\n",
        "\n",
        "d=DotDict()\n",
        "d.alkeneF = 100.\n",
        "d.waterF = 100.\n",
        "\n",
        "d.alkeney = jnp.array([1., 0., 0., 0.])\n",
        "d.waterx = jnp.array([0., 0., 0., 1.])\n",
        "\n",
        "d.rx1 = jnp.array([-1, 0, 1, -1])\n",
        "d.rx2 = jnp.array([0, 1, -2, 1])\n",
        "\n",
        "d.rx1_extent = Range(d.alkeneF/2, 0., d.alkeneF)\n",
        "d.rx2_extent = Range(d.alkeneF/4, 0., d.alkeneF/2)\n",
        "\n",
        "d.alcoholP = Range(d.alkeneF/2, 0., d.alkeneF)  \n",
        "d.alcoholPx = jnp.array([0., 0.005, 0.94, 0.055])\n",
        "\n",
        "d.etherP = Range(d.alkeneF/2, 0., d.alkeneF)\n",
        "d.etherPx = jnp.array([0.0005, 0.98, 0.018, 0.0015])\n",
        "\n",
        "d.WARFR = 12. #water_alkene_reactor_feed_ratio\n",
        "\n",
        "d.D1F = Range(d.alkeneF * d.WARFR, 0., 2.*d.WARFR*d.alkeneF)\n",
        "d.D1Fx = RangeArray([0.001, 0.03, 0.07, 0.9],0,1)\n",
        "\n",
        "d.D1K = jnp.array([100., 10., 5., 0.2])\n",
        "d.D1Vy = RangeArray([0.01, 0.299, 0.3, 0.3],0,1)\n",
        "d.D1Lx = RangeArray([0.0001, 0.1, 0.1, 0.8],0,1)\n",
        "d.D1V = Range(d.alkeneF * d.WARFR/2, 0., 2.*d.WARFR*d.alkeneF)\n",
        "d.D1L = Range(d.alkeneF * d.WARFR/2, 0., 2.*d.WARFR*d.alkeneF)\n",
        "\n",
        "d.decantW = Range(d.alkeneF * d.WARFR, 0., 2.*d.WARFR*d.alkeneF)\n",
        "d.decantWx = jnp.array([0.0001, 0.0005, 0.0014, 0.98]) \n"
      ],
      "metadata": {
        "id": "jZoVc-TZpa1D"
      },
      "execution_count": 19,
      "outputs": []
    },
    {
      "cell_type": "code",
      "source": [
        "x0, lb, ub, x2nt, wrap, x2unk, const  = d2nt(d)"
      ],
      "metadata": {
        "id": "rHVxiki_phXS"
      },
      "execution_count": 20,
      "outputs": []
    },
    {
      "cell_type": "code",
      "source": [
        "def eqs2(d):\n",
        "    r=DotDict()\n",
        "    r.MOLFRAC = jnp.ravel(jnp.sum(jnp.stack([d.D1Fx, d.D1Vy, d.D1Lx]),axis=1)-1.)\n",
        "    r.reactor_feed = d.alkeneF*d.alkeney + d.waterF*d.waterx + d.D1L*d.D1Lx + d.decantW*d.decantWx\n",
        "\n",
        "    r.REACTOR = r.reactor_feed + d.rx1_extent*d.rx1 + d.rx2_extent*d.rx2 - d.D1F*d.D1Fx\n",
        "\n",
        "    r.FEED_RATIO = jnp.atleast_1d((d.waterF+d.D1L+d.decantW)/d.alkeneF - d.WARFR)\n",
        "    \n",
        "    r.D1 = d.D1F*d.D1Fx - d.D1V*d.D1Vy - d.D1L*d.D1Lx\n",
        "    r.D1K = d.D1Vy/d.D1Lx - d.D1K\n",
        "\n",
        "    r.AZ = d.D1V*d.D1Vy - d.etherP*d.etherPx - d.alcoholP*d.alcoholPx - d.decantW*d.decantWx\n",
        "\n",
        "    r.alkene = d.alkeneF*d.alkeney\n",
        "    r.water = d.waterF*d.waterx \n",
        "    r.ether = d.etherP*d.etherPx\n",
        "    r.alcohol = d.alcoholP*d.alcoholPx\n",
        "    return jnp.concatenate([r.MOLFRAC, r.REACTOR, r.FEED_RATIO, r.D1, r.D1K, r.AZ]), r\n"
      ],
      "metadata": {
        "id": "KZUHitSI7nc3"
      },
      "execution_count": 22,
      "outputs": []
    },
    {
      "cell_type": "code",
      "source": [
        "eqs2_wrapped = wrap(eqs2)"
      ],
      "metadata": {
        "id": "PCFvkYbXt3VL"
      },
      "execution_count": 23,
      "outputs": []
    },
    {
      "cell_type": "code",
      "source": [
        "sol=lsq_root(eqs2_wrapped, x0, bounds=[lb,ub],dense=True, max_nfev=1000,ftol=1e-14, gtol=1e-14, xtol=1e-14)\n",
        "sol"
      ],
      "metadata": {
        "id": "l8ocZ2P2qyg5"
      },
      "execution_count": null,
      "outputs": []
    },
    {
      "cell_type": "code",
      "source": [
        "unk=x2unk(sol.x)\n",
        "unk._asdict()"
      ],
      "metadata": {
        "id": "AetCqijIr3lF"
      },
      "execution_count": null,
      "outputs": []
    },
    {
      "cell_type": "code",
      "source": [
        "eqs2_wrapped(sol.x)"
      ],
      "metadata": {
        "id": "w7IBxauHFqQb"
      },
      "execution_count": null,
      "outputs": []
    },
    {
      "cell_type": "code",
      "source": [],
      "metadata": {
        "id": "mVNej8ZHSo2A"
      },
      "execution_count": null,
      "outputs": []
    }
  ]
}