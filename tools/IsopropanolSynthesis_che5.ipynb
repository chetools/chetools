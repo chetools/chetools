{
  "nbformat": 4,
  "nbformat_minor": 0,
  "metadata": {
    "colab": {
      "provenance": [],
      "authorship_tag": "ABX9TyM7OnuZu3xLUfH2UVJ/9QYk",
      "include_colab_link": true
    },
    "kernelspec": {
      "name": "python3",
      "display_name": "Python 3"
    },
    "language_info": {
      "name": "python"
    }
  },
  "cells": [
    {
      "cell_type": "markdown",
      "metadata": {
        "id": "view-in-github",
        "colab_type": "text"
      },
      "source": [
        "<a href=\"https://colab.research.google.com/github/profteachkids/chetools/blob/main/tools/IsopropanolSynthesis_che5.ipynb\" target=\"_parent\"><img src=\"https://colab.research.google.com/assets/colab-badge.svg\" alt=\"Open In Colab\"/></a>"
      ]
    },
    {
      "cell_type": "code",
      "source": [
        "!wget -N -q https://raw.githubusercontent.com/profteachkids/chetools/main/tools/che4.ipynb -O che5.ipynb\n",
        "!pip install importnb"
      ],
      "metadata": {
        "id": "Gwp9C2bBoebL",
        "colab": {
          "base_uri": "https://localhost:8080/"
        },
        "outputId": "68d5627e-b2a7-4559-ea64-b8d20bfdf8e6"
      },
      "execution_count": null,
      "outputs": [
        {
          "output_type": "stream",
          "name": "stdout",
          "text": [
            "Collecting importnb\n",
            "  Downloading importnb-2023.1.7-py3-none-any.whl (42 kB)\n",
            "\u001b[?25l     \u001b[90m━━━━━━━━━━━━━━━━━━━━━━━━━━━━━━━━━━━━━━━━\u001b[0m \u001b[32m0.0/42.9 kB\u001b[0m \u001b[31m?\u001b[0m eta \u001b[36m-:--:--\u001b[0m\r\u001b[2K     \u001b[90m━━━━━━━━━━━━━━━━━━━━━━━━━━━━━━━━━━━━━━━━\u001b[0m \u001b[32m42.9/42.9 kB\u001b[0m \u001b[31m1.4 MB/s\u001b[0m eta \u001b[36m0:00:00\u001b[0m\n",
            "\u001b[?25hInstalling collected packages: importnb\n",
            "Successfully installed importnb-2023.1.7\n"
          ]
        }
      ]
    },
    {
      "cell_type": "code",
      "source": [
        "from importnb import Notebook\n",
        "with Notebook():\n",
        "    from che5 import Range, Comp, CompArray, RangeArray, DotDict, d2nt, Props"
      ],
      "metadata": {
        "id": "e-4zIaZrKnmz",
        "outputId": "3a87b584-326e-4605-a3f8-00c3a7e8bdaf",
        "colab": {
          "base_uri": "https://localhost:8080/"
        }
      },
      "execution_count": null,
      "outputs": [
        {
          "output_type": "stream",
          "name": "stderr",
          "text": [
            "WARNING:jax._src.xla_bridge:No GPU/TPU found, falling back to CPU. (Set TF_CPP_MIN_LOG_LEVEL=0 and rerun for more info.)\n"
          ]
        }
      ]
    },
    {
      "cell_type": "code",
      "execution_count": null,
      "metadata": {
        "id": "EQTOJoLTGQgb"
      },
      "outputs": [],
      "source": [
        "import jax\n",
        "import jax.numpy as jnp\n",
        "from scipy.optimize import root"
      ]
    },
    {
      "cell_type": "markdown",
      "source": [
        "<img src='https://github.com/profteachkids/CHE2064_Spring2022/raw/main/IsopropylSynthesisProcessDiagram.jpg'>"
      ],
      "metadata": {
        "id": "rPIq5KWqCytb"
      }
    },
    {
      "cell_type": "code",
      "source": [
        "# Static parameters (Total feed, feed mole fradtions, feed temperature and )\n",
        "# 1. propene\n",
        "# 2. diisopropyl ether\n",
        "# 3. isopropanol\n",
        "# 4. water\n",
        "# Rx1:  C3H6 + H2O -> C3H8O\n",
        "# Rx2:  2C3H8O -> C6H14 + H2O\n",
        "\n",
        "#Simple version - Overall mass balance only\n",
        "\n",
        "e = DotDict()\n",
        "e.alkeneF = 100.\n",
        "e.waterF = 100.\n",
        "\n",
        "e.alkeney = jnp.array([1., 0., 0., 0.])\n",
        "e.waterx = jnp.array([0., 0., 0., 1.])\n",
        "\n",
        "e.rx1 = jnp.array([-1, 0, 1, -1])\n",
        "e.rx2 = jnp.array([0, 1, -2, 1])\n",
        "\n",
        "e.rx1_extent = Range(e.alkeneF/2, 0., e.alkeneF)\n",
        "e.rx2_extent = Range(e.alkeneF/4, 0., e.alkeneF/2)\n",
        "\n",
        "e.alcoholP = Range(e.alkeneF/2, 0., e.alkeneF)\n",
        "e.alcoholPx = jnp.array([0., 0.005, 0.94, 0.055])\n",
        "\n",
        "e.etherP = Range(e.alkeneF/2, 0., e.alkeneF)\n",
        "e.etherPx = jnp.array([0.0005, 0.98, 0.018, 0.0015])"
      ],
      "metadata": {
        "id": "y91AfkgeM3XL"
      },
      "execution_count": null,
      "outputs": []
    },
    {
      "cell_type": "code",
      "source": [
        "x0, x2nt, wrap, x2unk, const  = d2nt(e)"
      ],
      "metadata": {
        "id": "W1SjV7rkND3_"
      },
      "execution_count": null,
      "outputs": []
    },
    {
      "cell_type": "code",
      "source": [
        "def eqs(d):\n",
        "    r=DotDict()\n",
        "    feed = d.alkeneF*d.alkeney + d.waterF*d.waterx\n",
        "    product = (d.etherP*d.etherPx + d.alcoholP*d.alcoholPx)\n",
        "\n",
        "    molecular_balance = feed + d.rx1_extent*d.rx1 + d.rx2_extent*d.rx2 - product\n",
        "\n",
        "    r.alkene = d.alkeneF*d.alkeney\n",
        "    r.water = d.waterF*d.waterx\n",
        "    r.ether = d.etherP*d.etherPx\n",
        "    r.alcohol = d.alcoholP*d.alcoholPx\n",
        "    return molecular_balance, r"
      ],
      "metadata": {
        "id": "ihz1HodGNG6_"
      },
      "execution_count": null,
      "outputs": []
    },
    {
      "cell_type": "code",
      "source": [
        "eqs_wrapped = wrap(eqs)\n",
        "eqs_wrapped(x0)"
      ],
      "metadata": {
        "colab": {
          "base_uri": "https://localhost:8080/"
        },
        "id": "T6SyaBMhNMzj",
        "outputId": "b39312ac-bf09-45fd-e9eb-2a8b421d63d9"
      },
      "execution_count": null,
      "outputs": [
        {
          "output_type": "execute_result",
          "data": {
            "text/plain": [
              "Array([ 49.975, -24.25 , -47.9  ,  72.175], dtype=float64)"
            ]
          },
          "metadata": {},
          "execution_count": 7
        }
      ]
    },
    {
      "cell_type": "code",
      "source": [
        "sol=root(eqs_wrapped, x0, jac=jax.jit(jax.jacobian(eqs_wrapped)))\n",
        "print(sol)"
      ],
      "metadata": {
        "colab": {
          "base_uri": "https://localhost:8080/"
        },
        "id": "Yq8Nq50_NVWf",
        "outputId": "790ba182-2dea-46fd-a8d5-b0dac48512d4"
      },
      "execution_count": null,
      "outputs": [
        {
          "output_type": "stream",
          "name": "stdout",
          "text": [
            " message: The solution converged.\n",
            " success: True\n",
            "  status: 1\n",
            "     fun: [ 2.460e-12  8.819e-11 -1.425e-10  2.289e-11]\n",
            "       x: [ 1.063e+01 -2.145e+00  2.975e+00 -2.974e+00]\n",
            "    nfev: 30\n",
            "    njev: 2\n",
            "    fjac: [[-8.077e-02 -7.905e-02  9.898e-01 -8.637e-02]\n",
            "           [-1.438e-01  7.005e-01  1.045e-01  6.912e-01]\n",
            "           [-8.836e-01  2.265e-01 -8.892e-02 -4.000e-01]\n",
            "           [-4.382e-01 -6.722e-01 -3.746e-02  5.957e-01]]\n",
            "       r: [ 3.810e-02 -9.426e+00 -3.417e+00  2.247e-01  5.193e+00\n",
            "           -5.103e-01 -2.563e+00  4.171e-01 -8.483e-01  2.468e+00]\n",
            "     qtf: [-1.561e-08  1.059e-09  1.175e-09 -2.605e-10]\n"
          ]
        }
      ]
    },
    {
      "cell_type": "code",
      "source": [
        "nt=x2nt(sol.x)\n",
        "nt._asdict()"
      ],
      "metadata": {
        "colab": {
          "base_uri": "https://localhost:8080/"
        },
        "id": "8bm3_bzwNj7i",
        "outputId": "9f01a987-8494-4398-cfb6-1bfcb3b621d8"
      },
      "execution_count": null,
      "outputs": [
        {
          "output_type": "execute_result",
          "data": {
            "text/plain": [
              "{'alkeneF': Array(100., dtype=float64),\n",
              " 'waterF': Array(100., dtype=float64),\n",
              " 'alkeney': Array([1., 0., 0., 0.], dtype=float64),\n",
              " 'waterx': Array([0., 0., 0., 1.], dtype=float64),\n",
              " 'rx1': Array([-1,  0,  1, -1], dtype=int64),\n",
              " 'rx2': Array([ 0,  1, -2,  1], dtype=int64),\n",
              " 'rx1_extent': Array(99.9975704, dtype=float64),\n",
              " 'rx2_extent': Array(5.23773658, dtype=float64),\n",
              " 'alcoholP': Array(95.14322505, dtype=float64),\n",
              " 'alcoholPx': Array([0.   , 0.005, 0.94 , 0.055], dtype=float64),\n",
              " 'etherP': Array(4.85920455, dtype=float64),\n",
              " 'etherPx': Array([5.0e-04, 9.8e-01, 1.8e-02, 1.5e-03], dtype=float64)}"
            ]
          },
          "metadata": {},
          "execution_count": 9
        }
      ]
    },
    {
      "cell_type": "code",
      "source": [
        "unk=x2unk(sol.x)\n",
        "unk._asdict()"
      ],
      "metadata": {
        "colab": {
          "base_uri": "https://localhost:8080/"
        },
        "id": "FhE1ZXdaAbHE",
        "outputId": "484ae66b-b316-480e-ac36-74961e0a582a"
      },
      "execution_count": null,
      "outputs": [
        {
          "output_type": "execute_result",
          "data": {
            "text/plain": [
              "{'rx1_extent': Array(99.9975704, dtype=float64),\n",
              " 'rx2_extent': Array(5.23773658, dtype=float64),\n",
              " 'alcoholP': Array(95.14322505, dtype=float64),\n",
              " 'etherP': Array(4.85920455, dtype=float64)}"
            ]
          },
          "metadata": {},
          "execution_count": 10
        }
      ]
    },
    {
      "cell_type": "code",
      "source": [
        "const._asdict()"
      ],
      "metadata": {
        "colab": {
          "base_uri": "https://localhost:8080/"
        },
        "id": "b8ZBqSQZCXmp",
        "outputId": "dce7d7a4-eb13-4729-abfe-95ffa581e2ea"
      },
      "execution_count": null,
      "outputs": [
        {
          "output_type": "execute_result",
          "data": {
            "text/plain": [
              "{'alkeneF': Array(100., dtype=float64),\n",
              " 'waterF': Array(100., dtype=float64),\n",
              " 'alkeney': Array([1., 0., 0., 0.], dtype=float64),\n",
              " 'waterx': Array([0., 0., 0., 1.], dtype=float64),\n",
              " 'rx1': Array([-1,  0,  1, -1], dtype=int64),\n",
              " 'rx2': Array([ 0,  1, -2,  1], dtype=int64),\n",
              " 'alcoholPx': Array([0.   , 0.005, 0.94 , 0.055], dtype=float64),\n",
              " 'etherPx': Array([5.0e-04, 9.8e-01, 1.8e-02, 1.5e-03], dtype=float64)}"
            ]
          },
          "metadata": {},
          "execution_count": 11
        }
      ]
    },
    {
      "cell_type": "code",
      "source": [
        "_, r= eqs(x2nt(sol.x))\n",
        "r"
      ],
      "metadata": {
        "colab": {
          "base_uri": "https://localhost:8080/"
        },
        "id": "YJJ3E0yYNmmM",
        "outputId": "057c4775-6e77-4cb2-8962-f36ee43bb280"
      },
      "execution_count": null,
      "outputs": [
        {
          "output_type": "execute_result",
          "data": {
            "text/plain": [
              "{'alkene': Array([100.,   0.,   0.,   0.], dtype=float64),\n",
              " 'water': Array([  0.,   0.,   0., 100.], dtype=float64),\n",
              " 'ether': Array([2.42960227e-03, 4.76202046e+00, 8.74656819e-02, 7.28880682e-03],      dtype=float64),\n",
              " 'alcohol': Array([ 0.        ,  0.47571613, 89.43463155,  5.23287738], dtype=float64)}"
            ]
          },
          "metadata": {},
          "execution_count": 12
        }
      ]
    },
    {
      "cell_type": "markdown",
      "source": [
        "<img src='https://github.com/profteachkids/CHE2064_Spring2022/raw/main/IsopropylSynthesisProcessDiagram.jpg'>"
      ],
      "metadata": {
        "id": "_FiCvYkNNr5a"
      }
    },
    {
      "cell_type": "code",
      "source": [
        "# Include internal flows (recycle)\n",
        "\n",
        "\n",
        "d=DotDict()\n",
        "d.alkeneF = 100.\n",
        "d.waterF = 100.\n",
        "\n",
        "d.alkeney = jnp.array([1., 0., 0., 0.])\n",
        "d.waterx = jnp.array([0., 0., 0., 1.])\n",
        "\n",
        "d.rx1 = jnp.array([-1, 0, 1, -1])\n",
        "d.rx2 = jnp.array([0, 1, -2, 1])\n",
        "\n",
        "d.rx1_extent = Range(d.alkeneF/2, 0., d.alkeneF)\n",
        "d.rx2_extent = Range(d.alkeneF/4, 0., d.alkeneF/2)\n",
        "\n",
        "d.alcoholP = Range(d.alkeneF/2, 0., d.alkeneF)\n",
        "d.alcoholPx = jnp.array([0., 0.005, 0.94, 0.055])\n",
        "\n",
        "d.etherP = Range(d.alkeneF/2, 0., d.alkeneF)\n",
        "d.etherPx = jnp.array([0.0005, 0.98, 0.018, 0.0015])\n",
        "\n",
        "d.WARFR = 12. #water_alkene_reactor_feed_ratio\n",
        "\n",
        "d.D1F = Range(d.alkeneF * d.WARFR, 0., 2.*d.WARFR*d.alkeneF)\n",
        "d.D1Fx = Comp([0.001, 0.03, 0.07, 0.9])\n",
        "\n",
        "d.D1K = jnp.array([100., 10., 5., 0.2])\n",
        "d.D1Vy = Comp([0.01, 0.299, 0.3, 0.3])\n",
        "d.D1Lx = Comp([0.0001, 0.1, 0.1, 0.8])\n",
        "d.D1V = Range(d.alkeneF * d.WARFR/2, 0., 2.*d.WARFR*d.alkeneF)\n",
        "d.D1L = Range(d.alkeneF * d.WARFR/2, 0., 2.*d.WARFR*d.alkeneF)\n",
        "\n",
        "d.decantW = Range(d.alkeneF * d.WARFR, 0., 2.*d.WARFR*d.alkeneF)\n",
        "d.decantWx = jnp.array([0.0001, 0.0005, 0.0014, 0.98])\n"
      ],
      "metadata": {
        "id": "jZoVc-TZpa1D"
      },
      "execution_count": null,
      "outputs": []
    },
    {
      "cell_type": "code",
      "source": [
        "x0, x2nt, wrap, x2unk, const  = d2nt(d)"
      ],
      "metadata": {
        "id": "rHVxiki_phXS"
      },
      "execution_count": null,
      "outputs": []
    },
    {
      "cell_type": "code",
      "source": [
        "def eqs2(d):\n",
        "    r=DotDict()\n",
        "    r.reactor_feed = d.alkeneF*d.alkeney + d.waterF*d.waterx + d.D1L*d.D1Lx + d.decantW*d.decantWx\n",
        "\n",
        "    r.REACTOR = r.reactor_feed + d.rx1_extent*d.rx1 + d.rx2_extent*d.rx2 - d.D1F*d.D1Fx\n",
        "\n",
        "    r.FEED_RATIO = jnp.atleast_1d((d.waterF+d.D1L+d.decantW)/d.alkeneF - d.WARFR)\n",
        "\n",
        "    r.D1 = d.D1F*d.D1Fx - d.D1V*d.D1Vy - d.D1L*d.D1Lx\n",
        "    r.D1K = d.D1Vy/d.D1Lx - d.D1K\n",
        "\n",
        "    r.AZ = d.D1V*d.D1Vy - d.etherP*d.etherPx - d.alcoholP*d.alcoholPx - d.decantW*d.decantWx\n",
        "\n",
        "    r.alkene = d.alkeneF*d.alkeney\n",
        "    r.water = d.waterF*d.waterx\n",
        "    r.ether = d.etherP*d.etherPx\n",
        "    r.alcohol = d.alcoholP*d.alcoholPx\n",
        "    return jnp.concatenate([r.REACTOR, r.FEED_RATIO, r.D1, r.D1K, r.AZ]), r\n"
      ],
      "metadata": {
        "id": "KZUHitSI7nc3"
      },
      "execution_count": null,
      "outputs": []
    },
    {
      "cell_type": "code",
      "source": [
        "eqs2_wrapped = wrap(eqs2)"
      ],
      "metadata": {
        "id": "PCFvkYbXt3VL"
      },
      "execution_count": null,
      "outputs": []
    },
    {
      "cell_type": "code",
      "source": [
        "sol=root(eqs2_wrapped, x0, jac=jax.jit(jax.jacobian(eqs2_wrapped)))\n",
        "sol.message"
      ],
      "metadata": {
        "id": "l8ocZ2P2qyg5",
        "colab": {
          "base_uri": "https://localhost:8080/",
          "height": 35
        },
        "outputId": "19d76bdd-793c-4381-edcd-3b18b933f411"
      },
      "execution_count": null,
      "outputs": [
        {
          "output_type": "execute_result",
          "data": {
            "text/plain": [
              "'The solution converged.'"
            ],
            "application/vnd.google.colaboratory.intrinsic+json": {
              "type": "string"
            }
          },
          "metadata": {},
          "execution_count": 17
        }
      ]
    },
    {
      "cell_type": "code",
      "source": [
        "unk=x2unk(sol.x)\n",
        "unk._asdict()"
      ],
      "metadata": {
        "id": "AetCqijIr3lF",
        "colab": {
          "base_uri": "https://localhost:8080/"
        },
        "outputId": "b62c34f0-80cb-473b-aeeb-992d3ee92f55"
      },
      "execution_count": null,
      "outputs": [
        {
          "output_type": "execute_result",
          "data": {
            "text/plain": [
              "{'rx1_extent': Array(99.9975704, dtype=float64),\n",
              " 'rx2_extent': Array(5.23773658, dtype=float64),\n",
              " 'alcoholP': Array(95.14322505, dtype=float64),\n",
              " 'etherP': Array(4.85920455, dtype=float64),\n",
              " 'D1F': Array(1199.74805577, dtype=float64),\n",
              " 'D1Fx': Array([3.50840994e-06, 8.53998248e-03, 2.16963767e-01, 7.74492742e-01],      dtype=float64),\n",
              " 'D1Vy': Array([3.37442255e-05, 4.60555454e-02, 7.86283218e-01, 1.67627493e-01],      dtype=float64),\n",
              " 'D1Lx': Array([3.37442255e-07, 4.60555454e-03, 1.57256644e-01, 8.38137465e-01],      dtype=float64),\n",
              " 'D1V': Array(113.87993521, dtype=float64),\n",
              " 'D1L': Array(1085.86812057, dtype=float64),\n",
              " 'decantW': Array(14.13187943, dtype=float64)}"
            ]
          },
          "metadata": {},
          "execution_count": 18
        }
      ]
    },
    {
      "cell_type": "code",
      "source": [
        "eqs2_wrapped(sol.x)"
      ],
      "metadata": {
        "id": "w7IBxauHFqQb",
        "colab": {
          "base_uri": "https://localhost:8080/"
        },
        "outputId": "d3f955ff-54c4-4ca2-d5bf-39abfc1c08a7"
      },
      "execution_count": null,
      "outputs": [
        {
          "output_type": "execute_result",
          "data": {
            "text/plain": [
              "Array([ 4.56206253e-14, -3.55271368e-15, -5.68434189e-14, -1.13686838e-13,\n",
              "        0.00000000e+00,  4.63930110e-16,  2.66453526e-15,  0.00000000e+00,\n",
              "        2.27373675e-13, -4.26325641e-14,  1.77635684e-15,  0.00000000e+00,\n",
              "        0.00000000e+00, -9.08561421e-17, -4.47558657e-16, -1.36626821e-14,\n",
              "       -1.77635684e-15], dtype=float64)"
            ]
          },
          "metadata": {},
          "execution_count": 19
        }
      ]
    },
    {
      "cell_type": "code",
      "source": [],
      "metadata": {
        "id": "mVNej8ZHSo2A"
      },
      "execution_count": null,
      "outputs": []
    }
  ]
}