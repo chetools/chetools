{
  "nbformat": 4,
  "nbformat_minor": 0,
  "metadata": {
    "colab": {
      "name": "DistillationNRTL_EtOH_iPrOH_H2O_che4.ipynb",
      "provenance": [],
      "collapsed_sections": [],
      "authorship_tag": "ABX9TyMcWsfZzZikvGG4bBXhshw7",
      "include_colab_link": true
    },
    "kernelspec": {
      "name": "python3",
      "display_name": "Python 3"
    },
    "language_info": {
      "name": "python"
    }
  },
  "cells": [
    {
      "cell_type": "markdown",
      "metadata": {
        "id": "view-in-github",
        "colab_type": "text"
      },
      "source": [
        "<a href=\"https://colab.research.google.com/github/profteachkids/chetools/blob/main/tools/DistillationNRTL_EtOH_iPrOH_H2O_che4.ipynb\" target=\"_parent\"><img src=\"https://colab.research.google.com/assets/colab-badge.svg\" alt=\"Open In Colab\"/></a>"
      ]
    },
    {
      "cell_type": "code",
      "source": [
        "!wget -N -q https://raw.githubusercontent.com/profteachkids/chetools/main/tools/che4.ipynb -O che4.ipynb\n",
        "!pip install importnb"
      ],
      "metadata": {
        "colab": {
          "base_uri": "https://localhost:8080/"
        },
        "id": "69l3XTFqXPJl",
        "outputId": "f8e21175-c2b0-4f55-fefe-cf8a238674b8"
      },
      "execution_count": 1,
      "outputs": [
        {
          "output_type": "stream",
          "name": "stdout",
          "text": [
            "Looking in indexes: https://pypi.org/simple, https://us-python.pkg.dev/colab-wheels/public/simple/\n",
            "Collecting importnb\n",
            "  Downloading importnb-0.7.0-py3-none-any.whl (24 kB)\n",
            "Installing collected packages: importnb\n",
            "Successfully installed importnb-0.7.0\n"
          ]
        }
      ]
    },
    {
      "cell_type": "code",
      "source": [
        "from importnb import Notebook\n",
        "with Notebook(): \n",
        "    from che4 import DotDict, Range, RangeArray, Comp, CompArray, d2nt, Props\n",
        "\n",
        "import numpy as np\n",
        "from scipy.optimize import root,minimize\n",
        "import jax\n",
        "import jax.numpy as jnp\n",
        "from jax.config import config\n",
        "config.update(\"jax_enable_x64\", True)"
      ],
      "metadata": {
        "id": "RRVu8H8IXa3w"
      },
      "execution_count": 31,
      "outputs": []
    },
    {
      "cell_type": "code",
      "source": [
        "p=Props(['Ethanol','Isopropanol', 'Water'])"
      ],
      "metadata": {
        "id": "aIjT8yBZI59y",
        "colab": {
          "base_uri": "https://localhost:8080/"
        },
        "outputId": "539cb6c8-dea6-45bd-8fae-c3ec2d215b6a"
      },
      "execution_count": 7,
      "outputs": [
        {
          "output_type": "stream",
          "name": "stderr",
          "text": [
            "WARNING:absl:No GPU/TPU found, falling back to CPU. (Set TF_CPP_MIN_LOG_LEVEL=0 and rerun for more info.)\n"
          ]
        }
      ]
    },
    {
      "cell_type": "code",
      "source": [
        "d=DotDict()\n",
        "\n",
        "d.P = 1e5\n",
        "d.N = 15\n",
        "d.NC = p.N_comps\n",
        "d.F= 100.\n",
        "d.Fz = np.array([0.1,0.1, 0.8])\n",
        "d.FT =320.\n",
        "d.D = 0.15*d.F\n",
        "d.B = d.F - d.D\n",
        "\n",
        "d.F_stage = d.N // 2\n",
        "\n",
        "d.reflux_ratio = 10\n"
      ],
      "metadata": {
        "id": "jZoVc-TZpa1D"
      },
      "execution_count": 167,
      "outputs": []
    },
    {
      "cell_type": "code",
      "source": [
        "def boiling_points(P):\n",
        "    return root(lambda T: np.diagonal(p.Pvap(T)) - P, p.Tb).x"
      ],
      "metadata": {
        "id": "XVAYxAph53mL"
      },
      "execution_count": 168,
      "outputs": []
    },
    {
      "cell_type": "code",
      "source": [
        "d.bp = boiling_points(d.P)\n",
        "bp_scaled = (d.bp - np.mean(d.bp))/1.2 + np.mean(d.bp)\n",
        "bp_scaled_minmax = np.min(bp_scaled), np.max(bp_scaled)\n",
        "bp_minmax = np.min(d.bp), np.max(d.bp)\n",
        "\n",
        "d.T = RangeArray(np.linspace(*bp_scaled_minmax,d.N), *bp_minmax)\n",
        "d.TC = Range(bp_scaled[-1], *bp_minmax)\n",
        "\n",
        "Lguess = np.repeat(d.D*(d.reflux_ratio),d.N)\n",
        "Lguess[d.F_stage:]+=d.F\n",
        "\n",
        "d.L = RangeArray(Lguess, 0., 2*d.F*d.reflux_ratio)\n",
        "d.V = RangeArray(np.repeat(d.D*(d.reflux_ratio+1),d.N), 0., 2*d.F*d.reflux_ratio)\n",
        "\n",
        "QBGuess = d.D * (d.reflux_ratio+1)* np.mean(p.HvapNB)\n",
        "d.QB = Range(QBGuess, 0., 2*QBGuess )\n",
        "d.QC = Range(QBGuess, 0., 2*QBGuess)\n",
        "\n",
        "d.Lx = CompArray(np.tile(d.Fz,(d.N,1)))\n",
        "d.Vy = CompArray(np.tile(d.Fz,(d.N,1)))\n",
        "\n"
      ],
      "metadata": {
        "id": "cPLRlJOS52Fs"
      },
      "execution_count": 169,
      "outputs": []
    },
    {
      "cell_type": "code",
      "source": [
        "x0, x2nt, wrap, x2unk, const   = d2nt(d)"
      ],
      "metadata": {
        "id": "rHVxiki_phXS"
      },
      "execution_count": 170,
      "outputs": []
    },
    {
      "cell_type": "code",
      "source": [
        "r = DotDict()\n",
        "\n",
        "r.MB = np.zeros((d.N,d.NC))\n",
        "r.EB = np.zeros(d.N)\n",
        "zeros = np.zeros((1,p.N_comps))\n",
        "def eqs(d):\n",
        "    r.EQUIL = d.Lx * p.NRTL_gamma(d.Lx,d.T)* p.Pvap(d.T) - d.Vy*d.P\n",
        "\n",
        "\n",
        "    r.Lin = np.r_[(d.L[0]*d.Vy[0])[None,:], d.L[1:,None]*d.Lx[:-1]]\n",
        "\n",
        "    r.Lout = np.r_[d.L[1:,None]*d.Lx[:-1], (d.B*d.Lx[-1])[None,:]]\n",
        "\n",
        "    r.Vin = np.r_[d.V[1:,None]*d.Vy[1:], zeros]\n",
        "    r.Vout = d.V[:,None]*d.Vy\n",
        "\n",
        "    r.MB[:] = r.Lin - r.Lout + r.Vin - r.Vout\n",
        "\n",
        "    r.MB[d.F_stage-1] += d.F*d.Fz\n",
        "\n",
        "    r.TCBP = np.atleast_1d(np.sum(d.Vy[0]* p.NRTL_gamma(d.Vy[0],d.TC) * p.Pvap(d.TC)) - d.P)\n",
        "\n",
        "    r.T = np.insert(d.T,0,d.TC)\n",
        "    r.EB[:] = p.Hl(r.Lin, r.T[:-1]) + p.Hv(r.Vin, r.T[1:]) - p.Hl(r.Lout, r.T[1:]) - p.Hv(r.Vout, r.T[1:])\n",
        "    r.EB[d.F_stage-1] += p.Hl(d.F*d.Fz, d.FT)\n",
        "    r.EB[-1]+=d.QB\n",
        "\n",
        "    r.CONDENSER = np.atleast_1d(p.Hv(r.Vout[0],r.T[1]) - p.Hl(r.Vout[0], r.T[0]) - d.QC)\n",
        "\n",
        "    r.RF = np.atleast_1d((d.V[0]-d.D)/d.D) - d.reflux_ratio\n",
        "    return np.concatenate([np.ravel(r.EQUIL), np.ravel(r.MB), np.ravel(r.EB), r.TCBP, r.RF, r.CONDENSER]), r\n"
      ],
      "metadata": {
        "id": "_4hviOyfp1k5"
      },
      "execution_count": 239,
      "outputs": []
    },
    {
      "cell_type": "code",
      "source": [
        "\n",
        "def eqs_jax(d):\n",
        "    zeros = jnp.zeros((1,p.N_comps))\n",
        "    r = DotDict()\n",
        "    r.EQUIL = d.Lx * p.NRTL_gamma(d.Lx,d.T)* p.Pvap(d.T) - d.Vy*d.P\n",
        "\n",
        "\n",
        "    r.Lin = jnp.r_[(d.L[0]*d.Vy[0])[None,:], d.L[1:,None]*d.Lx[:-1]]\n",
        "\n",
        "    r.Lout = jnp.r_[d.L[1:,None]*d.Lx[:-1], (d.B*d.Lx[-1])[None,:]]\n",
        "\n",
        "    r.Vin = jnp.r_[d.V[1:,None]*d.Vy[1:], zeros]\n",
        "    r.Vout = d.V[:,None]*d.Vy\n",
        "\n",
        "    r.MB = r.Lin - r.Lout + r.Vin - r.Vout\n",
        "\n",
        "    r.MB=r.MB.at[d.F_stage-1].add(d.F*d.Fz)\n",
        "\n",
        "    r.TCBP = jnp.atleast_1d(jnp.sum(d.Vy[0]* p.NRTL_gamma(d.Vy[0],d.TC) * p.Pvap(d.TC)) - d.P)\n",
        "\n",
        "    r.T = jnp.insert(d.T,0,d.TC)\n",
        "    r.EB = p.Hl(r.Lin, r.T[:-1]) + p.Hv(r.Vin, r.T[1:]) - p.Hl(r.Lout, r.T[1:]) - p.Hv(r.Vout, r.T[1:])\n",
        "    r.EB=r.EB.at[d.F_stage-1].add(p.Hl(d.F*d.Fz, d.FT))\n",
        "    r.EB=r.EB.at[-1].add(d.QB)\n",
        "\n",
        "    r.CONDENSER = jnp.atleast_1d(p.Hv(r.Vout[0],r.T[1]) - p.Hl(r.Vout[0], r.T[0]) - d.QC)\n",
        "\n",
        "    r.RF = jnp.atleast_1d((d.V[0]-d.D)/d.D) - d.reflux_ratio\n",
        "    return jnp.concatenate([jnp.ravel(r.EQUIL), jnp.ravel(r.MB), jnp.ravel(r.EB), r.TCBP, r.RF, r.CONDENSER]), r"
      ],
      "metadata": {
        "id": "oobYo7Qt9UpS"
      },
      "execution_count": 240,
      "outputs": []
    },
    {
      "cell_type": "code",
      "source": [
        "eqs_wrapped = wrap(eqs_jax)\n",
        "eqs_jit=jax.jit(eqs_wrapped)\n",
        "jac=jax.jit(jax.jacobian(eqs_wrapped))"
      ],
      "metadata": {
        "id": "PCFvkYbXt3VL"
      },
      "execution_count": 248,
      "outputs": []
    },
    {
      "cell_type": "code",
      "source": [
        "sol=minimize(lambda x: 0., x0, method='SLSQP', bounds=[(-15,15)]*len(x0), constraints=dict(type='eq',fun=eqs_jit,jac=jac))\n",
        "# sol=root(eqs_jit,x0,jac=jac,method='lm')"
      ],
      "metadata": {
        "id": "mTDsIbrhzcai"
      },
      "execution_count": 262,
      "outputs": []
    },
    {
      "cell_type": "code",
      "source": [
        "eqs_jax(x2nt(sol.x))"
      ],
      "metadata": {
        "colab": {
          "base_uri": "https://localhost:8080/"
        },
        "id": "bcUjPmRH_2q1",
        "outputId": "00066433-3f37-4c34-ce24-65c7318cd585"
      },
      "execution_count": 261,
      "outputs": [
        {
          "output_type": "execute_result",
          "data": {
            "text/plain": [
              "(DeviceArray([-1.38243195e-10, -2.18278728e-10,  1.67347025e-10,\n",
              "              -7.27595761e-12, -8.00355338e-11,  7.27595761e-12,\n",
              "               1.97542249e-09,  2.12457962e-09,  1.69166015e-09,\n",
              "               5.24960342e-09,  7.42147677e-09,  5.71526471e-09,\n",
              "              -3.63797881e-10,  4.07453626e-10,  4.36557457e-11,\n",
              "               8.00355338e-11,  3.63797881e-10, -8.73114914e-11,\n",
              "              -2.29192665e-10, -6.47560228e-10, -1.45519152e-10,\n",
              "              -8.36735126e-11,  1.30967237e-10, -1.60071068e-10,\n",
              "              -6.54836185e-11,  1.96450856e-10, -8.00355338e-11,\n",
              "              -1.23691279e-10, -1.23691279e-10, -2.69210432e-10,\n",
              "              -2.91038305e-11,  1.23691279e-10,  1.16415322e-10,\n",
              "               3.63797881e-12, -8.00355338e-11, -5.09317033e-11,\n",
              "               1.05501385e-10,  5.67524694e-10,  3.34694050e-10,\n",
              "               5.45696821e-11, -1.45519152e-10, -1.38243195e-10,\n",
              "               4.00177669e-11,  6.18456397e-11, -1.38243195e-10,\n",
              "              -7.10542736e-15, -2.13162821e-14, -7.10542736e-15,\n",
              "               1.42108547e-14,  0.00000000e+00, -7.10542736e-15,\n",
              "              -7.10542736e-15,  0.00000000e+00,  4.26325641e-14,\n",
              "               7.10542736e-15,  2.84217094e-14, -4.26325641e-14,\n",
              "              -1.42108547e-14, -1.42108547e-14,  7.10542736e-15,\n",
              "              -1.42108547e-14, -3.55271368e-14, -7.10542736e-15,\n",
              "               3.55271368e-14,  2.84217094e-14,  5.68434189e-14,\n",
              "              -7.10542736e-15, -7.10542736e-15,  1.42108547e-14,\n",
              "              -1.42108547e-14,  0.00000000e+00, -5.68434189e-14,\n",
              "               2.13162821e-14,  2.13162821e-14, -2.84217094e-14,\n",
              "              -2.13162821e-14,  0.00000000e+00,  7.10542736e-14,\n",
              "               1.42108547e-14, -7.10542736e-15,  0.00000000e+00,\n",
              "              -7.10542736e-15,  2.13162821e-14, -2.84217094e-14,\n",
              "               0.00000000e+00, -4.26325641e-14, -7.10542736e-14,\n",
              "               7.10542736e-15,  2.13162821e-14,  5.68434189e-14,\n",
              "               3.72529030e-08,  7.45058060e-09, -5.21540642e-08,\n",
              "              -6.70552254e-08,  8.94069672e-08,  2.23517418e-08,\n",
              "              -3.35276127e-08, -7.45058060e-09,  3.72529030e-08,\n",
              "               7.45058060e-09, -4.47034836e-08,  0.00000000e+00,\n",
              "               0.00000000e+00,  4.47034836e-08, -3.81842256e-08,\n",
              "               5.82076609e-11,  0.00000000e+00, -7.45058060e-09],            dtype=float64),\n",
              " {'EQUIL': DeviceArray([[-1.38243195e-10, -2.18278728e-10,  1.67347025e-10],\n",
              "               [-7.27595761e-12, -8.00355338e-11,  7.27595761e-12],\n",
              "               [ 1.97542249e-09,  2.12457962e-09,  1.69166015e-09],\n",
              "               [ 5.24960342e-09,  7.42147677e-09,  5.71526471e-09],\n",
              "               [-3.63797881e-10,  4.07453626e-10,  4.36557457e-11],\n",
              "               [ 8.00355338e-11,  3.63797881e-10, -8.73114914e-11],\n",
              "               [-2.29192665e-10, -6.47560228e-10, -1.45519152e-10],\n",
              "               [-8.36735126e-11,  1.30967237e-10, -1.60071068e-10],\n",
              "               [-6.54836185e-11,  1.96450856e-10, -8.00355338e-11],\n",
              "               [-1.23691279e-10, -1.23691279e-10, -2.69210432e-10],\n",
              "               [-2.91038305e-11,  1.23691279e-10,  1.16415322e-10],\n",
              "               [ 3.63797881e-12, -8.00355338e-11, -5.09317033e-11],\n",
              "               [ 1.05501385e-10,  5.67524694e-10,  3.34694050e-10],\n",
              "               [ 5.45696821e-11, -1.45519152e-10, -1.38243195e-10],\n",
              "               [ 4.00177669e-11,  6.18456397e-11, -1.38243195e-10]],            dtype=float64),\n",
              "  'Lin': DeviceArray([[ 52.53110683,  57.42796944,  40.04092373],\n",
              "               [ 49.49362612,  58.95258168,  41.40326584],\n",
              "               [ 46.73672173,  59.92360423,  43.03743202],\n",
              "               [ 44.16784297,  60.2041877 ,  45.16247969],\n",
              "               [ 41.64592776,  59.51777958,  48.17884482],\n",
              "               [ 38.89886896,  57.26260022,  52.92727996],\n",
              "               [ 35.2060433 ,  51.87648542,  61.60965084],\n",
              "               [ 47.32053945,  64.55195547, 144.78922199],\n",
              "               [ 47.47933487,  64.4125417 , 144.77601422],\n",
              "               [ 47.65108308,  64.25895873, 144.76445315],\n",
              "               [ 47.83247951,  64.08190261, 144.76670257],\n",
              "               [ 48.00093266,  63.8368426 , 144.84734011],\n",
              "               [ 48.03055567,  63.29362903, 145.34869572],\n",
              "               [ 47.22304448,  61.21517995, 148.1312037 ],\n",
              "               [ 41.02579437,  50.05961645, 164.81498878]], dtype=float64),\n",
              "  'Lout': DeviceArray([[ 49.49362612,  58.95258168,  41.40326584],\n",
              "               [ 46.73672173,  59.92360423,  43.03743202],\n",
              "               [ 44.16784297,  60.2041877 ,  45.16247969],\n",
              "               [ 41.64592776,  59.51777958,  48.17884482],\n",
              "               [ 38.89886896,  57.26260022,  52.92727996],\n",
              "               [ 35.2060433 ,  51.87648542,  61.60965084],\n",
              "               [ 47.32053945,  64.55195547, 144.78922199],\n",
              "               [ 47.47933487,  64.4125417 , 144.77601422],\n",
              "               [ 47.65108308,  64.25895873, 144.76445315],\n",
              "               [ 47.83247951,  64.08190261, 144.76670257],\n",
              "               [ 48.00093266,  63.8368426 , 144.84734011],\n",
              "               [ 48.03055567,  63.29362903, 145.34869572],\n",
              "               [ 47.22304448,  61.21517995, 148.1312037 ],\n",
              "               [ 41.02579437,  50.05961645, 164.81498878],\n",
              "               [  4.74688932,   4.25720306,  75.99590763]], dtype=float64),\n",
              "  'Vin': DeviceArray([[54.7467368 , 64.69537863, 45.40735821],\n",
              "               [51.98983242, 65.66640117, 47.04152439],\n",
              "               [49.42095365, 65.94698464, 49.16657206],\n",
              "               [46.89903844, 65.26057652, 52.18293719],\n",
              "               [44.15197965, 63.00539716, 56.93137233],\n",
              "               [40.45915398, 57.61928236, 65.61374322],\n",
              "               [42.57365013, 60.29475241, 68.79331436],\n",
              "               [42.73244555, 60.15533864, 68.7801066 ],\n",
              "               [42.90419377, 60.00175568, 68.76854553],\n",
              "               [43.08559019, 59.82469956, 68.77079494],\n",
              "               [43.25404335, 59.57963954, 68.85143248],\n",
              "               [43.28366635, 59.03642598, 69.35278809],\n",
              "               [42.47615517, 56.9579769 , 72.13529608],\n",
              "               [36.27890506, 45.8024134 , 88.81908116],\n",
              "               [ 0.        ,  0.        ,  0.        ]], dtype=float64),\n",
              "  'Vout': DeviceArray([[57.78421751, 63.17076638, 44.04501611],\n",
              "               [54.7467368 , 64.69537863, 45.40735821],\n",
              "               [51.98983242, 65.66640117, 47.04152439],\n",
              "               [49.42095365, 65.94698464, 49.16657206],\n",
              "               [46.89903844, 65.26057652, 52.18293719],\n",
              "               [44.15197965, 63.00539716, 56.93137233],\n",
              "               [40.45915398, 57.61928236, 65.61374322],\n",
              "               [42.57365013, 60.29475241, 68.79331436],\n",
              "               [42.73244555, 60.15533864, 68.7801066 ],\n",
              "               [42.90419377, 60.00175568, 68.76854553],\n",
              "               [43.08559019, 59.82469956, 68.77079494],\n",
              "               [43.25404335, 59.57963954, 68.85143248],\n",
              "               [43.28366635, 59.03642598, 69.35278809],\n",
              "               [42.47615517, 56.9579769 , 72.13529608],\n",
              "               [36.27890506, 45.8024134 , 88.81908116]], dtype=float64),\n",
              "  'MB': DeviceArray([[-7.10542736e-15, -2.13162821e-14, -7.10542736e-15],\n",
              "               [ 1.42108547e-14,  0.00000000e+00, -7.10542736e-15],\n",
              "               [-7.10542736e-15,  0.00000000e+00,  4.26325641e-14],\n",
              "               [ 7.10542736e-15,  2.84217094e-14, -4.26325641e-14],\n",
              "               [-1.42108547e-14, -1.42108547e-14,  7.10542736e-15],\n",
              "               [-1.42108547e-14, -3.55271368e-14, -7.10542736e-15],\n",
              "               [ 3.55271368e-14,  2.84217094e-14,  5.68434189e-14],\n",
              "               [-7.10542736e-15, -7.10542736e-15,  1.42108547e-14],\n",
              "               [-1.42108547e-14,  0.00000000e+00, -5.68434189e-14],\n",
              "               [ 2.13162821e-14,  2.13162821e-14, -2.84217094e-14],\n",
              "               [-2.13162821e-14,  0.00000000e+00,  7.10542736e-14],\n",
              "               [ 1.42108547e-14, -7.10542736e-15,  0.00000000e+00],\n",
              "               [-7.10542736e-15,  2.13162821e-14, -2.84217094e-14],\n",
              "               [ 0.00000000e+00, -4.26325641e-14, -7.10542736e-14],\n",
              "               [ 7.10542736e-15,  2.13162821e-14,  5.68434189e-14]],            dtype=float64),\n",
              "  'TCBP': DeviceArray([5.82076609e-11], dtype=float64),\n",
              "  'T': DeviceArray([352.3958534 , 352.44013578, 352.48097275, 352.5219882 ,\n",
              "               352.57101141, 352.64880986, 352.82555878, 353.46267848,\n",
              "               353.46182256, 353.46094446, 353.460276  , 353.46107074,\n",
              "               353.47002109, 353.52399687, 353.86826911, 357.32306792],            dtype=float64),\n",
              "  'EB': DeviceArray([ 3.72529030e-08,  7.45058060e-09, -5.21540642e-08,\n",
              "               -6.70552254e-08,  8.94069672e-08,  2.23517418e-08,\n",
              "               -3.35276127e-08, -7.45058060e-09,  3.72529030e-08,\n",
              "                7.45058060e-09, -4.47034836e-08,  0.00000000e+00,\n",
              "                0.00000000e+00,  4.47034836e-08, -3.81842256e-08],            dtype=float64),\n",
              "  'CONDENSER': DeviceArray([-7.4505806e-09], dtype=float64),\n",
              "  'RF': DeviceArray([0.], dtype=float64)})"
            ]
          },
          "metadata": {},
          "execution_count": 261
        }
      ]
    },
    {
      "cell_type": "code",
      "source": [
        "x2nt(sol.x)._asdict()"
      ],
      "metadata": {
        "id": "AetCqijIr3lF",
        "colab": {
          "base_uri": "https://localhost:8080/"
        },
        "outputId": "ced23693-79c3-4aed-f89e-3068ce212ad3"
      },
      "execution_count": 265,
      "outputs": [
        {
          "output_type": "execute_result",
          "data": {
            "text/plain": [
              "OrderedDict([('P', DeviceArray(100000., dtype=float64)),\n",
              "             ('N', DeviceArray(15, dtype=int64)),\n",
              "             ('NC', DeviceArray(3, dtype=int64)),\n",
              "             ('F', DeviceArray(100., dtype=float64)),\n",
              "             ('Fz', DeviceArray([0.1, 0.1, 0.8], dtype=float64)),\n",
              "             ('FT', DeviceArray(320., dtype=float64)),\n",
              "             ('D', DeviceArray(15., dtype=float64)),\n",
              "             ('B', DeviceArray(85., dtype=float64)),\n",
              "             ('F_stage', DeviceArray(7, dtype=int64)),\n",
              "             ('reflux_ratio', DeviceArray(10, dtype=int64)),\n",
              "             ('bp',\n",
              "              DeviceArray([351.12430999, 355.285959  , 372.77897168], dtype=float64)),\n",
              "             ('T',\n",
              "              DeviceArray([352.44013578, 352.48097275, 352.5219882 , 352.57101141,\n",
              "                           352.64880986, 352.82555878, 353.46267848, 353.46182256,\n",
              "                           353.46094446, 353.460276  , 353.46107074, 353.47002109,\n",
              "                           353.52399687, 353.86826911, 357.32306792], dtype=float64)),\n",
              "             ('TC', DeviceArray(352.3958534, dtype=float64)),\n",
              "             ('L',\n",
              "              DeviceArray([150.        , 149.84947364, 149.69775798, 149.53451035,\n",
              "                           149.34255216, 149.08874914, 148.69217956, 256.6617169 ,\n",
              "                           256.66789079, 256.67449497, 256.68108469, 256.68511537,\n",
              "                           256.67288042, 256.56942814, 255.90039961], dtype=float64)),\n",
              "             ('V',\n",
              "              DeviceArray([165.        , 164.84947364, 164.69775798, 164.53451035,\n",
              "                           164.34255216, 164.08874914, 163.69217956, 171.6617169 ,\n",
              "                           171.66789079, 171.67449497, 171.68108469, 171.68511537,\n",
              "                           171.67288042, 171.56942814, 170.90039961], dtype=float64)),\n",
              "             ('QB', DeviceArray(6988098.75294509, dtype=float64)),\n",
              "             ('QC', DeviceArray(6606276.74991221, dtype=float64)),\n",
              "             ('Lx', DeviceArray([[0.33028896, 0.393412  , 0.27629904],\n",
              "                           [0.31220723, 0.40029727, 0.2874955 ],\n",
              "                           [0.29536889, 0.40261066, 0.30202045],\n",
              "                           [0.27886177, 0.39853196, 0.32260628],\n",
              "                           [0.26091083, 0.38408398, 0.35500519],\n",
              "                           [0.23677132, 0.3488851 , 0.41434359],\n",
              "                           [0.18436929, 0.25150598, 0.56412473],\n",
              "                           [0.18498354, 0.25095676, 0.5640597 ],\n",
              "                           [0.18564791, 0.25035194, 0.56400015],\n",
              "                           [0.18634984, 0.24965573, 0.56399443],\n",
              "                           [0.18700318, 0.2486971 , 0.56429973],\n",
              "                           [0.1871275 , 0.24659258, 0.56627991],\n",
              "                           [0.18405562, 0.23859109, 0.57735329],\n",
              "                           [0.16031938, 0.19562149, 0.64405913],\n",
              "                           [0.05584576, 0.05008474, 0.8940695 ]], dtype=float64)),\n",
              "             ('Vy', DeviceArray([[0.35020738, 0.38285313, 0.26693949],\n",
              "                           [0.33210137, 0.39245123, 0.2754474 ],\n",
              "                           [0.31566812, 0.39870853, 0.28562334],\n",
              "                           [0.30036832, 0.40080944, 0.29882225],\n",
              "                           [0.28537368, 0.39710091, 0.31752542],\n",
              "                           [0.26907378, 0.38397146, 0.34695476],\n",
              "                           [0.24716608, 0.35199777, 0.40083615],\n",
              "                           [0.248009  , 0.35124169, 0.40074931],\n",
              "                           [0.24892509, 0.35041695, 0.40065796],\n",
              "                           [0.24991595, 0.34950885, 0.4005752 ],\n",
              "                           [0.25096294, 0.34846413, 0.40057293],\n",
              "                           [0.25193823, 0.34702857, 0.40103321],\n",
              "                           [0.25212874, 0.34388906, 0.4039822 ],\n",
              "                           [0.24757415, 0.33198209, 0.42044376],\n",
              "                           [0.21228098, 0.26800647, 0.51971254]], dtype=float64))])"
            ]
          },
          "metadata": {},
          "execution_count": 265
        }
      ]
    },
    {
      "cell_type": "code",
      "source": [],
      "metadata": {
        "id": "K5xzBUBc2mLO"
      },
      "execution_count": null,
      "outputs": []
    }
  ]
}