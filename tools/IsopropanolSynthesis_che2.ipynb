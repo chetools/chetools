{
  "nbformat": 4,
  "nbformat_minor": 0,
  "metadata": {
    "colab": {
      "name": "IsopropanolSynthesis_che2.ipynb",
      "provenance": [],
      "collapsed_sections": [],
      "authorship_tag": "ABX9TyNaLtl5N0xSSLGvys+Hv3Qg",
      "include_colab_link": true
    },
    "kernelspec": {
      "name": "python3",
      "display_name": "Python 3"
    },
    "language_info": {
      "name": "python"
    }
  },
  "cells": [
    {
      "cell_type": "markdown",
      "metadata": {
        "id": "view-in-github",
        "colab_type": "text"
      },
      "source": [
        "<a href=\"https://colab.research.google.com/github/profteachkids/chetools/blob/main/tools/IsopropanolSynthesis_che2.ipynb\" target=\"_parent\"><img src=\"https://colab.research.google.com/assets/colab-badge.svg\" alt=\"Open In Colab\"/></a>"
      ]
    },
    {
      "cell_type": "code",
      "source": [
        "!wget -N -q https://raw.githubusercontent.com/profteachkids/chetools/main/tools/che2.ipynb -O che2.ipynb\n",
        "!pip install importnb"
      ],
      "metadata": {
        "id": "Gwp9C2bBoebL",
        "colab": {
          "base_uri": "https://localhost:8080/"
        },
        "outputId": "2a1c9497-8018-408f-f4f4-bae7a5d9d95e"
      },
      "execution_count": 1,
      "outputs": [
        {
          "output_type": "stream",
          "name": "stdout",
          "text": [
            "Looking in indexes: https://pypi.org/simple, https://us-python.pkg.dev/colab-wheels/public/simple/\n",
            "Collecting importnb\n",
            "  Downloading importnb-0.7.0-py3-none-any.whl (24 kB)\n",
            "Installing collected packages: importnb\n",
            "Successfully installed importnb-0.7.0\n"
          ]
        }
      ]
    },
    {
      "cell_type": "code",
      "source": [
        "from importnb import Notebook\n",
        "with Notebook(): \n",
        "    from che2 import DotDict, Range, RangeArray, Comp, CompArray, d2nt, Props"
      ],
      "metadata": {
        "id": "e-4zIaZrKnmz"
      },
      "execution_count": 2,
      "outputs": []
    },
    {
      "cell_type": "code",
      "execution_count": 3,
      "metadata": {
        "id": "EQTOJoLTGQgb"
      },
      "outputs": [],
      "source": [
        "import jax\n",
        "import jax.numpy as jnp\n",
        "from scipy.optimize import least_squares"
      ]
    },
    {
      "cell_type": "markdown",
      "source": [
        "<img src='https://github.com/profteachkids/CHE2064_Spring2022/raw/main/IsopropylSynthesisProcessDiagram.jpg'>"
      ],
      "metadata": {
        "id": "rPIq5KWqCytb"
      }
    },
    {
      "cell_type": "code",
      "source": [
        "# Static parameters (Total feed, feed mole fradtions, feed temperature and )\n",
        "# 1. propene\n",
        "# 2. diisopropyl ether\n",
        "# 3. isopropanol\n",
        "# 4. water\n",
        "# Rx1:  C3H6 + H2O -> C3H8O\n",
        "# Rx2:  2C3H8O -> C6H14 + H2O \n",
        "\n",
        "#Simple version - Overall mass balance only\n",
        "\n",
        "e = DotDict()\n",
        "e.alkeneF = 100.\n",
        "e.waterF = 100.\n",
        "\n",
        "e.alkeney = jnp.array([1., 0., 0., 0.])\n",
        "e.waterx = jnp.array([0., 0., 0., 1.])\n",
        "\n",
        "e.rx1 = jnp.array([-1, 0, 1, -1])\n",
        "e.rx2 = jnp.array([0, 1, -2, 1])\n",
        "\n",
        "e.rx1_extent = Range(e.alkeneF/2, 0., e.alkeneF)\n",
        "e.rx2_extent = Range(e.alkeneF/4, 0., e.alkeneF/2)\n",
        "\n",
        "e.alcoholP = Range(e.alkeneF/2, 0., e.alkeneF)  \n",
        "e.alcoholPx = jnp.array([0., 0.005, 0.94, 0.055])\n",
        "\n",
        "e.etherP = Range(e.alkeneF/2, 0., e.alkeneF)\n",
        "e.etherPx = jnp.array([0.001, 0.98, 0.018, 0.002])"
      ],
      "metadata": {
        "id": "y91AfkgeM3XL",
        "outputId": "29fe6cd9-a3e1-4b29-b012-9675e9b9889c",
        "colab": {
          "base_uri": "https://localhost:8080/"
        }
      },
      "execution_count": 4,
      "outputs": [
        {
          "output_type": "stream",
          "name": "stderr",
          "text": [
            "WARNING:absl:No GPU/TPU found, falling back to CPU. (Set TF_CPP_MIN_LOG_LEVEL=0 and rerun for more info.)\n"
          ]
        }
      ]
    },
    {
      "cell_type": "code",
      "source": [
        "x, x2nt, wrap, nt0, x2unk, x2const  = d2nt(e)"
      ],
      "metadata": {
        "id": "W1SjV7rkND3_"
      },
      "execution_count": 5,
      "outputs": []
    },
    {
      "cell_type": "code",
      "source": [
        "def eqs(d):\n",
        "    r=DotDict()\n",
        "    feed = d.alkeneF*d.alkeney + d.waterF*d.waterx \n",
        "    product = (d.etherP*d.etherPx + d.alcoholP*d.alcoholPx)\n",
        "\n",
        "    molecular_balance = feed + d.rx1_extent*d.rx1 + d.rx2_extent*d.rx2 - product\n",
        "\n",
        "    r.alkene = d.alkeneF*d.alkeney\n",
        "    r.water = d.waterF*d.waterx \n",
        "    r.ether = d.etherP*d.etherPx\n",
        "    r.alcohol = d.alcoholP*d.alcoholPx\n",
        "    return molecular_balance, r"
      ],
      "metadata": {
        "id": "ihz1HodGNG6_"
      },
      "execution_count": 6,
      "outputs": []
    },
    {
      "cell_type": "code",
      "source": [
        "eqs_wrapped, jac = wrap(eqs)\n",
        "eqs_wrapped(x)"
      ],
      "metadata": {
        "colab": {
          "base_uri": "https://localhost:8080/"
        },
        "id": "T6SyaBMhNMzj",
        "outputId": "4ee5b515-6d44-4ff0-b5ab-87d436cfc2ee"
      },
      "execution_count": 7,
      "outputs": [
        {
          "output_type": "execute_result",
          "data": {
            "text/plain": [
              "DeviceArray([ 49.95, -24.25, -47.9 ,  72.15], dtype=float64)"
            ]
          },
          "metadata": {},
          "execution_count": 7
        }
      ]
    },
    {
      "cell_type": "code",
      "source": [
        "sol=least_squares(eqs_wrapped, x, jac=jac, x_scale='jac')\n",
        "print(sol)"
      ],
      "metadata": {
        "colab": {
          "base_uri": "https://localhost:8080/"
        },
        "id": "Yq8Nq50_NVWf",
        "outputId": "95abd38e-1400-4668-d291-34a43325007b"
      },
      "execution_count": 8,
      "outputs": [
        {
          "output_type": "stream",
          "name": "stdout",
          "text": [
            " active_mask: array([0., 0., 0., 0.])\n",
            "        cost: 3.671435684721282e-20\n",
            "         fun: array([ 1.56442134e-10,  1.77635684e-15, -1.56461510e-10,  1.56442859e-10])\n",
            "        grad: array([-2.28048451e-12,  2.20084537e-09,  6.40141415e-10,  1.08419890e-11])\n",
            "         jac: array([[-4.85885054e-03,  0.00000000e+00,  0.00000000e+00,\n",
            "        -4.62297928e-03],\n",
            "       [ 0.00000000e+00,  4.68895830e+00, -2.31148964e-02,\n",
            "        -4.53051969e+00],\n",
            "       [ 4.85885054e-03, -9.37791660e+00, -4.34560052e+00,\n",
            "        -8.32136270e-02],\n",
            "       [-4.85885054e-03,  4.68895830e+00, -2.54263860e-01,\n",
            "        -9.24595855e-03]])\n",
            "     message: '`gtol` termination condition is satisfied.'\n",
            "        nfev: 19\n",
            "        njev: 19\n",
            "  optimality: 2.200845365517745e-09\n",
            "      status: 1\n",
            "     success: True\n",
            "           x: array([ 9.93202639, -2.14550313,  2.97450864, -2.97450864])\n"
          ]
        }
      ]
    },
    {
      "cell_type": "code",
      "source": [
        "nt=x2nt(sol.x)\n",
        "nt._asdict()"
      ],
      "metadata": {
        "colab": {
          "base_uri": "https://localhost:8080/"
        },
        "id": "8bm3_bzwNj7i",
        "outputId": "37d48829-bba2-4fcd-8599-3dbd977f69b7"
      },
      "execution_count": 9,
      "outputs": [
        {
          "output_type": "execute_result",
          "data": {
            "text/plain": [
              "OrderedDict([('alkeneF', DeviceArray(100., dtype=float64)),\n",
              "             ('waterF', DeviceArray(100., dtype=float64)),\n",
              "             ('alkeney', DeviceArray([1., 0., 0., 0.], dtype=float64)),\n",
              "             ('waterx', DeviceArray([0., 0., 0., 1.], dtype=float64)),\n",
              "             ('rx1', DeviceArray([-1,  0,  1, -1], dtype=int64)),\n",
              "             ('rx2', DeviceArray([ 0,  1, -2,  1], dtype=int64)),\n",
              "             ('rx1_extent', DeviceArray(99.99514091, dtype=float64)),\n",
              "             ('rx2_extent', DeviceArray(5.23760933, dtype=float64)),\n",
              "             ('alcoholP', DeviceArray(95.14091351, dtype=float64)),\n",
              "             ('alcoholPx',\n",
              "              DeviceArray([0.   , 0.005, 0.94 , 0.055], dtype=float64)),\n",
              "             ('etherP', DeviceArray(4.85908649, dtype=float64)),\n",
              "             ('etherPx',\n",
              "              DeviceArray([0.001, 0.98 , 0.018, 0.002], dtype=float64))])"
            ]
          },
          "metadata": {},
          "execution_count": 9
        }
      ]
    },
    {
      "cell_type": "code",
      "source": [
        "unk=x2unk(sol.x)\n",
        "unk._asdict()"
      ],
      "metadata": {
        "colab": {
          "base_uri": "https://localhost:8080/"
        },
        "id": "FhE1ZXdaAbHE",
        "outputId": "ba185625-e2e9-4b42-d4fb-1b6ef68664cf"
      },
      "execution_count": 10,
      "outputs": [
        {
          "output_type": "execute_result",
          "data": {
            "text/plain": [
              "OrderedDict([('rx1_extent', DeviceArray(99.99514091, dtype=float64)),\n",
              "             ('rx2_extent', DeviceArray(5.23760933, dtype=float64)),\n",
              "             ('alcoholP', DeviceArray(95.14091351, dtype=float64)),\n",
              "             ('etherP', DeviceArray(4.85908649, dtype=float64))])"
            ]
          },
          "metadata": {},
          "execution_count": 10
        }
      ]
    },
    {
      "cell_type": "code",
      "source": [
        "x2const()._asdict()"
      ],
      "metadata": {
        "colab": {
          "base_uri": "https://localhost:8080/"
        },
        "id": "b8ZBqSQZCXmp",
        "outputId": "2e44726b-00e5-4cbe-d388-0ccd3dbe0da2"
      },
      "execution_count": 11,
      "outputs": [
        {
          "output_type": "execute_result",
          "data": {
            "text/plain": [
              "OrderedDict([('alkeneF', DeviceArray(100., dtype=float64)),\n",
              "             ('waterF', DeviceArray(100., dtype=float64)),\n",
              "             ('alkeney', DeviceArray([1., 0., 0., 0.], dtype=float64)),\n",
              "             ('waterx', DeviceArray([0., 0., 0., 1.], dtype=float64)),\n",
              "             ('rx1', DeviceArray([-1,  0,  1, -1], dtype=int64)),\n",
              "             ('rx2', DeviceArray([ 0,  1, -2,  1], dtype=int64)),\n",
              "             ('alcoholPx',\n",
              "              DeviceArray([0.   , 0.005, 0.94 , 0.055], dtype=float64)),\n",
              "             ('etherPx',\n",
              "              DeviceArray([0.001, 0.98 , 0.018, 0.002], dtype=float64))])"
            ]
          },
          "metadata": {},
          "execution_count": 11
        }
      ]
    },
    {
      "cell_type": "code",
      "source": [
        "_, r= eqs(x2nt(sol.x))\n",
        "r"
      ],
      "metadata": {
        "colab": {
          "base_uri": "https://localhost:8080/"
        },
        "id": "YJJ3E0yYNmmM",
        "outputId": "e4270f65-3b48-4b53-97e8-9626c508e80c"
      },
      "execution_count": 12,
      "outputs": [
        {
          "output_type": "execute_result",
          "data": {
            "text/plain": [
              "{'alkene': DeviceArray([100.,   0.,   0.,   0.], dtype=float64),\n",
              " 'water': DeviceArray([  0.,   0.,   0., 100.], dtype=float64),\n",
              " 'ether': DeviceArray([0.00485909, 4.76190476, 0.08746356, 0.00971817], dtype=float64),\n",
              " 'alcohol': DeviceArray([ 0.        ,  0.47570457, 89.4324587 ,  5.23275024], dtype=float64)}"
            ]
          },
          "metadata": {},
          "execution_count": 12
        }
      ]
    },
    {
      "cell_type": "markdown",
      "source": [
        "<img src='https://github.com/profteachkids/CHE2064_Spring2022/raw/main/IsopropylSynthesisProcessDiagram.jpg'>"
      ],
      "metadata": {
        "id": "_FiCvYkNNr5a"
      }
    },
    {
      "cell_type": "code",
      "source": [
        "# Include internal flows (recycle)\n",
        "\n",
        "\n",
        "d=DotDict()\n",
        "d.alkeneF = 100.\n",
        "d.waterF = 100.\n",
        "\n",
        "d.alkeney = jnp.array([1., 0., 0., 0.])\n",
        "d.waterx = jnp.array([0., 0., 0., 1.])\n",
        "\n",
        "d.rx1 = jnp.array([-1, 0, 1, -1])\n",
        "d.rx2 = jnp.array([0, 1, -2, 1])\n",
        "\n",
        "d.rx1_extent = Range(d.alkeneF/2, 0., d.alkeneF)\n",
        "d.rx2_extent = Range(d.alkeneF/4, 0., d.alkeneF/2)\n",
        "\n",
        "d.alcoholP = Range(d.alkeneF/2, 0., d.alkeneF)  \n",
        "d.alcoholPx = jnp.array([0., 0.005, 0.94, 0.055])\n",
        "\n",
        "d.etherP = Range(d.alkeneF/2, 0., d.alkeneF)\n",
        "d.etherPx = jnp.array([0.001, 0.98, 0.018, 0.002])\n",
        "\n",
        "d.WARFR = 12. #water_alkene_reactor_feed_ratio\n",
        "\n",
        "d.D1F = Range(d.alkeneF * d.WARFR, 0., 2.*d.WARFR*d.alkeneF)\n",
        "d.D1Fx = Comp([0.001, 0.03, 0.07, 0.9])\n",
        "\n",
        "d.D1K = jnp.array([100., 10., 5., 0.2])\n",
        "d.D1Vy = Comp([0.01, 0.299, 0.3, 0.3])\n",
        "d.D1Lx = Comp([0.0001, 0.1, 0.1, 0.8])\n",
        "d.D1V = Range(d.alkeneF * d.WARFR/2, 0., 2.*d.WARFR*d.alkeneF)\n",
        "d.D1L = Range(d.alkeneF * d.WARFR/2, 0., 2.*d.WARFR*d.alkeneF)\n",
        "\n",
        "d.decantW = Range(d.alkeneF * d.WARFR, 0., 2.*d.WARFR*d.alkeneF)\n",
        "d.decantWx = jnp.array([0.001, 0.005, 0.02, 0.98]) \n"
      ],
      "metadata": {
        "id": "jZoVc-TZpa1D"
      },
      "execution_count": 13,
      "outputs": []
    },
    {
      "cell_type": "code",
      "source": [
        "x, x2nt, wrap, nt0, x2unk, x2const  = d2nt(d)"
      ],
      "metadata": {
        "id": "rHVxiki_phXS"
      },
      "execution_count": 14,
      "outputs": []
    },
    {
      "cell_type": "code",
      "source": [
        "def eqs2(d):\n",
        "    r=DotDict()\n",
        "    r.reactor_feed = d.alkeneF*d.alkeney + d.waterF*d.waterx + d.D1L*d.D1Lx + d.decantW*d.decantWx\n",
        "\n",
        "    r.REACTOR = r.reactor_feed + d.rx1_extent*d.rx1 + d.rx2_extent*d.rx2 - d.D1F*d.D1Fx\n",
        "\n",
        "    r.FEED_RATIO = jnp.atleast_1d((d.waterF+d.D1L+d.decantW)/d.alkeneF - d.WARFR)\n",
        "    \n",
        "    r.D1 = d.D1F*d.D1Fx - d.D1V*d.D1Vy - d.D1L*d.D1Lx\n",
        "    r.D1K = d.D1Vy/d.D1Lx - d.D1K\n",
        "\n",
        "    r.AZ = d.D1V*d.D1Vy - d.etherP*d.etherPx - d.alcoholP*d.alcoholPx - d.decantW*d.decantWx\n",
        "\n",
        "    r.alkene = d.alkeneF*d.alkeney\n",
        "    r.water = d.waterF*d.waterx \n",
        "    r.ether = d.etherP*d.etherPx\n",
        "    r.alcohol = d.alcoholP*d.alcoholPx\n",
        "    return jnp.concatenate([r.REACTOR, r.FEED_RATIO, r.D1, r.D1K, r.AZ]), r\n"
      ],
      "metadata": {
        "id": "KZUHitSI7nc3"
      },
      "execution_count": 15,
      "outputs": []
    },
    {
      "cell_type": "code",
      "source": [
        "eqs2_wrapped, jac = wrap(eqs2)\n",
        "eqs2_wrapped(x)"
      ],
      "metadata": {
        "id": "PCFvkYbXt3VL",
        "colab": {
          "base_uri": "https://localhost:8080/"
        },
        "outputId": "d6cd975e-345e-4a58-a10f-3d3309d6bc66"
      },
      "execution_count": 16,
      "outputs": [
        {
          "output_type": "execute_result",
          "data": {
            "text/plain": [
              "DeviceArray([ 5.00611928e+01,  5.50299646e+01,  7.79166839e-02,\n",
              "              6.52030926e+02,  7.00000000e+00, -5.46185287e+00,\n",
              "             -2.21389701e+02, -1.74097719e+02,  4.00949272e+02,\n",
              "              1.00220022e+01, -6.71034213e+00, -1.69933993e+00,\n",
              "              2.12582508e-01,  5.35066007e+00,  1.42109736e+02,\n",
              "              1.26119802e+02, -9.80830198e+02], dtype=float64)"
            ]
          },
          "metadata": {},
          "execution_count": 16
        }
      ]
    },
    {
      "cell_type": "code",
      "source": [
        "sol=least_squares(jax.jit(eqs2_wrapped),x,jac=jac, x_scale='jac')\n",
        "sol"
      ],
      "metadata": {
        "id": "l8ocZ2P2qyg5",
        "colab": {
          "base_uri": "https://localhost:8080/"
        },
        "outputId": "51872104-4739-4982-de8c-174d1c665d6d"
      },
      "execution_count": 17,
      "outputs": [
        {
          "output_type": "execute_result",
          "data": {
            "text/plain": [
              " active_mask: array([0., 0., 0., 0., 0., 0., 0., 0., 0., 0., 0., 0., 0., 0., 0., 0., 0.])\n",
              "        cost: 5.355068049086058e-26\n",
              "         fun: array([ 1.66121067e-14, -3.85561622e-16,  8.53676808e-14, -2.00371981e-13,\n",
              "        0.00000000e+00, -6.72205347e-18,  1.77635684e-15, -8.52651283e-14,\n",
              "        2.27373675e-13,  1.42108547e-14,  1.77635684e-15, -8.88178420e-16,\n",
              "       -1.11022302e-16, -5.20417043e-18, -1.66533454e-15, -2.44249065e-15,\n",
              "       -1.42108547e-14])\n",
              "        grad: array([ 1.30765053e-15, -1.74191474e-12,  1.42658895e-14,  7.87949645e-15,\n",
              "        1.76526332e-10, -6.48744411e-15, -3.02326860e-12, -1.21061920e-10,\n",
              "        1.42038086e-12, -1.96757757e-13,  4.11345709e-12, -1.42045228e-12,\n",
              "        1.65103418e-12,  8.59496457e-11,  2.65788164e-12, -1.97237510e-10,\n",
              "       -2.55044428e-12])\n",
              "         jac: array([[-4.85885038e-03,  0.00000000e+00,  0.00000000e+00,\n",
              "         0.00000000e+00, -1.04349163e-02, -2.08710361e-02,\n",
              "         1.80035965e-04,  4.52937879e-03,  0.00000000e+00,\n",
              "         0.00000000e+00,  0.00000000e+00,  1.81080106e-03,\n",
              "        -8.41082551e-06, -2.84565789e-04,  0.00000000e+00,\n",
              "         9.91567272e-04,  1.41174740e-02],\n",
              "       [ 0.00000000e+00,  4.68895830e+00,  0.00000000e+00,\n",
              "         0.00000000e+00, -5.17557918e+00,  1.80035965e-04,\n",
              "        -1.02626399e+01,  2.24651142e+00,  0.00000000e+00,\n",
              "         0.00000000e+00,  0.00000000e+00, -8.41082551e-06,\n",
              "         5.01989325e+00, -7.92551726e-01,  0.00000000e+00,\n",
              "         2.76164031e+00,  7.05873701e-02],\n",
              "       [ 4.85885038e-03, -9.37791660e+00,  0.00000000e+00,\n",
              "         0.00000000e+00, -1.30208198e+02,  4.52937879e-03,\n",
              "         2.24651142e+00, -2.03917785e+02,  0.00000000e+00,\n",
              "         0.00000000e+00,  0.00000000e+00, -2.84565789e-04,\n",
              "        -7.92551726e-01,  1.43817368e+02,  0.00000000e+00,\n",
              "         9.34353413e+01,  2.82349480e-01],\n",
              "       [-4.85885038e-03,  4.68895830e+00,  0.00000000e+00,\n",
              "         0.00000000e+00, -4.64605785e+02,  1.61616214e-02,\n",
              "         8.01594845e+00,  2.01666744e+02,  0.00000000e+00,\n",
              "         0.00000000e+00,  0.00000000e+00, -1.51782444e-03,\n",
              "        -4.22733312e+00, -1.43024532e+02,  0.00000000e+00,\n",
              "         4.98367867e+02,  1.38351245e+01],\n",
              "       [ 0.00000000e+00,  0.00000000e+00,  0.00000000e+00,\n",
              "         0.00000000e+00,  0.00000000e+00,  0.00000000e+00,\n",
              "         0.00000000e+00,  0.00000000e+00,  0.00000000e+00,\n",
              "         0.00000000e+00,  0.00000000e+00,  0.00000000e+00,\n",
              "         0.00000000e+00,  0.00000000e+00,  0.00000000e+00,\n",
              "         5.94565840e+00,  1.41174740e-01],\n",
              "       [ 0.00000000e+00,  0.00000000e+00,  0.00000000e+00,\n",
              "         0.00000000e+00,  1.04349163e-02,  2.08710361e-02,\n",
              "        -1.80035965e-04, -4.52937879e-03, -1.90574163e-02,\n",
              "         8.85326804e-04,  1.49767535e-02, -1.81080106e-03,\n",
              "         8.41082551e-06,  2.84565789e-04, -1.81529011e-02,\n",
              "        -9.91567272e-04,  0.00000000e+00],\n",
              "       [ 0.00000000e+00,  0.00000000e+00,  0.00000000e+00,\n",
              "         0.00000000e+00,  5.17557918e+00, -1.80035965e-04,\n",
              "         1.02626399e+01, -2.24651142e+00,  8.85326804e-04,\n",
              "        -5.06204216e+00,  4.17121533e+00,  8.41082551e-06,\n",
              "        -5.01989325e+00,  7.92551726e-01, -5.05581263e+00,\n",
              "        -2.76164031e+00,  0.00000000e+00],\n",
              "       [ 0.00000000e+00,  0.00000000e+00,  0.00000000e+00,\n",
              "         0.00000000e+00,  1.30208198e+02, -4.52937879e-03,\n",
              "        -2.24651142e+00,  2.03917785e+02,  1.49767535e-02,\n",
              "         4.17121533e+00, -1.92410106e+01,  2.84565789e-04,\n",
              "         7.92551726e-01, -1.43817368e+02, -8.55273544e+01,\n",
              "        -9.34353413e+01,  0.00000000e+00],\n",
              "       [ 0.00000000e+00,  0.00000000e+00,  0.00000000e+00,\n",
              "         0.00000000e+00,  4.64605785e+02, -1.61616214e-02,\n",
              "        -8.01594845e+00, -2.01666744e+02,  3.19533597e-03,\n",
              "         8.89941496e-01,  1.50548186e+01,  1.51782444e-03,\n",
              "         4.22733312e+00,  1.43024532e+02, -1.82475216e+01,\n",
              "        -4.98367867e+02,  0.00000000e+00],\n",
              "       [ 0.00000000e+00,  0.00000000e+00,  0.00000000e+00,\n",
              "         0.00000000e+00,  0.00000000e+00,  0.00000000e+00,\n",
              "         0.00000000e+00,  0.00000000e+00,  9.99833228e+01,\n",
              "        -4.64480150e+00, -7.85744278e+01, -9.99998332e+01,\n",
              "         4.64480150e-01,  1.57148856e+01,  0.00000000e+00,\n",
              "         0.00000000e+00,  0.00000000e+00],\n",
              "       [ 0.00000000e+00,  0.00000000e+00,  0.00000000e+00,\n",
              "         0.00000000e+00,  0.00000000e+00,  0.00000000e+00,\n",
              "         0.00000000e+00,  0.00000000e+00, -1.66771652e-03,\n",
              "         9.53551985e+00, -7.85744278e+00,  1.66771652e-05,\n",
              "        -9.95355198e+00,  1.57148856e+00,  0.00000000e+00,\n",
              "         0.00000000e+00,  0.00000000e+00],\n",
              "       [ 0.00000000e+00,  0.00000000e+00,  0.00000000e+00,\n",
              "         0.00000000e+00,  0.00000000e+00,  0.00000000e+00,\n",
              "         0.00000000e+00,  0.00000000e+00, -8.33858259e-04,\n",
              "        -2.32240075e-01,  1.07127861e+00,  8.33858259e-06,\n",
              "         2.32240075e-02, -4.21425572e+00,  0.00000000e+00,\n",
              "         0.00000000e+00,  0.00000000e+00],\n",
              "       [ 0.00000000e+00,  0.00000000e+00,  0.00000000e+00,\n",
              "         0.00000000e+00,  0.00000000e+00,  0.00000000e+00,\n",
              "         0.00000000e+00,  0.00000000e+00, -3.33543304e-05,\n",
              "        -9.28960301e-03, -1.57148856e-01,  3.33543304e-07,\n",
              "         9.28960301e-04,  3.14297711e-02,  0.00000000e+00,\n",
              "         0.00000000e+00,  0.00000000e+00],\n",
              "       [ 0.00000000e+00,  0.00000000e+00,  0.00000000e+00,\n",
              "        -4.62297928e-03,  0.00000000e+00,  0.00000000e+00,\n",
              "         0.00000000e+00,  0.00000000e+00,  1.90574163e-02,\n",
              "        -8.85326804e-04, -1.49767535e-02,  0.00000000e+00,\n",
              "         0.00000000e+00,  0.00000000e+00,  1.81529011e-02,\n",
              "         0.00000000e+00, -1.41174740e-02],\n",
              "       [ 0.00000000e+00,  0.00000000e+00, -2.31148964e-02,\n",
              "        -4.53051969e+00,  0.00000000e+00,  0.00000000e+00,\n",
              "         0.00000000e+00,  0.00000000e+00, -8.85326804e-04,\n",
              "         5.06204216e+00, -4.17121533e+00,  0.00000000e+00,\n",
              "         0.00000000e+00,  0.00000000e+00,  5.05581263e+00,\n",
              "         0.00000000e+00, -7.05873701e-02],\n",
              "       [ 0.00000000e+00,  0.00000000e+00, -4.34560052e+00,\n",
              "        -8.32136270e-02,  0.00000000e+00,  0.00000000e+00,\n",
              "         0.00000000e+00,  0.00000000e+00, -1.49767535e-02,\n",
              "        -4.17121533e+00,  1.92410106e+01,  0.00000000e+00,\n",
              "         0.00000000e+00,  0.00000000e+00,  8.55273544e+01,\n",
              "         0.00000000e+00, -2.82349480e-01],\n",
              "       [ 0.00000000e+00,  0.00000000e+00, -2.54263860e-01,\n",
              "        -9.24595855e-03,  0.00000000e+00,  0.00000000e+00,\n",
              "         0.00000000e+00,  0.00000000e+00, -3.19533597e-03,\n",
              "        -8.89941496e-01, -1.50548186e+01,  0.00000000e+00,\n",
              "         0.00000000e+00,  0.00000000e+00,  1.82475216e+01,\n",
              "         0.00000000e+00, -1.38351245e+01]])\n",
              "     message: '`gtol` termination condition is satisfied.'\n",
              "        nfev: 220\n",
              "        njev: 179\n",
              "  optimality: 1.9723750958516195e-10\n",
              "      status: 1\n",
              "     success: True\n",
              "           x: array([ 9.93202642e+00, -2.14550313e+00,  2.97450864e+00, -2.97450864e+00,\n",
              "        1.50113563e-04, -1.07037870e+01, -4.49723802e+00, -1.27205458e+00,\n",
              "       -6.91295416e+00, -1.28349067e+00,  1.54480699e+00, -1.31275623e+01,\n",
              "       -5.19551367e+00, -1.67406883e+00, -2.99567841e+00, -1.90913610e-01,\n",
              "       -5.12394095e+00])"
            ]
          },
          "metadata": {},
          "execution_count": 17
        }
      ]
    },
    {
      "cell_type": "code",
      "source": [
        "unk=x2unk(sol.x)\n",
        "unk._asdict()"
      ],
      "metadata": {
        "colab": {
          "base_uri": "https://localhost:8080/"
        },
        "id": "AetCqijIr3lF",
        "outputId": "ea16deb1-312d-449a-9dd3-eecda705a4b8"
      },
      "execution_count": 18,
      "outputs": [
        {
          "output_type": "execute_result",
          "data": {
            "text/plain": [
              "OrderedDict([('rx1_extent', DeviceArray(99.99514091, dtype=float64)),\n",
              "             ('rx2_extent', DeviceArray(5.23760933, dtype=float64)),\n",
              "             ('alcoholP', DeviceArray(95.14091351, dtype=float64)),\n",
              "             ('etherP', DeviceArray(4.85908649, dtype=float64)),\n",
              "             ('D1F', DeviceArray(1200.09006814, dtype=float64)),\n",
              "             ('D1Fx',\n",
              "              DeviceArray([1.73915272e-05, 8.62596534e-03, 2.17013664e-01,\n",
              "                           7.74342979e-01], dtype=float64)),\n",
              "             ('D1Vy',\n",
              "              DeviceArray([1.66771652e-04, 4.64480150e-02, 7.85744278e-01,\n",
              "                           1.67640935e-01], dtype=float64)),\n",
              "             ('D1Lx',\n",
              "              DeviceArray([1.66771652e-06, 4.64480150e-03, 1.57148856e-01,\n",
              "                           8.38204675e-01], dtype=float64)),\n",
              "             ('D1V', DeviceArray(114.29157667, dtype=float64)),\n",
              "             ('D1L', DeviceArray(1085.79849147, dtype=float64)),\n",
              "             ('decantW', DeviceArray(14.20150853, dtype=float64))])"
            ]
          },
          "metadata": {},
          "execution_count": 18
        }
      ]
    },
    {
      "cell_type": "code",
      "source": [
        "eqs2_wrapped(sol.x)"
      ],
      "metadata": {
        "id": "w7IBxauHFqQb",
        "colab": {
          "base_uri": "https://localhost:8080/"
        },
        "outputId": "a16df4ec-fec9-4766-8f02-dee9ff6afe35"
      },
      "execution_count": 19,
      "outputs": [
        {
          "output_type": "execute_result",
          "data": {
            "text/plain": [
              "DeviceArray([ 1.66121067e-14, -3.85561622e-16,  8.53676808e-14,\n",
              "             -2.00371981e-13,  0.00000000e+00, -6.72205347e-18,\n",
              "              1.77635684e-15, -8.52651283e-14,  2.27373675e-13,\n",
              "              1.42108547e-14,  1.77635684e-15, -8.88178420e-16,\n",
              "             -1.11022302e-16, -5.20417043e-18, -1.66533454e-15,\n",
              "             -2.44249065e-15, -1.42108547e-14], dtype=float64)"
            ]
          },
          "metadata": {},
          "execution_count": 19
        }
      ]
    },
    {
      "cell_type": "code",
      "source": [
        ""
      ],
      "metadata": {
        "id": "wMY-2wP0iR7E"
      },
      "execution_count": null,
      "outputs": []
    },
    {
      "cell_type": "code",
      "source": [
        ""
      ],
      "metadata": {
        "id": "O_kXt1fv5RQr"
      },
      "execution_count": null,
      "outputs": []
    }
  ]
}