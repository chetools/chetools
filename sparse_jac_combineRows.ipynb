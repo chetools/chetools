{
  "nbformat": 4,
  "nbformat_minor": 0,
  "metadata": {
    "colab": {
      "provenance": [],
      "authorship_tag": "ABX9TyNavAtCysuDI/JIGz320xl3",
      "include_colab_link": true
    },
    "kernelspec": {
      "name": "python3",
      "display_name": "Python 3"
    },
    "language_info": {
      "name": "python"
    }
  },
  "cells": [
    {
      "cell_type": "markdown",
      "metadata": {
        "id": "view-in-github",
        "colab_type": "text"
      },
      "source": [
        "<a href=\"https://colab.research.google.com/github/profteachkids/chetools/blob/main/sparse_jac_combineRows.ipynb\" target=\"_parent\"><img src=\"https://colab.research.google.com/assets/colab-badge.svg\" alt=\"Open In Colab\"/></a>"
      ]
    },
    {
      "cell_type": "code",
      "execution_count": 1,
      "metadata": {
        "id": "vyyh9DETO2iI"
      },
      "outputs": [],
      "source": [
        "from numba import njit\n",
        "import numpy as np\n",
        "import jax\n",
        "import jax.numpy as jnp\n",
        "from itertools import permutations\n",
        "import scipy as sp\n",
        "from copy import deepcopy\n",
        "from itertools import chain\n",
        "np.set_printoptions(precision=2, linewidth=300, threshold=1e6, suppress= True)"
      ]
    },
    {
      "cell_type": "code",
      "source": [
        "def create_block_sparse(N_blocks_diag, block_size_lo, block_size_hi, Noff_diag):\n",
        "\n",
        "    block_sizes = np.random.randint(low=block_size_lo, high=block_size_hi+1, size=N_blocks_diag)\n",
        "    cum_pos = np.cumsum(block_sizes)\n",
        "    cum_pos = np.r_[0, cum_pos]\n",
        "    N = cum_pos[-1]\n",
        "\n",
        "    diag_data = [np.random.uniform(size=(block_sizes[i], block_sizes[i])) for i in range(N_blocks_diag)]\n",
        "    off_diag_blocks =np.asarray(tuple(set(tuple(permutations(tuple(range(N_blocks_diag)),2))) - set(tuple([i,i]) for i in range(N_blocks_diag))))\n",
        "    np.random.shuffle(off_diag_blocks)\n",
        "    off_diag_blocks=off_diag_blocks[:Noff_diag]\n",
        "    off_data=[np.random.uniform(size=(block_sizes[i], block_sizes[j])) for i,j in off_diag_blocks]\n",
        "\n",
        "    data = []\n",
        "    col = []\n",
        "    row=[]\n",
        "\n",
        "    for i in range(N_blocks_diag):\n",
        "        coo = sp.sparse.coo_array(diag_data[i])\n",
        "        data.extend(coo.data)\n",
        "        col.extend(coo.row+cum_pos[i])\n",
        "        row.extend(coo.col+cum_pos[i])\n",
        "\n",
        "    for i in range(Noff_diag):\n",
        "        coo = sp.sparse.coo_array(off_data[i])\n",
        "        data.extend(coo.data)\n",
        "        brow, bcol = off_diag_blocks[i]\n",
        "        col.extend(coo.row+cum_pos[brow])\n",
        "        row.extend(coo.col+cum_pos[bcol])\n",
        "\n",
        "    return sp.sparse.coo_array((data, (row, col)),shape=(N,N))\n"
      ],
      "metadata": {
        "id": "iYVcBzjqPBBu"
      },
      "execution_count": 34,
      "outputs": []
    },
    {
      "cell_type": "code",
      "source": [
        "a=create_block_sparse(10, 2, 3, 10)"
      ],
      "metadata": {
        "id": "a6MRv_QALx-N"
      },
      "execution_count": 35,
      "outputs": []
    },
    {
      "cell_type": "code",
      "source": [
        "def get_combos(mat):\n",
        "    mat=sp.sparse.csr_array(mat)\n",
        "    nz = (mat!=0).astype(np.int8)\n",
        "    c = (nz @ nz.T).astype(bool)\n",
        "    N=mat.shape[0]\n",
        "    cand = set(range(N))\n",
        "    cols=[]\n",
        "    rows=[]\n",
        "    vecs=[]\n",
        "    ls=[]\n",
        "    while cand:\n",
        "        vec = np.zeros(N)\n",
        "        k = cand.pop()\n",
        "        cand2 = deepcopy(cand)\n",
        "        v=set(c.indices[c.indptr[k]:c.indptr[k+1]])\n",
        "        matcols = mat.indices[mat.indptr[k]:mat.indptr[k+1]]\n",
        "        col1=[matcols]\n",
        "        row1=[np.full_like(matcols,k)]\n",
        "        ls1=[k]\n",
        "        while True:\n",
        "            cand2-=v\n",
        "            if not(cand2):\n",
        "                break\n",
        "            first=cand2.pop()\n",
        "            v = set(c.indices[c.indptr[first]:c.indptr[first+1]])\n",
        "            ls1.append(first)\n",
        "            matcols=mat.indices[mat.indptr[first]:mat.indptr[first+1]]\n",
        "            col1.append(matcols)\n",
        "            row1.append(np.full_like(matcols,first))\n",
        "            cand.remove(first)\n",
        "        vec[ls1]=1.\n",
        "        vecs.append(vec)\n",
        "        cols.append(np.concatenate(col1))\n",
        "        rows.append(np.concatenate(row1))\n",
        "        ls.append(ls1)\n",
        "    return ls, vecs, rows, cols"
      ],
      "metadata": {
        "id": "jgq7bTDKFZjw"
      },
      "execution_count": 36,
      "outputs": []
    },
    {
      "cell_type": "code",
      "source": [
        "ls, vecs,rows,cols= get_combos(a)"
      ],
      "metadata": {
        "id": "P8ixLJHG4q9I"
      },
      "execution_count": 37,
      "outputs": []
    },
    {
      "cell_type": "code",
      "source": [
        "a.todense()[ls[0],:]"
      ],
      "metadata": {
        "colab": {
          "base_uri": "https://localhost:8080/"
        },
        "id": "wXJwV0n7Cna7",
        "outputId": "3b58f8c3-7545-43a2-f49f-0e54bf198980"
      },
      "execution_count": 38,
      "outputs": [
        {
          "output_type": "execute_result",
          "data": {
            "text/plain": [
              "array([[0.88, 0.04, 0.82, 0.  , 0.  , 0.  , 0.  , 0.  , 0.  , 0.  , 0.  , 0.  , 0.  , 0.  , 0.  , 0.  , 0.  , 0.  , 0.  , 0.  , 0.  , 0.  , 0.  , 0.  , 0.  , 0.  , 0.  ],\n",
              "       [0.  , 0.  , 0.  , 0.67, 0.11, 0.  , 0.  , 0.  , 0.5 , 0.06, 0.36, 0.  , 0.  , 0.  , 0.  , 0.  , 0.  , 0.  , 0.  , 0.  , 0.  , 0.  , 0.92, 0.22, 0.  , 0.  , 0.  ],\n",
              "       [0.  , 0.  , 0.  , 0.  , 0.  , 0.  , 0.  , 0.  , 0.  , 0.  , 0.  , 0.  , 0.  , 0.  , 0.  , 0.  , 0.  , 0.  , 0.  , 0.  , 0.38, 0.64, 0.  , 0.  , 0.  , 0.  , 0.  ]])"
            ]
          },
          "metadata": {},
          "execution_count": 38
        }
      ]
    },
    {
      "cell_type": "code",
      "source": [
        "\n",
        "shape = (100, 100)\n",
        "@jax.jit\n",
        "def fn(x_flat):\n",
        "    x = jnp.reshape(x_flat, shape)\n",
        "    result = jax.scipy.signal.convolve2d(x, jnp.ones((3, 3)), mode=\"valid\")\n",
        "    return result.flatten() ** 2\n",
        "\n",
        "x_flat = np.random.uniform(size=(shape[0] * shape[1]))\n",
        "expected = jax.jit(jax.jacrev(fn))(x_flat)\n"
      ],
      "metadata": {
        "id": "s4LS7tnax1Du"
      },
      "execution_count": null,
      "outputs": []
    },
    {
      "cell_type": "code",
      "source": [
        "ls, vecs,rows,cols= get_combos(expected)"
      ],
      "metadata": {
        "id": "dTnD3IRb3w7u"
      },
      "execution_count": 43,
      "outputs": []
    },
    {
      "cell_type": "code",
      "source": [
        "_, vjp = jax.vjp(fn, x_flat)"
      ],
      "metadata": {
        "id": "6JVidu534Pc5"
      },
      "execution_count": 44,
      "outputs": []
    },
    {
      "cell_type": "code",
      "source": [
        "data=[]\n",
        "for vec,col in zip(vecs,cols):\n",
        "    data.append(vjp(vec)[0][col])\n",
        "\n",
        "data = np.concatenate(data)"
      ],
      "metadata": {
        "id": "M8FYwHMmfD0Y"
      },
      "execution_count": 45,
      "outputs": []
    },
    {
      "cell_type": "code",
      "source": [
        "data_rows = np.concatenate(rows)\n",
        "data_cols=np.concatenate(cols)\n",
        "jac = sp.sparse.coo_array((data,(data_rows, data_cols)))"
      ],
      "metadata": {
        "id": "7ivSgLdpGj4E"
      },
      "execution_count": 46,
      "outputs": []
    },
    {
      "cell_type": "code",
      "source": [
        "np.allclose(jac.todense(),expected)"
      ],
      "metadata": {
        "colab": {
          "base_uri": "https://localhost:8080/"
        },
        "id": "E6HgycWGG2qJ",
        "outputId": "3a364fe5-a0ce-41ad-fd7e-710a6ecf064d"
      },
      "execution_count": 47,
      "outputs": [
        {
          "output_type": "execute_result",
          "data": {
            "text/plain": [
              "True"
            ]
          },
          "metadata": {},
          "execution_count": 47
        }
      ]
    },
    {
      "cell_type": "code",
      "source": [
        "len(ls)"
      ],
      "metadata": {
        "id": "ILHo5rXux-NR",
        "outputId": "cea2584a-abdf-46b1-f1bf-31f700492446",
        "colab": {
          "base_uri": "https://localhost:8080/"
        }
      },
      "execution_count": 22,
      "outputs": [
        {
          "output_type": "execute_result",
          "data": {
            "text/plain": [
              "12"
            ]
          },
          "metadata": {},
          "execution_count": 22
        }
      ]
    },
    {
      "cell_type": "code",
      "source": [],
      "metadata": {
        "id": "AFL22AGul7qS"
      },
      "execution_count": null,
      "outputs": []
    }
  ]
}