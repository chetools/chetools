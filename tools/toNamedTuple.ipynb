{
  "nbformat": 4,
  "nbformat_minor": 0,
  "metadata": {
    "colab": {
      "name": "toNamedTuple.ipynb",
      "provenance": [],
      "collapsed_sections": [],
      "authorship_tag": "ABX9TyNcu7UYbBeGS9DKL6Be7s3v",
      "include_colab_link": true
    },
    "kernelspec": {
      "name": "python3",
      "display_name": "Python 3"
    },
    "language_info": {
      "name": "python"
    }
  },
  "cells": [
    {
      "cell_type": "markdown",
      "metadata": {
        "id": "view-in-github",
        "colab_type": "text"
      },
      "source": [
        "<a href=\"https://colab.research.google.com/github/profteachkids/chetools/blob/main/tools/toNamedTuple.ipynb\" target=\"_parent\"><img src=\"https://colab.research.google.com/assets/colab-badge.svg\" alt=\"Open In Colab\"/></a>"
      ]
    },
    {
      "cell_type": "code",
      "execution_count": 13,
      "metadata": {
        "id": "IYFRJaNUwrM6"
      },
      "outputs": [],
      "source": [
        "# !wget -N -q https://raw.githubusercontent.com/profteachkids/chetools/main/tools/dotmap.ipynb\n",
        "# !pip install importnb\n",
        "# from importnb import Notebook\n",
        "# with Notebook(): \n",
        "#     from dotmap import DotMap\n",
        "from collections import namedtuple\n",
        "import jax\n",
        "import numpy as np\n",
        "import jax.numpy as jnp\n",
        "import jax.tree_util as tu\n",
        "from jax.flatten_util import ravel_pytree\n",
        "from functools import partial\n",
        "from copy import deepcopy"
      ]
    },
    {
      "cell_type": "code",
      "source": [
        "class Unk():\n",
        "    pass\n",
        "\n",
        "class Comp(Unk):\n",
        "    def __init__(self,x):\n",
        "        self.x=jnp.asarray(x).reshape(-1)\n",
        "        if self.x.size<2:\n",
        "            raise ValueError('At least 2 components required')\n",
        "\n",
        "    def __repr__(self):\n",
        "        return f'{self.x}'\n",
        "\n",
        "    def nan(self):\n",
        "        self.x=jnp.full_like(self.x, jnp.nan)\n",
        "\n",
        "\n",
        "\n",
        "    @staticmethod\n",
        "    def flatten(c):\n",
        "        return jnp.log(c.x[:-1]) + jnp.log(1.+ (1. - c.x[-1])/c.x[-1]), None\n",
        "\n",
        "\n",
        "    @staticmethod\n",
        "    def unflatten(aux, q):\n",
        "        q=jnp.squeeze(jnp.asarray(q)) #q may be a tuple that can't be squeezed\n",
        "        xm1 = jnp.exp(q)/(1+jnp.sum(jnp.exp(q)))\n",
        "        return jnp.concatenate((jnp.atleast_1d(xm1), jnp.atleast_1d(1.-jnp.sum(xm1))))\n",
        "\n",
        "\n",
        "jax.tree_util.register_pytree_node(Comp, Comp.flatten, Comp.unflatten)\n",
        "\n",
        "class Range(Unk):\n",
        "    def __init__(self,x, lo, hi):\n",
        "        self.x=x\n",
        "        self.lo = lo\n",
        "        self.diff = hi-lo\n",
        "        if self.diff <= 0. or self.x<lo or self.x>hi:\n",
        "            raise ValueError('Hi > x > Lo is required')\n",
        "\n",
        "    def __repr__(self):\n",
        "        return f'{self.x}, lo={self.lo}, diff={self.diff}'\n",
        "\n",
        "    def nan(self):\n",
        "        self.x=jnp.nan\n",
        "\n",
        "    @staticmethod\n",
        "    def flatten(v):\n",
        "        p = (v.x-v.lo)/v.diff\n",
        "        return (jnp.log(p)-jnp.log(1.-p),), (v.lo,v.diff)\n",
        "\n",
        "    @staticmethod\n",
        "    def unflatten(aux, f):\n",
        "        return jax.nn.sigmoid(f[0])*aux[1]+aux[0]\n",
        "\n",
        "jax.tree_util.register_pytree_node(Range, Range.flatten, Range.unflatten)\n",
        "\n",
        "class RangeArray(Unk):\n",
        "    def __init__(self,x, lo, hi):\n",
        "        self.x=x\n",
        "        self.lo = lo\n",
        "        self.diff = hi-lo\n",
        "        if jnp.any(self.diff <= 0.) or jnp.any(self.x<lo) or jnp.any(self.x>hi):\n",
        "            raise ValueError('Hi > x > Lo is required')\n",
        "\n",
        "    def __repr__(self):\n",
        "        return f'{self.x}, lo={self.lo}, diff={self.diff}'\n",
        "\n",
        "    def nan(self):\n",
        "        self.x=jnp.full_like(self.x, jnp.nan)\n",
        "\n",
        "    @staticmethod\n",
        "    def flatten(v):\n",
        "        p = (v.x-v.lo)/v.diff\n",
        "        return (jnp.log(p)-jnp.log(1.-p),), (v.lo,v.diff)\n",
        "\n",
        "    @staticmethod\n",
        "    def unflatten(aux, f):\n",
        "        f=jnp.squeeze(jnp.asarray(f))\n",
        "        return jax.nn.sigmoid(f)*aux[1]+aux[0]\n",
        "\n",
        "jax.tree_util.register_pytree_node(RangeArray, RangeArray.flatten, RangeArray.unflatten)"
      ],
      "metadata": {
        "id": "8MlpLXlYM8mt"
      },
      "execution_count": 56,
      "outputs": []
    },
    {
      "cell_type": "code",
      "source": [
        "def toNamedTuple_recursive(d,e=None, NA=False):\n",
        "    if e is None:\n",
        "        if isinstance(d,list):\n",
        "            e=[]\n",
        "        elif isinstance(d,dict):\n",
        "            e={}\n",
        "\n",
        "    if isinstance(d,dict):\n",
        "        for k,v in d.items():\n",
        "            if isinstance(v,dict):\n",
        "                e[k]={}\n",
        "                e[k]=toNamedTuple_recursive(v,e[k],NA)\n",
        "            elif isinstance(v,list):\n",
        "                e[k]=[]\n",
        "                e[k]=toNamedTuple_recursive(v,e[k],NA)\n",
        "            else:\n",
        "                if isinstance(v,Unk) and NA==True:\n",
        "                    e[k]=deepcopy(v)\n",
        "                    e[k].nan()\n",
        "                else:\n",
        "                    e[k]=v\n",
        "        NT=namedtuple('_',e.keys())\n",
        "        res=NT(**e)\n",
        "    \n",
        "    elif isinstance(d,list):\n",
        "        e=[None]*len(d)\n",
        "        for i,v in enumerate(d):\n",
        "            if isinstance(v,dict):\n",
        "                e[i]={}\n",
        "                e[i]=toNamedTuple_recursive(v,e[i],NA)\n",
        "            elif isinstance(v,list):\n",
        "                e[i]=[]\n",
        "                e[i]=toNamedTuple_recursive(v,e[i],NA)\n",
        "            else:\n",
        "                if isinstance(v,Unk) and NA==True:\n",
        "                    e[i]=deepcopy(v)\n",
        "                    e[i].nan()\n",
        "                else:\n",
        "                    e[i]=v\n",
        "        res = tuple(e)\n",
        "    \n",
        "    return res"
      ],
      "metadata": {
        "id": "J0xg0S-OSwAN"
      },
      "execution_count": 121,
      "outputs": []
    },
    {
      "cell_type": "code",
      "source": [
        "d=dict(b=dict(m=Comp([1/3,1/3,1/3]),n=jnp.array([1,2,3])))\n",
        "e=dict(c=Range(50,0,100),g=dict(z=2))\n",
        "f=dict(x=3.,y=[d,d])\n",
        "\n",
        "z=[dict(a=d, k=[d,[e,f]]), [d,e,f]]\n",
        "dt=toNamedTuple_recursive(z,NA=False)\n",
        "dt"
      ],
      "metadata": {
        "id": "3OP6JiGcyvzB",
        "colab": {
          "base_uri": "https://localhost:8080/"
        },
        "outputId": "c5a5a4b7-1ae6-427c-a9cc-539ce33fbfaa"
      },
      "execution_count": 122,
      "outputs": [
        {
          "output_type": "execute_result",
          "data": {
            "text/plain": [
              "(_(a=_(b=_(m=[0.33333334 0.33333334 0.33333334], n=DeviceArray([1, 2, 3], dtype=int32))), k=(_(b=_(m=[0.33333334 0.33333334 0.33333334], n=DeviceArray([1, 2, 3], dtype=int32))), (_(c=50, lo=0, diff=100, g=_(z=2)), _(x=3.0, y=(_(b=_(m=[0.33333334 0.33333334 0.33333334], n=DeviceArray([1, 2, 3], dtype=int32))), _(b=_(m=[0.33333334 0.33333334 0.33333334], n=DeviceArray([1, 2, 3], dtype=int32)))))))),\n",
              " (_(b=_(m=[0.33333334 0.33333334 0.33333334], n=DeviceArray([1, 2, 3], dtype=int32))),\n",
              "  _(c=50, lo=0, diff=100, g=_(z=2)),\n",
              "  _(x=3.0, y=(_(b=_(m=[0.33333334 0.33333334 0.33333334], n=DeviceArray([1, 2, 3], dtype=int32))), _(b=_(m=[0.33333334 0.33333334 0.33333334], n=DeviceArray([1, 2, 3], dtype=int32)))))))"
            ]
          },
          "metadata": {},
          "execution_count": 122
        }
      ]
    },
    {
      "cell_type": "code",
      "source": [
        "val,unflat = ravel_pytree(dt)"
      ],
      "metadata": {
        "id": "7etz1LXrWX4k"
      },
      "execution_count": 123,
      "outputs": []
    },
    {
      "cell_type": "code",
      "source": [
        "val"
      ],
      "metadata": {
        "id": "7aCpeeHCNQK4",
        "outputId": "f2fa6f8a-f4db-45ef-f7d7-a18caf312193",
        "colab": {
          "base_uri": "https://localhost:8080/"
        }
      },
      "execution_count": 124,
      "outputs": [
        {
          "output_type": "execute_result",
          "data": {
            "text/plain": [
              "DeviceArray([0., 0., 1., 2., 3., 0., 0., 1., 2., 3., 0., 2., 3., 0., 0.,\n",
              "             1., 2., 3., 0., 0., 1., 2., 3., 0., 0., 1., 2., 3., 0., 2.,\n",
              "             3., 0., 0., 1., 2., 3., 0., 0., 1., 2., 3.], dtype=float32)"
            ]
          },
          "metadata": {},
          "execution_count": 124
        }
      ]
    },
    {
      "cell_type": "code",
      "source": [
        "zz=unflat(val)"
      ],
      "metadata": {
        "id": "UvIgLdnOeTt0"
      },
      "execution_count": 125,
      "outputs": []
    },
    {
      "cell_type": "code",
      "source": [
        "zz"
      ],
      "metadata": {
        "id": "NfM5Sxpdjqps",
        "outputId": "69cc35dc-b8d5-48f3-d8f3-77146a0bda00",
        "colab": {
          "base_uri": "https://localhost:8080/"
        }
      },
      "execution_count": 126,
      "outputs": [
        {
          "output_type": "execute_result",
          "data": {
            "text/plain": [
              "(_(a=_(b=_(m=DeviceArray([0.33333334, 0.33333334, 0.3333333 ], dtype=float32), n=DeviceArray([1, 2, 3], dtype=int32))), k=(_(b=_(m=DeviceArray([0.33333334, 0.33333334, 0.3333333 ], dtype=float32), n=DeviceArray([1, 2, 3], dtype=int32))), (_(c=DeviceArray(50., dtype=float32), g=_(z=DeviceArray(2, dtype=int32))), _(x=DeviceArray(3., dtype=float32), y=(_(b=_(m=DeviceArray([0.33333334, 0.33333334, 0.3333333 ], dtype=float32), n=DeviceArray([1, 2, 3], dtype=int32))), _(b=_(m=DeviceArray([0.33333334, 0.33333334, 0.3333333 ], dtype=float32), n=DeviceArray([1, 2, 3], dtype=int32)))))))),\n",
              " (_(b=_(m=DeviceArray([0.33333334, 0.33333334, 0.3333333 ], dtype=float32), n=DeviceArray([1, 2, 3], dtype=int32))),\n",
              "  _(c=DeviceArray(50., dtype=float32), g=_(z=DeviceArray(2, dtype=int32))),\n",
              "  _(x=DeviceArray(3., dtype=float32), y=(_(b=_(m=DeviceArray([0.33333334, 0.33333334, 0.3333333 ], dtype=float32), n=DeviceArray([1, 2, 3], dtype=int32))), _(b=_(m=DeviceArray([0.33333334, 0.33333334, 0.3333333 ], dtype=float32), n=DeviceArray([1, 2, 3], dtype=int32)))))))"
            ]
          },
          "metadata": {},
          "execution_count": 126
        }
      ]
    },
    {
      "cell_type": "code",
      "source": [
        "\n",
        "def dictHandler(build,k):\n",
        "    def dictSetter(v):\n",
        "        if isinstance(v,dict):\n",
        "            NT = namedtuple('_', v.keys())\n",
        "            build[k]=NT(**v)\n",
        "        elif isinstance(v,list):\n",
        "            build[k]=tuple(v)\n",
        "        return\n",
        "    return dictSetter\n",
        "\n",
        "def listHandler(l,i):\n",
        "    def listSetter(v):\n",
        "        if isinstance(v,list):\n",
        "            l[i]=tuple(v)\n",
        "        elif isinstance(v,dict):\n",
        "            NT = namedtuple('_', v.keys())\n",
        "            l[i]=NT(**v)\n",
        "        else:\n",
        "            l[i]=v\n",
        "        return\n",
        "    return listSetter\n",
        "\n",
        "def toNamedTuple_stack(orig):\n",
        "    d=deepcopy(orig)\n",
        "\n",
        "    def listRoot(v):\n",
        "        nonlocal d\n",
        "        d=tuple(v)\n",
        "\n",
        "\n",
        "    def dictRoot(v):\n",
        "        nonlocal d\n",
        "        NT = namedtuple('_', v.keys())\n",
        "        d=NT(**v)\n",
        "\n",
        "    if isinstance(d,list):\n",
        "        stack=[(d, listRoot)]\n",
        "    elif isinstance(d, dict):\n",
        "        stack=[(d, dictRoot)]\n",
        "\n",
        "    count=0\n",
        "    while stack:\n",
        "        nested=False\n",
        "        source,setter=stack[-1]\n",
        "        if isinstance(source,list):\n",
        "            for i,v in enumerate(source):\n",
        "                if type(v) in (dict,list):\n",
        "                    stack.append((v, listHandler(source,i)))\n",
        "                    nested=True\n",
        "\n",
        "        elif isinstance(source,dict):\n",
        "            for k,v in source.items():\n",
        "                if type(v) in (dict,list):\n",
        "                    stack.append((v, dictHandler(source,k)))\n",
        "                    nested=True\n",
        "\n",
        "        if not nested: \n",
        "            setter(source)\n",
        "            stack.pop()\n",
        "        count+=1\n",
        "    return d"
      ],
      "metadata": {
        "id": "_XJ5QjJthrtF"
      },
      "execution_count": 101,
      "outputs": []
    },
    {
      "cell_type": "code",
      "source": [
        ""
      ],
      "metadata": {
        "id": "p8xH0_dCmIHP"
      },
      "execution_count": null,
      "outputs": []
    }
  ]
}