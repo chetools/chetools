{
  "nbformat": 4,
  "nbformat_minor": 0,
  "metadata": {
    "colab": {
      "name": "IsopropanolSynthesis_che2.ipynb",
      "provenance": [],
      "collapsed_sections": [],
      "authorship_tag": "ABX9TyPm071vxr+FkIoKudRITriy",
      "include_colab_link": true
    },
    "kernelspec": {
      "name": "python3",
      "display_name": "Python 3"
    },
    "language_info": {
      "name": "python"
    }
  },
  "cells": [
    {
      "cell_type": "markdown",
      "metadata": {
        "id": "view-in-github",
        "colab_type": "text"
      },
      "source": [
        "<a href=\"https://colab.research.google.com/github/profteachkids/chetools/blob/main/tools/IsopropanolSynthesis_che2.ipynb\" target=\"_parent\"><img src=\"https://colab.research.google.com/assets/colab-badge.svg\" alt=\"Open In Colab\"/></a>"
      ]
    },
    {
      "cell_type": "code",
      "source": [
        "!wget -N -q https://raw.githubusercontent.com/profteachkids/chetools/main/tools/che2.ipynb -O che2.ipynb\n",
        "!wget -N -q https://raw.githubusercontent.com/profteachkids/chetools/main/tools/dotmap.ipynb -O dotmap.ipynb\n",
        "!pip install importnb"
      ],
      "metadata": {
        "id": "Gwp9C2bBoebL",
        "colab": {
          "base_uri": "https://localhost:8080/"
        },
        "outputId": "59ab1ad2-6748-45bd-e3bd-743def4d5dac"
      },
      "execution_count": null,
      "outputs": [
        {
          "output_type": "stream",
          "name": "stdout",
          "text": [
            "Looking in indexes: https://pypi.org/simple, https://us-python.pkg.dev/colab-wheels/public/simple/\n",
            "Collecting importnb\n",
            "  Downloading importnb-0.7.0-py3-none-any.whl (24 kB)\n",
            "Installing collected packages: importnb\n",
            "Successfully installed importnb-0.7.0\n"
          ]
        }
      ]
    },
    {
      "cell_type": "code",
      "source": [
        "from importnb import Notebook\n",
        "with Notebook(): \n",
        "    from che2 import getLO, Range, RangeArray, Comp, CompArray, d2nt, Props\n",
        "    from dotmap import DotMap"
      ],
      "metadata": {
        "id": "e-4zIaZrKnmz"
      },
      "execution_count": null,
      "outputs": []
    },
    {
      "cell_type": "code",
      "execution_count": null,
      "metadata": {
        "id": "EQTOJoLTGQgb"
      },
      "outputs": [],
      "source": [
        "import jax.numpy as jnp"
      ]
    },
    {
      "cell_type": "markdown",
      "source": [
        "<img src='https://github.com/profteachkids/CHE2064_Spring2022/raw/main/IsopropylSynthesisProcessDiagram.jpg'>"
      ],
      "metadata": {
        "id": "rPIq5KWqCytb"
      }
    },
    {
      "cell_type": "code",
      "source": [
        "# Static parameters (Total feed, feed mole fradtions, feed temperature and )\n",
        "# 1. propene\n",
        "# 2. diisopropyl ether\n",
        "# 3. isopropanol\n",
        "# 4. water\n",
        "# Rx1:  C3H6 + H2O -> C3H8O\n",
        "# Rx2:  2C3H8O -> C6H14 + H2O \n",
        "\n",
        "#Simple version - Overall mass balance only\n",
        "\n",
        "e = DotMap()\n",
        "e.alkeneF = 100.\n",
        "e.waterF = 100.\n",
        "\n",
        "e.alkeney = jnp.array([1., 0., 0., 0.])\n",
        "e.waterx = jnp.array([0., 0., 0., 1.])\n",
        "\n",
        "e.rx1 = jnp.array([-1, 0, 1, -1])\n",
        "e.rx2 = jnp.array([0, 1, -2, 1])\n",
        "\n",
        "e.rx1_extent = Range(e.alkeneF/2, 0., e.alkeneF)\n",
        "e.rx2_extent = Range(e.alkeneF/4, 0., e.alkeneF/2)\n",
        "\n",
        "e.alcoholP = Range(e.alkeneF/2, 0., e.alkeneF)  \n",
        "e.alcoholPx = jnp.array([0., 0.005, 0.94, 0.055])\n",
        "\n",
        "e.etherP = Range(e.alkeneF/2, 0., e.alkeneF)\n",
        "e.etherPx = jnp.array([0.001, 0.98, 0.018, 0.002])"
      ],
      "metadata": {
        "id": "y91AfkgeM3XL",
        "outputId": "6e2bf2dd-55b4-489a-ce74-61241c33d74a",
        "colab": {
          "base_uri": "https://localhost:8080/"
        }
      },
      "execution_count": null,
      "outputs": [
        {
          "output_type": "stream",
          "name": "stderr",
          "text": [
            "WARNING:absl:No GPU/TPU found, falling back to CPU. (Set TF_CPP_MIN_LOG_LEVEL=0 and rerun for more info.)\n"
          ]
        }
      ]
    },
    {
      "cell_type": "code",
      "source": [
        "x, x2nt, nt0  = d2nt(e)"
      ],
      "metadata": {
        "id": "W1SjV7rkND3_"
      },
      "execution_count": null,
      "outputs": []
    },
    {
      "cell_type": "code",
      "source": [
        "  def eqs(d):\n",
        "    r=DotDict()\n",
        "    feed = d.alkeneF*d.alkeney + d.waterF*d.waterx \n",
        "    product = (d.etherP*d.etherPx + d.alcoholP*d.alcoholPx)\n",
        "\n",
        "    molecular_balance = feed + d.rx1_extent*d.rx1 + d.rx2_extent*d.rx2 - product\n",
        "\n",
        "    r.alkene = d.alkeneF*d.alkeney\n",
        "    r.water = d.waterF*d.waterx \n",
        "    r.ether = d.etherP*d.etherPx\n",
        "    r.alcohol = d.alcoholP*d.alcoholPx\n",
        "    return molecular_balance, r"
      ],
      "metadata": {
        "id": "ihz1HodGNG6_"
      },
      "execution_count": null,
      "outputs": []
    },
    {
      "cell_type": "code",
      "source": [
        "eqs_wrapped = wrap(eqs)\n",
        "eqs_wrapped(x)"
      ],
      "metadata": {
        "colab": {
          "base_uri": "https://localhost:8080/"
        },
        "id": "T6SyaBMhNMzj",
        "outputId": "ed56669f-da60-4c69-e8a0-c0ad2364c040"
      },
      "execution_count": null,
      "outputs": [
        {
          "output_type": "execute_result",
          "data": {
            "text/plain": [
              "array([ 49.95, -24.25, -47.9 ,  72.15])"
            ]
          },
          "metadata": {},
          "execution_count": 11
        }
      ]
    },
    {
      "cell_type": "code",
      "source": [
        "sol=root(eqs_wrapped, x)\n",
        "print(sol)\n",
        "solx=sol.x"
      ],
      "metadata": {
        "colab": {
          "base_uri": "https://localhost:8080/"
        },
        "id": "Yq8Nq50_NVWf",
        "outputId": "a203eed0-c5cb-402a-df4f-92fdbf16df02"
      },
      "execution_count": null,
      "outputs": [
        {
          "output_type": "stream",
          "name": "stdout",
          "text": [
            "    fjac: array([[-6.20047158e-03,  6.42575319e-01,  7.65262557e-01,\n",
            "         3.78382226e-02],\n",
            "       [-8.63879645e-04,  6.72610397e-01, -5.87059363e-01,\n",
            "         4.50506173e-01],\n",
            "       [-3.25774691e-02,  3.66632454e-01, -2.64036850e-01,\n",
            "        -8.91517747e-01],\n",
            "       [-9.99449607e-01, -1.65183735e-02,  4.36621536e-03,\n",
            "         2.84352445e-02]])\n",
            "     fun: array([-1.40873424e-13, -1.84228632e-09, -2.05412221e-09, -1.19580790e-10])\n",
            " message: 'The solution converged.'\n",
            "    nfev: 34\n",
            "     qtf: array([-1.22865823e-07, -3.85024182e-09, -1.16130166e-09,  8.07790664e-10])\n",
            "       r: array([ 0.92424769, -3.73988483, -2.98734898, -2.71847381, 10.08719343,\n",
            "        1.92374923, -2.4314783 ,  1.11374846, -1.34568877,  0.04592532])\n",
            "  status: 1\n",
            " success: True\n",
            "       x: array([ 9.93202642, -2.14550313,  2.97450864, -2.97450864])\n"
          ]
        }
      ]
    },
    {
      "cell_type": "code",
      "source": [
        "dunk=xtodunk(solx)\n",
        "dunk"
      ],
      "metadata": {
        "colab": {
          "base_uri": "https://localhost:8080/"
        },
        "id": "8bm3_bzwNj7i",
        "outputId": "ccdb9505-2304-4fa5-af0e-32b6f786c39e"
      },
      "execution_count": null,
      "outputs": [
        {
          "output_type": "execute_result",
          "data": {
            "text/plain": [
              "{'alcoholP': array([95.14091351]),\n",
              " 'etherP': array([4.85908649]),\n",
              " 'rx1_extent': array([99.99514091]),\n",
              " 'rx2_extent': array([5.23760933])}"
            ]
          },
          "metadata": {},
          "execution_count": 13
        }
      ]
    },
    {
      "cell_type": "code",
      "source": [
        "eqs_wrapped(sol.x)"
      ],
      "metadata": {
        "colab": {
          "base_uri": "https://localhost:8080/"
        },
        "id": "YJJ3E0yYNmmM",
        "outputId": "04f7c40f-0ab7-4177-dcc2-bff118dceef3"
      },
      "execution_count": null,
      "outputs": [
        {
          "output_type": "execute_result",
          "data": {
            "text/plain": [
              "array([-1.40873424e-13, -1.84228632e-09, -2.05412221e-09, -1.19580790e-10])"
            ]
          },
          "metadata": {},
          "execution_count": 14
        }
      ]
    },
    {
      "cell_type": "markdown",
      "source": [
        "<img src='https://github.com/profteachkids/CHE2064_Spring2022/raw/main/IsopropylSynthesisProcessDiagram.jpg'>"
      ],
      "metadata": {
        "id": "_FiCvYkNNr5a"
      }
    },
    {
      "cell_type": "code",
      "source": [
        "# Include internal flows (recycle)\n",
        "\n",
        "\n",
        "d=DotDict()\n",
        "d.alkeneF = 100.\n",
        "d.waterF = 100.\n",
        "\n",
        "d.alkeney = np.array([1., 0., 0., 0.])\n",
        "d.waterx = np.array([0., 0., 0., 1.])\n",
        "\n",
        "d.rx1 = np.array([-1, 0, 1, -1])\n",
        "d.rx2 = np.array([0, 1, -2, 1])\n",
        "\n",
        "d.rx1_extent = Range(d.alkeneF/2, 0., d.alkeneF)\n",
        "d.rx2_extent = Range(d.alkeneF/4, 0., d.alkeneF/2)\n",
        "\n",
        "d.alcoholP = Range(d.alkeneF/2, 0., d.alkeneF)  \n",
        "d.alcoholPx = np.array([0., 0.005, 0.94, 0.055])\n",
        "\n",
        "d.etherP = Range(d.alkeneF/2, 0., d.alkeneF)\n",
        "d.etherPx = np.array([0.001, 0.98, 0.018, 0.002])\n",
        "\n",
        "d.WARFR = 12. #water_alkene_reactor_feed_ratio\n",
        "\n",
        "d.D1F = Range(d.alkeneF * d.WARFR, 0., 2.*d.WARFR*d.alkeneF)\n",
        "d.D1Fx = Comp([0.001, 0.03, 0.07, 0.9])\n",
        "\n",
        "d.D1K = np.array([100., 10., 5., 0.2])\n",
        "d.D1Vy = Comp([0.01, 0.299, 0.3, 0.3])\n",
        "d.D1Lx = Comp([0.0001, 0.1, 0.1, 0.8])\n",
        "d.D1V = Range(d.alkeneF * d.WARFR/2, 0., 2.*d.WARFR*d.alkeneF)\n",
        "d.D1L = Range(d.alkeneF * d.WARFR/2, 0., 2.*d.WARFR*d.alkeneF)\n",
        "\n",
        "d.decantW = Range(d.alkeneF * d.WARFR, 0., 2.*d.WARFR*d.alkeneF)\n",
        "d.decantWx = np.array([0.001, 0.005, 0.02, 0.98]) \n"
      ],
      "metadata": {
        "id": "jZoVc-TZpa1D"
      },
      "execution_count": null,
      "outputs": []
    },
    {
      "cell_type": "code",
      "source": [
        "wrap, x, d2, xtod, xtodunk  = dtox(d)"
      ],
      "metadata": {
        "id": "rHVxiki_phXS"
      },
      "execution_count": null,
      "outputs": []
    },
    {
      "cell_type": "code",
      "source": [
        "def eqs(d):\n",
        "    r=DotDict()\n",
        "    feed = d.alkeneF*d.alkeney + d.waterF*d.waterx \n",
        "    product = (d.etherP*d.etherPx + d.alcoholP*d.alcoholPx)\n",
        "\n",
        "    molecular_balance = feed + d.rx1_extent*d.rx1 + d.rx2_extent*d.rx2 - product\n",
        "\n",
        "    r.alkene = d.alkeneF*d.alkeney\n",
        "    r.water = d.waterF*d.waterx \n",
        "    r.ether = d.etherP*d.etherPx\n",
        "    r.alcohol = d.alcoholP*d.alcoholPx\n",
        "    return molecular_balance, r\n"
      ],
      "metadata": {
        "id": "_4hviOyfp1k5"
      },
      "execution_count": null,
      "outputs": []
    },
    {
      "cell_type": "code",
      "source": [
        "def eqs2(d):\n",
        "    r=DotDict()\n",
        "    r.reactor_feed = d.alkeneF*d.alkeney + d.waterF*d.waterx + d.D1L*d.D1Lx + d.decantW*d.decantWx\n",
        "\n",
        "    r.REACTOR = r.reactor_feed + d.rx1_extent*d.rx1 + d.rx2_extent*d.rx2 - d.D1F*d.D1Fx\n",
        "\n",
        "    r.FEED_RATIO = np.atleast_1d((d.waterF+d.D1L+d.decantW)/d.alkeneF - d.WARFR)\n",
        "    \n",
        "    r.D1 = d.D1F*d.D1Fx - d.D1V*d.D1Vy - d.D1L*d.D1Lx\n",
        "    r.D1K = d.D1Vy/d.D1Lx - d.D1K\n",
        "\n",
        "    r.AZ = d.D1V*d.D1Vy - d.etherP*d.etherPx - d.alcoholP*d.alcoholPx - d.decantW*d.decantWx\n",
        "\n",
        "    r.alkene = d.alkeneF*d.alkeney\n",
        "    r.water = d.waterF*d.waterx \n",
        "    r.ether = d.etherP*d.etherPx\n",
        "    r.alcohol = d.alcoholP*d.alcoholPx\n",
        "    return np.concatenate([r.REACTOR, r.FEED_RATIO, r.D1, r.D1K, r.AZ]), r\n"
      ],
      "metadata": {
        "id": "KZUHitSI7nc3"
      },
      "execution_count": null,
      "outputs": []
    },
    {
      "cell_type": "code",
      "source": [
        "eqs_wrapped = wrap(eqs2)"
      ],
      "metadata": {
        "id": "PCFvkYbXt3VL"
      },
      "execution_count": null,
      "outputs": []
    },
    {
      "cell_type": "code",
      "source": [
        "eqs_wrapped(x)"
      ],
      "metadata": {
        "colab": {
          "base_uri": "https://localhost:8080/"
        },
        "id": "WEWMqruYu8jv",
        "outputId": "3e583ec7-ce90-4896-8041-5b7361c53595"
      },
      "execution_count": null,
      "outputs": [
        {
          "output_type": "execute_result",
          "data": {
            "text/plain": [
              "array([ 5.00611928e+01,  5.50299646e+01,  7.79166839e-02,  6.52030926e+02,\n",
              "        7.00000000e+00, -5.46185287e+00, -2.21389701e+02, -1.74097719e+02,\n",
              "        4.00949272e+02,  1.00220022e+01, -6.71034213e+00, -1.69933993e+00,\n",
              "        2.12582508e-01,  5.35066007e+00,  1.42109736e+02,  1.26119802e+02,\n",
              "       -9.80830198e+02])"
            ]
          },
          "metadata": {},
          "execution_count": 20
        }
      ]
    },
    {
      "cell_type": "code",
      "source": [
        "sol=root(eqs_wrapped, x)\n",
        "print(sol)\n",
        "solx=sol.x"
      ],
      "metadata": {
        "id": "l8ocZ2P2qyg5"
      },
      "execution_count": null,
      "outputs": []
    },
    {
      "cell_type": "code",
      "source": [
        "dunk=xtodunk(solx)\n",
        "dunk"
      ],
      "metadata": {
        "colab": {
          "base_uri": "https://localhost:8080/"
        },
        "id": "AetCqijIr3lF",
        "outputId": "3c12b07b-a910-480e-c000-1daceddf671d"
      },
      "execution_count": null,
      "outputs": [
        {
          "output_type": "execute_result",
          "data": {
            "text/plain": [
              "{'D1F': array([1200.09006814]),\n",
              " 'D1Fx': array([1.73915272e-05, 8.62596534e-03, 2.17013664e-01, 7.74342979e-01]),\n",
              " 'D1L': array([1085.79849147]),\n",
              " 'D1Lx': array([1.66771652e-06, 4.64480150e-03, 1.57148856e-01, 8.38204675e-01]),\n",
              " 'D1V': array([114.29157667]),\n",
              " 'D1Vy': array([1.66771652e-04, 4.64480150e-02, 7.85744278e-01, 1.67640935e-01]),\n",
              " 'alcoholP': array([95.14091351]),\n",
              " 'decantW': array([14.20150853]),\n",
              " 'etherP': array([4.85908649]),\n",
              " 'rx1_extent': array([99.99514091]),\n",
              " 'rx2_extent': array([5.23760933])}"
            ]
          },
          "metadata": {},
          "execution_count": 22
        }
      ]
    },
    {
      "cell_type": "code",
      "source": [
        "eqs_wrapped(sol.x)"
      ],
      "metadata": {
        "id": "w7IBxauHFqQb",
        "colab": {
          "base_uri": "https://localhost:8080/"
        },
        "outputId": "539b5172-876b-4d8a-e110-0473838fad29"
      },
      "execution_count": null,
      "outputs": [
        {
          "output_type": "execute_result",
          "data": {
            "text/plain": [
              "array([-2.62082023e-14,  0.00000000e+00,  5.68434189e-14,  2.27373675e-13,\n",
              "        0.00000000e+00,  9.87491339e-16,  0.00000000e+00, -2.84217094e-14,\n",
              "       -1.13686838e-13, -5.68434189e-14,  1.77635684e-15,  0.00000000e+00,\n",
              "        2.22044605e-16, -8.96852037e-16,  1.38777878e-15, -2.44249065e-15,\n",
              "        2.13162821e-14])"
            ]
          },
          "metadata": {},
          "execution_count": 23
        }
      ]
    },
    {
      "cell_type": "code",
      "source": [
        ""
      ],
      "metadata": {
        "id": "wMY-2wP0iR7E"
      },
      "execution_count": null,
      "outputs": []
    },
    {
      "cell_type": "code",
      "source": [
        ""
      ],
      "metadata": {
        "id": "O_kXt1fv5RQr"
      },
      "execution_count": null,
      "outputs": []
    }
  ]
}