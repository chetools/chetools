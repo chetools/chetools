{
  "nbformat": 4,
  "nbformat_minor": 0,
  "metadata": {
    "colab": {
      "provenance": [],
      "authorship_tag": "ABX9TyMUmtOHZoYe+0DnnpDeWMii",
      "include_colab_link": true
    },
    "kernelspec": {
      "name": "python3",
      "display_name": "Python 3"
    },
    "language_info": {
      "name": "python"
    }
  },
  "cells": [
    {
      "cell_type": "markdown",
      "metadata": {
        "id": "view-in-github",
        "colab_type": "text"
      },
      "source": [
        "<a href=\"https://colab.research.google.com/github/profteachkids/chetools/blob/main/sparse_jac_combineRows.ipynb\" target=\"_parent\"><img src=\"https://colab.research.google.com/assets/colab-badge.svg\" alt=\"Open In Colab\"/></a>"
      ]
    },
    {
      "cell_type": "code",
      "source": [
        "!pip install sortedcontainers"
      ],
      "metadata": {
        "colab": {
          "base_uri": "https://localhost:8080/"
        },
        "id": "YipvXhY1f1_e",
        "outputId": "a33b4dea-6b2e-40c5-cd6e-427233c1842b"
      },
      "execution_count": 1,
      "outputs": [
        {
          "output_type": "stream",
          "name": "stdout",
          "text": [
            "Requirement already satisfied: sortedcontainers in /usr/local/lib/python3.10/dist-packages (2.4.0)\n"
          ]
        }
      ]
    },
    {
      "cell_type": "code",
      "execution_count": 2,
      "metadata": {
        "id": "vyyh9DETO2iI"
      },
      "outputs": [],
      "source": [
        "from numba import njit\n",
        "import numpy as np\n",
        "from itertools import permutations\n",
        "import scipy as sp\n",
        "from sortedcontainers import SortedList, SortedDict, SortedSet\n",
        "from collections import deque\n",
        "from copy import deepcopy\n",
        "np.set_printoptions(precision=1, linewidth=300, threshold=1e6, suppress= True)"
      ]
    },
    {
      "cell_type": "code",
      "source": [
        "Nv = 10\n",
        "Nv_sizes = np.random.randint(low=2, high=5, size=Nv)\n",
        "cum_pos = np.cumsum(Nv_sizes)\n",
        "cum_pos = np.r_[0, cum_pos]\n",
        "N = cum_pos[-1]\n",
        "\n",
        "diag_data = [np.random.uniform(size=(Nv_sizes[i], Nv_sizes[i])) for i in range(Nv)]\n",
        "Noff_diag = Nv\n",
        "off_diag_blocks =np.asarray(tuple(set(tuple(permutations(tuple(range(Nv)),2))) - set(tuple([i,i]) for i in range(Nv))))\n",
        "np.random.shuffle(off_diag_blocks)\n",
        "off_diag_blocks=off_diag_blocks[:Noff_diag]\n",
        "off_data=[np.random.uniform(size=(Nv_sizes[i], Nv_sizes[j])) for i,j in off_diag_blocks]\n",
        "\n",
        "data = []\n",
        "col = []\n",
        "row=[]\n",
        "\n",
        "for i in range(Nv):\n",
        "    coo = sp.sparse.coo_array(diag_data[i])\n",
        "    data.extend(coo.data)\n",
        "    col.extend(coo.row+cum_pos[i])\n",
        "    row.extend(coo.col+cum_pos[i])\n",
        "\n",
        "for i in range(Noff_diag):\n",
        "    coo = sp.sparse.coo_array(off_data[i])\n",
        "    data.extend(coo.data)\n",
        "    brow, bcol = off_diag_blocks[i]\n",
        "    col.extend(coo.row+cum_pos[brow])\n",
        "    row.extend(coo.col+cum_pos[bcol])\n",
        "\n",
        "a = sp.sparse.coo_array((data, (row, col)),shape=(N,N))\n",
        "nz = (a!=0).astype(np.int8)\n",
        "c = (nz @ nz.T).astype(bool)"
      ],
      "metadata": {
        "id": "iYVcBzjqPBBu"
      },
      "execution_count": 17,
      "outputs": []
    },
    {
      "cell_type": "code",
      "source": [
        "cand = set(range(N))\n",
        "ls = []\n",
        "while cand:\n",
        "    k = cand.pop()\n",
        "    l1=[k]\n",
        "    cand2 = deepcopy(cand)\n",
        "    v=c.indices[c.indptr[k]:c.indptr[k+1]]\n",
        "    while True:\n",
        "        for item in v:\n",
        "            cand2.discard(item)\n",
        "        if not(cand2):\n",
        "            break\n",
        "        first=cand2.pop()\n",
        "        l1.append(first)\n",
        "        v = c.indices[c.indptr[first]:c.indptr[first+1]]\n",
        "        cand.remove(first)\n",
        "\n",
        "    ls.append(l1)"
      ],
      "metadata": {
        "id": "jgq7bTDKFZjw"
      },
      "execution_count": 18,
      "outputs": []
    },
    {
      "cell_type": "code",
      "source": [
        "adense=a.todense()\n",
        "for l in ls:\n",
        "    print(adense[l,:])\n",
        "    print()"
      ],
      "metadata": {
        "colab": {
          "base_uri": "https://localhost:8080/"
        },
        "id": "5obaQH7QxoYC",
        "outputId": "c6d87d79-8135-4dcd-b15f-fc01d288f688"
      },
      "execution_count": 22,
      "outputs": [
        {
          "output_type": "stream",
          "name": "stdout",
          "text": [
            "[[0.6 0.4 0.  0.  0.  0.  0.  0.  0.7 0.8 0.  0.  0.  0.  0.  0.  0.  0.  0.  0.  0.  0.  0.  0.  0.  0.  0.  0.  0.  0. ]\n",
            " [0.  0.  0.  0.  0.  0.6 1.  0.2 0.  0.  0.  0.  0.  0.  0.  0.  0.  0.  0.  0.  0.  0.  0.  0.  0.  0.  0.  0.  0.  0. ]\n",
            " [0.  0.  0.  0.  0.  0.  0.  0.  0.  0.  0.  0.  0.3 0.3 0.  0.  0.  0.  0.  0.  0.  0.  0.  0.  0.  0.  0.  0.  0.  0. ]\n",
            " [0.  0.  0.  0.  0.  0.  0.  0.  0.  0.  0.  0.  0.  0.  0.  0.  0.  0.  0.  0.  0.  0.  0.9 0.9 0.7 0.  0.  0.  0.  0. ]\n",
            " [0.  0.  0.  0.  0.  0.  0.  0.  0.  0.  0.4 0.6 0.  0.  0.1 0.8 0.2 0.1 0.  0.  0.  0.  0.  0.  0.  0.  0.3 0.2 0.6 0.3]]\n",
            "\n",
            "[[0.4 0.9 0.1 0.  0.  0.  0.  0.  0.1 0.2 0.  0.  0.  0.  0.  0.  0.  0.  0.  0.  0.  0.  0.  0.  0.  0.  0.  0.  0.  0. ]\n",
            " [0.  0.  0.  0.  0.  0.6 0.8 0.6 0.  0.  0.  0.  0.  0.  0.  0.  0.  0.  0.  0.  0.  0.  0.  0.  0.  0.  0.  0.  0.  0. ]\n",
            " [0.  0.  0.  0.  0.  0.  0.  0.  0.  0.  0.  0.  0.9 0.4 0.  0.  0.  0.  0.  0.  0.  0.  0.  0.  0.  0.  0.  0.  0.  0. ]\n",
            " [0.  0.  0.  0.  0.  0.  0.  0.  0.  0.  0.  0.  0.  0.  0.  0.  0.  0.  0.  0.  0.  0.  0.9 0.3 0.6 0.5 0.  0.  0.  0. ]\n",
            " [0.  0.  0.  0.  0.  0.  0.  0.  0.  0.  0.4 0.  0.  0.  0.6 0.1 0.8 0.8 0.  0.  0.  0.  0.  0.  0.  0.  0.8 0.6 0.5 0.4]]\n",
            "\n",
            "[[0.8 0.2 0.1 0.  0.  0.  0.  0.  0.  0.2 0.  0.  0.  0.  0.  0.  0.  0.  0.  0.  0.  0.  0.  0.  0.  0.  0.  0.  0.  0. ]\n",
            " [0.  0.  0.  0.  0.  0.4 0.8 0.3 0.  0.  0.  0.  0.  0.  0.  0.  0.  0.  0.  0.  0.  0.  0.  0.  0.  0.  0.  0.  0.  0. ]\n",
            " [0.  0.  0.  0.  0.  0.  0.  0.  0.  0.  0.  0.  0.  0.  0.  0.  0.  0.  0.  0.  0.  0.  0.4 0.2 0.9 0.6 0.  0.  0.  0. ]\n",
            " [0.  0.  0.  0.  0.  0.  0.  0.  0.  0.  0.2 0.9 0.  0.  0.  0.3 0.7 0.5 0.  0.  0.  0.  0.  0.  0.  0.  0.2 0.8 0.6 0.4]]\n",
            "\n",
            "[[0.9 0.3 0.  0.3 0.5 0.  0.  0.  0.  0.  0.  0.  0.  0.  0.  0.  0.  0.  0.  0.  0.  0.  0.  0.  0.  0.  0.  0.  0.  0. ]\n",
            " [0.  0.  0.  0.  0.  0.  0.  0.  0.4 0.1 0.  0.  0.  0.  0.  0.  0.  0.  0.  0.  0.  0.  0.  0.  0.  0.  0.  0.  0.  0. ]\n",
            " [0.  0.  0.  0.  0.  0.  0.  0.  0.  0.  0.  0.  0.  0.  0.  0.  0.  0.  0.  0.  0.  0.  0.9 0.2 0.7 0.6 0.  0.  0.  0. ]\n",
            " [0.  0.  0.  0.  0.  0.  0.  0.  0.  0.  0.5 0.4 0.  0.  0.2 0.4 0.4 0.1 0.  0.  0.  0.  0.  0.  0.  0.  0.1 0.6 0.8 0.4]]\n",
            "\n",
            "[[0.7 0.7 0.1 0.3 0.6 0.  0.  0.  0.  0.  0.  0.  0.  0.  0.  0.  0.  0.  0.  0.  0.  0.  0.  0.  0.  0.  0.  0.  0.  0. ]\n",
            " [0.  0.  0.  0.  0.  0.  0.  0.  0.9 0.5 0.  0.  0.  0.  0.  0.  0.  0.  0.  0.  0.  0.  0.  0.  0.  0.  0.  0.  0.  0. ]]\n",
            "\n",
            "[[0.6 0.4 0.3 0.  0.  0.  0.4 0.6 0.  0.  0.7 0.1 0.  0.  0.  0.  0.  0.  0.  0.  0.  0.  0.  0.  0.  0.  0.  0.  0.  0. ]]\n",
            "\n",
            "[[0.8 0.9 0.2 0.  0.  0.4 0.6 0.6 0.  0.  0.2 0.8 0.  0.  0.  0.  0.  0.  0.  0.  0.  0.  0.  0.  0.  0.  0.  0.  0.  0. ]]\n",
            "\n",
            "[[0.  0.  0.  0.8 1.  0.9 0.3 0.7 0.  0.  0.  0.  0.  0.  0.5 0.5 0.3 0.7 0.  0.  0.  0.  0.  0.  0.  0.  0.  0.  0.  0. ]\n",
            " [0.4 0.8 0.1 0.  0.  0.  0.  0.  0.  0.  0.  0.  0.  0.  0.  0.  0.  0.  1.  0.2 0.3 0.4 0.5 1.  0.3 0.1 0.  0.  0.  0. ]]\n",
            "\n",
            "[[0.  0.  0.  0.5 1.  0.9 0.2 0.3 0.  0.  0.  0.  0.  0.  0.1 0.1 0.2 0.3 0.  0.  0.  0.  0.  0.  0.  0.  0.  0.  0.  0. ]\n",
            " [0.7 0.6 0.1 0.  0.  0.  0.  0.  0.  0.  0.  0.  0.  0.  0.  0.  0.  0.  0.5 0.4 0.9 0.7 0.  0.3 1.  0.5 0.  0.  0.  0. ]]\n",
            "\n",
            "[[0.  0.  0.  0.1 0.3 0.9 0.1 0.  0.  0.  0.  0.  0.  0.  0.6 0.  0.8 0.1 0.  0.  0.  0.  0.  0.  0.  0.  0.  0.  0.  0. ]\n",
            " [1.  0.4 0.1 0.  0.  0.  0.  0.  0.  0.  0.  0.  0.  0.  0.  0.  0.  0.  0.7 0.8 0.8 0.1 0.9 0.8 0.3 0.6 0.  0.  0.  0. ]]\n",
            "\n",
            "[[0.  0.  0.  0.3 0.5 0.1 0.9 0.4 0.  0.  0.  0.  0.  0.  0.7 1.  0.1 0.6 0.  0.  0.  0.  0.  0.  0.  0.  0.  0.  0.  0. ]\n",
            " [0.4 0.3 0.5 0.  0.  0.  0.  0.  0.  0.  0.  0.  0.  0.  0.  0.  0.  0.  0.5 0.9 0.6 0.6 0.1 0.6 0.5 0.6 0.  0.  0.  0. ]]\n",
            "\n"
          ]
        }
      ]
    },
    {
      "cell_type": "code",
      "source": [
        "ls[0]"
      ],
      "metadata": {
        "colab": {
          "base_uri": "https://localhost:8080/"
        },
        "id": "s4LS7tnax1Du",
        "outputId": "e4c61484-006d-4a13-994b-dee2982ba94e"
      },
      "execution_count": 20,
      "outputs": [
        {
          "output_type": "execute_result",
          "data": {
            "text/plain": [
              "[0, 5, 12, 22, 26]"
            ]
          },
          "metadata": {},
          "execution_count": 20
        }
      ]
    },
    {
      "cell_type": "code",
      "source": [
        "len(ls)"
      ],
      "metadata": {
        "colab": {
          "base_uri": "https://localhost:8080/"
        },
        "id": "1VgAJqJAx9J3",
        "outputId": "ade8f53b-0137-4d53-d8db-eb041f40b90d"
      },
      "execution_count": 21,
      "outputs": [
        {
          "output_type": "execute_result",
          "data": {
            "text/plain": [
              "11"
            ]
          },
          "metadata": {},
          "execution_count": 21
        }
      ]
    },
    {
      "cell_type": "code",
      "source": [],
      "metadata": {
        "id": "ILHo5rXux-NR"
      },
      "execution_count": null,
      "outputs": []
    }
  ]
}