{
  "nbformat": 4,
  "nbformat_minor": 0,
  "metadata": {
    "colab": {
      "name": "least_squares_linear_operator_jax.ipynb",
      "provenance": [],
      "authorship_tag": "ABX9TyMdJXtqeag8H+aj5JrWNHtu",
      "include_colab_link": true
    },
    "kernelspec": {
      "name": "python3",
      "display_name": "Python 3"
    },
    "language_info": {
      "name": "python"
    }
  },
  "cells": [
    {
      "cell_type": "markdown",
      "metadata": {
        "id": "view-in-github",
        "colab_type": "text"
      },
      "source": [
        "<a href=\"https://colab.research.google.com/github/profteachkids/chetools/blob/main/least_squares_linear_operator_jax.ipynb\" target=\"_parent\"><img src=\"https://colab.research.google.com/assets/colab-badge.svg\" alt=\"Open In Colab\"/></a>"
      ]
    },
    {
      "cell_type": "code",
      "execution_count": 1,
      "metadata": {
        "id": "4TvuOB8J_kLu"
      },
      "outputs": [],
      "source": [
        "from scipy.optimize import least_squares, root\n",
        "import jax.numpy as jnp\n",
        "import jax\n",
        "import numpy as np\n",
        "from scipy.sparse.linalg import LinearOperator\n",
        "from jax.config import config\n",
        "from functools import partial\n",
        "config.update(\"jax_enable_x64\", True)"
      ]
    },
    {
      "cell_type": "code",
      "source": [
        "N=1000\n",
        "N_offdiagonal = int(10*N)\n",
        "xguess=jnp.asarray(np.random.uniform(size=N))\n",
        "pairs = np.random.randint(0,N,size=(N_offdiagonal,2))\n",
        "eq = np.random.randint(0,N,N_offdiagonal)\n",
        "coeff = np.random.uniform(-10,10,size=N)"
      ],
      "metadata": {
        "id": "T6FQC8ej_sNM"
      },
      "execution_count": 66,
      "outputs": []
    },
    {
      "cell_type": "code",
      "source": [
        "def func(x):\n",
        "    x=jnp.asarray(x)+coeff\n",
        "    res=x**2\n",
        "    res=res.at[eq].add(-x[pairs[:,0]]*x[pairs[:,1]])\n",
        "    return res\n",
        "jit_func = jax.jit(func)"
      ],
      "metadata": {
        "id": "6gV8YIVICSm5"
      },
      "execution_count": 67,
      "outputs": []
    },
    {
      "cell_type": "code",
      "source": [
        "def mv(x,v):\n",
        "   return jax.jvp(func,(x,),(jnp.squeeze(v),))[1]\n",
        "\n",
        "jit_mv = jax.jit(mv)"
      ],
      "metadata": {
        "id": "ld3cLK4Kdu8G"
      },
      "execution_count": 68,
      "outputs": []
    },
    {
      "cell_type": "code",
      "source": [
        "def rmv(x,v):\n",
        "    return jax.vjp(func,x)[1](v)\n",
        "\n",
        "jit_rmv = jax.jit(rmv)"
      ],
      "metadata": {
        "id": "GxVX01eZfObS"
      },
      "execution_count": 69,
      "outputs": []
    },
    {
      "cell_type": "code",
      "source": [
        "def LO(x):\n",
        "    return LinearOperator((N,N), matvec = partial(jit_mv,x), rmatvec=partial(jit_rmv, x))"
      ],
      "metadata": {
        "id": "MGOsnWyReIc_"
      },
      "execution_count": 70,
      "outputs": []
    },
    {
      "cell_type": "code",
      "source": [
        "sol=least_squares(jit_func,xguess,jac=LO,gtol=1e-12)"
      ],
      "metadata": {
        "id": "q9J2jymlEoZg"
      },
      "execution_count": 71,
      "outputs": []
    },
    {
      "cell_type": "code",
      "source": [
        "func(sol.x)"
      ],
      "metadata": {
        "id": "CtE_zJG4E8M-"
      },
      "execution_count": null,
      "outputs": []
    },
    {
      "cell_type": "code",
      "source": [
        "sol.x"
      ],
      "metadata": {
        "colab": {
          "base_uri": "https://localhost:8080/"
        },
        "id": "pym2-F4LIPYT",
        "outputId": "6b6c76c1-874e-4ac4-cfec-5de8d7f9ffbb"
      },
      "execution_count": 38,
      "outputs": [
        {
          "output_type": "execute_result",
          "data": {
            "text/plain": [
              "array([-6.33352467, -0.61726225, -4.40946944, ..., -8.06705956,\n",
              "       -0.54791887, -1.51400014])"
            ]
          },
          "metadata": {},
          "execution_count": 38
        }
      ]
    },
    {
      "cell_type": "code",
      "source": [
        "sol.nfev, sol.njev"
      ],
      "metadata": {
        "colab": {
          "base_uri": "https://localhost:8080/"
        },
        "id": "kQw5Y6rtYkV1",
        "outputId": "118af2de-b2bd-4bf7-ef4e-f458d0dc0984"
      },
      "execution_count": 39,
      "outputs": [
        {
          "output_type": "execute_result",
          "data": {
            "text/plain": [
              "(21, 21)"
            ]
          },
          "metadata": {},
          "execution_count": 39
        }
      ]
    },
    {
      "cell_type": "code",
      "source": [
        ""
      ],
      "metadata": {
        "id": "4yutrmO7c-qi"
      },
      "execution_count": 10,
      "outputs": []
    }
  ]
}