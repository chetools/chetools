{
  "nbformat": 4,
  "nbformat_minor": 0,
  "metadata": {
    "colab": {
      "name": "toNamedTuple.ipynb",
      "provenance": [],
      "collapsed_sections": [],
      "authorship_tag": "ABX9TyOVf/W6VbIBmCu9MWRvHKYV",
      "include_colab_link": true
    },
    "kernelspec": {
      "name": "python3",
      "display_name": "Python 3"
    },
    "language_info": {
      "name": "python"
    }
  },
  "cells": [
    {
      "cell_type": "markdown",
      "metadata": {
        "id": "view-in-github",
        "colab_type": "text"
      },
      "source": [
        "<a href=\"https://colab.research.google.com/github/profteachkids/chetools/blob/main/toNamedTuple.ipynb\" target=\"_parent\"><img src=\"https://colab.research.google.com/assets/colab-badge.svg\" alt=\"Open In Colab\"/></a>"
      ]
    },
    {
      "cell_type": "code",
      "execution_count": 16,
      "metadata": {
        "colab": {
          "base_uri": "https://localhost:8080/"
        },
        "id": "IYFRJaNUwrM6",
        "outputId": "5d038513-cf4c-4dd9-9e02-63e33e0ae100"
      },
      "outputs": [
        {
          "output_type": "stream",
          "name": "stdout",
          "text": [
            "Requirement already satisfied: importnb in /usr/local/lib/python3.7/dist-packages (0.7.0)\n"
          ]
        }
      ],
      "source": [
        "!wget -N -q https://raw.githubusercontent.com/profteachkids/chetools/main/tools/dotmap.ipynb\n",
        "!pip install importnb\n",
        "from importnb import Notebook\n",
        "with Notebook(): \n",
        "    from dotmap import DotMap\n",
        "from collections import namedtuple, UserList\n",
        "import jax\n",
        "import numpy as np\n",
        "import jax.numpy as jnp\n",
        "import jax.tree_util as tu\n",
        "from functools import partial\n",
        "from copy import deepcopy"
      ]
    },
    {
      "cell_type": "code",
      "source": [
        "def recurse(d,e={},root='r'):\n",
        "    for k,v in d.items():\n",
        "        if isinstance(v,dict):\n",
        "            e[k]={}\n",
        "            e[k]=recurse(v,e[k],root+\"_\"+k)\n",
        "        else:\n",
        "            e[k]=v\n",
        "    NT=namedtuple(root,e.keys())\n",
        "    return NT(**e)"
      ],
      "metadata": {
        "id": "3HmZVe8PgP2m"
      },
      "execution_count": 17,
      "outputs": []
    },
    {
      "cell_type": "code",
      "source": [
        ""
      ],
      "metadata": {
        "id": "Gp9yoLE0xYZh"
      },
      "execution_count": 18,
      "outputs": []
    },
    {
      "cell_type": "code",
      "source": [
        "def toNamedTuple(orig):\n",
        "    d=deepcopy(orig)\n",
        "    stack=[(d,dictHandler(d,'toNamedTupleResult'))]\n",
        "\n",
        "\n",
        "    while stack:\n",
        "        nodict=True\n",
        "        source,setter=stack[-1]\n",
        "        for k,v in source.items():\n",
        "            if isinstance(v,dict):\n",
        "                stack.append((v, dictHandler(source,k)))\n",
        "                nodict=False\n",
        "        if nodict:            \n",
        "            setter(source)\n",
        "            stack.pop()\n",
        "            \n",
        "    return d['toNamedTupleResult']"
      ],
      "metadata": {
        "id": "QJpbmEPt1p87"
      },
      "execution_count": 19,
      "outputs": []
    },
    {
      "cell_type": "code",
      "source": [
        "f=dict(x=2, z=dict(y=3,k=dict(m=2,n=1),a=dict(c=4,b=3)))\n",
        "g=dict(x=3,y=2, z=dict(a=2))\n",
        "toNamedTuple(f)"
      ],
      "metadata": {
        "colab": {
          "base_uri": "https://localhost:8080/"
        },
        "id": "gwyRZa0cpihL",
        "outputId": "bd526807-62be-4009-f810-084970f14779"
      },
      "execution_count": 20,
      "outputs": [
        {
          "output_type": "execute_result",
          "data": {
            "text/plain": [
              "_(x=2, z=_(y=3, k=_(m=2, n=1), a=_(c=4, b=3)))"
            ]
          },
          "metadata": {},
          "execution_count": 20
        }
      ]
    },
    {
      "cell_type": "code",
      "source": [
        "def printlist(l):\n",
        "    for item in l:\n",
        "        print(item)\n",
        "\n",
        "\n",
        "def dictHandler(build,k):\n",
        "    def dictSetter(v):\n",
        "        if isinstance(v,dict):\n",
        "            NT = namedtuple('_', v.keys())\n",
        "            build[k]=NT(**v)\n",
        "        elif isinstance(v,list):\n",
        "            build[k]=UserList(v)\n",
        "        return\n",
        "    return dictSetter\n",
        "\n",
        "def listHandler(l,i):\n",
        "    def listSetter(v):\n",
        "        if isinstance(v,list):\n",
        "            l[i]=UserList(v)\n",
        "            # l[i]=UserList(v)\n",
        "        elif isinstance(v,dict):\n",
        "            NT = namedtuple('_', v.keys())\n",
        "            l[i]=NT(**v)\n",
        "        else:\n",
        "            l[i]=v\n",
        "        return\n",
        "    return listSetter\n",
        "\n",
        "def listRoot(d,v):\n",
        "    d=UserList(v)\n",
        "\n",
        "\n",
        "def toNamedTuple3(orig):\n",
        "    d=deepcopy(orig)\n",
        "    if type(d) in (list,tuple):\n",
        "        stack=[(d, partial(listRoot,d))]\n",
        "    elif isinstance(d, dict):\n",
        "        stack=[(d, dictHandler(d,'result'))]\n",
        "\n",
        "    count=0\n",
        "    while stack:\n",
        "        nested=False\n",
        "        source,setter=stack[-1]\n",
        "        # printlist(stack)\n",
        "        # print(source)\n",
        "        # print(d)\n",
        "        # print('---')\n",
        "        if type(source) in (list,tuple):\n",
        "            for i,v in enumerate(source):\n",
        "                if type(v) in (dict,list,tuple):\n",
        "                    stack.append((v, listHandler(source,i)))\n",
        "                    nested=True\n",
        "\n",
        "        elif isinstance(source,dict):\n",
        "            for k,v in source.items():\n",
        "                if type(v) in (dict,list,tuple):\n",
        "                    stack.append((v, dictHandler(source,k)))\n",
        "                    nested=True\n",
        "\n",
        "        if not nested: \n",
        "            setter(source)\n",
        "            stack.pop()\n",
        "        count+=1\n",
        "    return d"
      ],
      "metadata": {
        "id": "_XJ5QjJthrtF"
      },
      "execution_count": 82,
      "outputs": []
    },
    {
      "cell_type": "code",
      "source": [
        "d=dict(b=dict(m=2,n=4))\n",
        "e=dict(c=1,g=dict(z=2))\n",
        "f=dict(x=3.,y=[d,d])\n",
        "\n",
        "z=[d,[e,f]]\n",
        "\n",
        "dt=toNamedTuple3(z)\n",
        "dt"
      ],
      "metadata": {
        "id": "3OP6JiGcyvzB",
        "colab": {
          "base_uri": "https://localhost:8080/"
        },
        "outputId": "bebb9249-497a-4df8-a615-d4455430f251"
      },
      "execution_count": 84,
      "outputs": [
        {
          "output_type": "stream",
          "name": "stdout",
          "text": [
            "[{'b': {'m': 2, 'n': 4}}, [{'c': 1, 'g': {'z': 2}}, {'x': 3.0, 'y': [{'b': {'m': 2, 'n': 4}}, {'b': {'m': 2, 'n': 4}}]}]]\n",
            "[{'b': {'m': 2, 'n': 4}}, [{'c': 1, 'g': {'z': 2}}, {'x': 3.0, 'y': [{'b': {'m': 2, 'n': 4}}, {'b': {'m': 2, 'n': 4}}]}]]\n",
            "---\n",
            "[{'c': 1, 'g': {'z': 2}}, {'x': 3.0, 'y': [{'b': {'m': 2, 'n': 4}}, {'b': {'m': 2, 'n': 4}}]}]\n",
            "[{'b': {'m': 2, 'n': 4}}, [{'c': 1, 'g': {'z': 2}}, {'x': 3.0, 'y': [{'b': {'m': 2, 'n': 4}}, {'b': {'m': 2, 'n': 4}}]}]]\n",
            "---\n",
            "{'x': 3.0, 'y': [{'b': {'m': 2, 'n': 4}}, {'b': {'m': 2, 'n': 4}}]}\n",
            "[{'b': {'m': 2, 'n': 4}}, [{'c': 1, 'g': {'z': 2}}, {'x': 3.0, 'y': [{'b': {'m': 2, 'n': 4}}, {'b': {'m': 2, 'n': 4}}]}]]\n",
            "---\n",
            "[{'b': {'m': 2, 'n': 4}}, {'b': {'m': 2, 'n': 4}}]\n",
            "[{'b': {'m': 2, 'n': 4}}, [{'c': 1, 'g': {'z': 2}}, {'x': 3.0, 'y': [{'b': {'m': 2, 'n': 4}}, {'b': {'m': 2, 'n': 4}}]}]]\n",
            "---\n",
            "{'b': {'m': 2, 'n': 4}}\n",
            "[{'b': {'m': 2, 'n': 4}}, [{'c': 1, 'g': {'z': 2}}, {'x': 3.0, 'y': [{'b': {'m': 2, 'n': 4}}, {'b': {'m': 2, 'n': 4}}]}]]\n",
            "---\n",
            "{'m': 2, 'n': 4}\n",
            "[{'b': {'m': 2, 'n': 4}}, [{'c': 1, 'g': {'z': 2}}, {'x': 3.0, 'y': [{'b': {'m': 2, 'n': 4}}, {'b': {'m': 2, 'n': 4}}]}]]\n",
            "---\n",
            "{'b': _(m=2, n=4)}\n",
            "[{'b': _(m=2, n=4)}, [{'c': 1, 'g': {'z': 2}}, {'x': 3.0, 'y': [{'b': _(m=2, n=4)}, {'b': _(m=2, n=4)}]}]]\n",
            "---\n",
            "{'b': _(m=2, n=4)}\n",
            "[{'b': _(m=2, n=4)}, [{'c': 1, 'g': {'z': 2}}, {'x': 3.0, 'y': [{'b': _(m=2, n=4)}, _(b=_(m=2, n=4))]}]]\n",
            "---\n",
            "[_(b=_(m=2, n=4)), _(b=_(m=2, n=4))]\n",
            "[{'b': _(m=2, n=4)}, [{'c': 1, 'g': {'z': 2}}, {'x': 3.0, 'y': [_(b=_(m=2, n=4)), _(b=_(m=2, n=4))]}]]\n",
            "---\n",
            "{'x': 3.0, 'y': [_(b=_(m=2, n=4)), _(b=_(m=2, n=4))]}\n",
            "[{'b': _(m=2, n=4)}, [{'c': 1, 'g': {'z': 2}}, {'x': 3.0, 'y': [_(b=_(m=2, n=4)), _(b=_(m=2, n=4))]}]]\n",
            "---\n",
            "{'c': 1, 'g': {'z': 2}}\n",
            "[{'b': _(m=2, n=4)}, [{'c': 1, 'g': {'z': 2}}, _(x=3.0, y=[_(b=_(m=2, n=4)), _(b=_(m=2, n=4))])]]\n",
            "---\n",
            "{'z': 2}\n",
            "[{'b': _(m=2, n=4)}, [{'c': 1, 'g': {'z': 2}}, _(x=3.0, y=[_(b=_(m=2, n=4)), _(b=_(m=2, n=4))])]]\n",
            "---\n",
            "{'c': 1, 'g': _(z=2)}\n",
            "[{'b': _(m=2, n=4)}, [{'c': 1, 'g': _(z=2)}, _(x=3.0, y=[_(b=_(m=2, n=4)), _(b=_(m=2, n=4))])]]\n",
            "---\n",
            "[_(c=1, g=_(z=2)), _(x=3.0, y=[_(b=_(m=2, n=4)), _(b=_(m=2, n=4))])]\n",
            "[{'b': _(m=2, n=4)}, [_(c=1, g=_(z=2)), _(x=3.0, y=[_(b=_(m=2, n=4)), _(b=_(m=2, n=4))])]]\n",
            "---\n",
            "{'b': _(m=2, n=4)}\n",
            "[{'b': _(m=2, n=4)}, [_(c=1, g=_(z=2)), _(x=3.0, y=[_(b=_(m=2, n=4)), _(b=_(m=2, n=4))])]]\n",
            "---\n",
            "[_(b=_(m=2, n=4)), [_(c=1, g=_(z=2)), _(x=3.0, y=[_(b=_(m=2, n=4)), _(b=_(m=2, n=4))])]]\n",
            "[_(b=_(m=2, n=4)), [_(c=1, g=_(z=2)), _(x=3.0, y=[_(b=_(m=2, n=4)), _(b=_(m=2, n=4))])]]\n",
            "---\n"
          ]
        },
        {
          "output_type": "execute_result",
          "data": {
            "text/plain": [
              "[_(b=_(m=2, n=4)),\n",
              " [_(c=1, g=_(z=2)), _(x=3.0, y=[_(b=_(m=2, n=4)), _(b=_(m=2, n=4))])]]"
            ]
          },
          "metadata": {},
          "execution_count": 84
        }
      ]
    },
    {
      "cell_type": "code",
      "source": [
        "dt[1][1].x"
      ],
      "metadata": {
        "colab": {
          "base_uri": "https://localhost:8080/"
        },
        "id": "TA7TL8_adR7C",
        "outputId": "65c387ea-5a23-43ff-a695-e204b3b88bd6"
      },
      "execution_count": 72,
      "outputs": [
        {
          "output_type": "execute_result",
          "data": {
            "text/plain": [
              "3.0"
            ]
          },
          "metadata": {},
          "execution_count": 72
        }
      ]
    },
    {
      "cell_type": "code",
      "source": [
        "                pval,tree = tu.tree_flatten(dt)"
      ],
      "metadata": {
        "id": "7etz1LXrWX4k"
      },
      "execution_count": 59,
      "outputs": []
    },
    {
      "cell_type": "code",
      "source": [
        "val,tree"
      ],
      "metadata": {
        "colab": {
          "base_uri": "https://localhost:8080/"
        },
        "id": "UvIgLdnOeTt0",
        "outputId": "4493d0ce-d0c7-48c1-cfcf-56974f0dba98"
      },
      "execution_count": 24,
      "outputs": [
        {
          "output_type": "execute_result",
          "data": {
            "text/plain": [
              "([1, 2, 3.0, 1.0], PyTreeDef([*, [*, {'x': *, 'y': *}]]))"
            ]
          },
          "metadata": {},
          "execution_count": 24
        }
      ]
    },
    {
      "cell_type": "code",
      "source": [
        "val2 = np.random.normal(size=len(val))"
      ],
      "metadata": {
        "id": "jxN6rqbXfU_Z"
      },
      "execution_count": 25,
      "outputs": []
    },
    {
      "cell_type": "code",
      "source": [
        "%%timeit\n",
        "tu.tree_unflatten(tree, val2)"
      ],
      "metadata": {
        "colab": {
          "base_uri": "https://localhost:8080/"
        },
        "id": "XKFoLTlAfiUI",
        "outputId": "bff2cc80-9fc8-4384-be88-01bcca9498ba"
      },
      "execution_count": 26,
      "outputs": [
        {
          "output_type": "stream",
          "name": "stdout",
          "text": [
            "The slowest run took 14.39 times longer than the fastest. This could mean that an intermediate result is being cached.\n",
            "100000 loops, best of 5: 2.07 µs per loop\n"
          ]
        }
      ]
    },
    {
      "cell_type": "code",
      "source": [
        "ll=UserList([24,5])"
      ],
      "metadata": {
        "id": "T-Us3xsJfnOp"
      },
      "execution_count": 27,
      "outputs": []
    },
    {
      "cell_type": "code",
      "source": [
        "ll.data"
      ],
      "metadata": {
        "colab": {
          "base_uri": "https://localhost:8080/"
        },
        "id": "vbrnK6WCRxLo",
        "outputId": "e17a83f0-4e9e-4a41-9f16-d82de78ca4c0"
      },
      "execution_count": 28,
      "outputs": [
        {
          "output_type": "execute_result",
          "data": {
            "text/plain": [
              "[24, 5]"
            ]
          },
          "metadata": {},
          "execution_count": 28
        }
      ]
    },
    {
      "cell_type": "code",
      "source": [
        "ll[0]=6"
      ],
      "metadata": {
        "id": "kOlCcdT8R0nP"
      },
      "execution_count": 29,
      "outputs": []
    },
    {
      "cell_type": "code",
      "source": [
        "isinstance(ll,list)"
      ],
      "metadata": {
        "colab": {
          "base_uri": "https://localhost:8080/"
        },
        "id": "ug6Lf0FyR7oh",
        "outputId": "9c86bb1b-cd26-4b2c-dff9-0e7a5b625f10"
      },
      "execution_count": 30,
      "outputs": [
        {
          "output_type": "execute_result",
          "data": {
            "text/plain": [
              "False"
            ]
          },
          "metadata": {},
          "execution_count": 30
        }
      ]
    },
    {
      "cell_type": "code",
      "source": [
        ""
      ],
      "metadata": {
        "id": "1DK12THKq9t3"
      },
      "execution_count": null,
      "outputs": []
    }
  ]
}