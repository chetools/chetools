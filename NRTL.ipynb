{
  "nbformat": 4,
  "nbformat_minor": 0,
  "metadata": {
    "colab": {
      "name": "NRTL.ipynb",
      "provenance": [],
      "authorship_tag": "ABX9TyPhJP8/uTeGnEEYMKryPuCg",
      "include_colab_link": true
    },
    "kernelspec": {
      "name": "python3",
      "display_name": "Python 3"
    },
    "language_info": {
      "name": "python"
    }
  },
  "cells": [
    {
      "cell_type": "markdown",
      "metadata": {
        "id": "view-in-github",
        "colab_type": "text"
      },
      "source": [
        "<a href=\"https://colab.research.google.com/github/profteachkids/chetools/blob/main/NRTL.ipynb\" target=\"_parent\"><img src=\"https://colab.research.google.com/assets/colab-badge.svg\" alt=\"Open In Colab\"/></a>"
      ]
    },
    {
      "cell_type": "code",
      "execution_count": 1,
      "metadata": {
        "id": "LYacKXeWITil",
        "outputId": "b6e1dad0-6af6-4c31-926c-b770604320b6",
        "colab": {
          "base_uri": "https://localhost:8080/"
        }
      },
      "outputs": [
        {
          "output_type": "stream",
          "name": "stdout",
          "text": [
            "Looking in indexes: https://pypi.org/simple, https://us-python.pkg.dev/colab-wheels/public/simple/\n",
            "Collecting importnb\n",
            "  Downloading importnb-2022.10.24-py3-none-any.whl (39 kB)\n",
            "Installing collected packages: importnb\n",
            "Successfully installed importnb-2022.10.24\n"
          ]
        }
      ],
      "source": [
        "!wget -N -q https://raw.githubusercontent.com/profteachkids/chetools/main/tools/che4.ipynb -O che4.ipynb\n",
        "!pip install importnb"
      ]
    },
    {
      "cell_type": "code",
      "source": [
        "from importnb import Notebook\n",
        "with Notebook(): \n",
        "    from che4 import Props\n",
        "\n",
        "import numpy as np"
      ],
      "metadata": {
        "id": "8d53LOlwI0f5",
        "outputId": "78fb56af-6787-4ac9-8c7b-ba5c2ad25c08",
        "colab": {
          "base_uri": "https://localhost:8080/"
        }
      },
      "execution_count": 2,
      "outputs": [
        {
          "output_type": "stream",
          "name": "stderr",
          "text": [
            "WARNING:absl:No GPU/TPU found, falling back to CPU. (Set TF_CPP_MIN_LOG_LEVEL=0 and rerun for more info.)\n"
          ]
        }
      ]
    },
    {
      "cell_type": "code",
      "source": [
        "p = Props(['Ethanol','Isopropanol','Water'])"
      ],
      "metadata": {
        "id": "JIFXVVByI1H5"
      },
      "execution_count": 3,
      "outputs": []
    },
    {
      "cell_type": "markdown",
      "source": [
        "### NRTL Activity Coefficient Model\n",
        "\n",
        "$ln (\\gamma_i) = \\dfrac{ \\sum\\limits_{j=1}^{n}x_j \\tau_{ji}G_{ji}}{\\sum\\limits_{k=1}^{n}x_kG_{ki}} + \n",
        "\\sum\\limits_{j=1}^{n} \\dfrac{x_jG_{ij}}{\\sum\\limits_{k=1}^{n}x_k G_{kj}} \\left( \\tau_{ij} - \n",
        "\\dfrac{\\sum\\limits_{m=1}^{n} x_m \\tau_{mj} G_{mj}}{\\sum\\limits_{k=1}^{n} x_kG_{kj}} \\right)$\n",
        "\n",
        "$\\tau_{ji} = A_{ji} + \\dfrac{B_{ji}}{T} + C_{ji}ln(T)+D_{ji}T$\n",
        "\n",
        "$G_{ji}=exp \\left( - \\alpha_{ji} \\tau_{ji} \\right)$\n",
        "\n",
        "$\\alpha_{ij}=\\alpha_{ji}$"
      ],
      "metadata": {
        "id": "SpElp_I2Pj8N"
      }
    },
    {
      "cell_type": "code",
      "source": [
        "def NRTL_einsum(x,T):\n",
        "    tau = p.NRTL_A + p.NRTL_B/T + p.NRTL_C*np.log(T) + p.NRTL_D*T\n",
        "    G = np.exp(-p.NRTL_alpha*tau)\n",
        "    xtauG=np.einsum('j,ji',x,tau*G)\n",
        "    xG=np.einsum('k,ki',x,G)\n",
        "    xtauGdivxG=xtauG/xG\n",
        "    term2 = np.einsum('j,ij',x,G*(tau-xtauGdivxG)/xG[None,:])\n",
        "    return np.exp(xtauGdivxG+term2)"
      ],
      "metadata": {
        "id": "i2tgv7lR_7pF"
      },
      "execution_count": 38,
      "outputs": []
    },
    {
      "cell_type": "code",
      "source": [
        "def NRTL(x, T):\n",
        "    tau = p.NRTL_A + p.NRTL_B/T + p.NRTL_C*np.log(T) + p.NRTL_D*T\n",
        "    G = np.exp(-p.NRTL_alpha*tau)\n",
        "    n = x.size\n",
        "    xtauG = np.zeros(3)\n",
        "    xG=np.zeros(3)\n",
        "    term2 = np.zeros(3)\n",
        "    for i in range(n):\n",
        "        for j in range(n):\n",
        "            xtauG[i]=xtauG[i]+x[j]*tau[j,i]*G[j,i]\n",
        "        for k in range(n):\n",
        "            xG[i]=xG[i]+x[k]*G[k,i]\n",
        "    xtauGdivxG = xtauG/xG\n",
        "\n",
        "    for i in range(n):\n",
        "        for j in range(n):\n",
        "            term2[i]=term2[i]+ x[j]*G[i,j]*(tau[i,j] - xtauGdivxG[j])/xG[j]\n",
        "    return (np.exp(xtauGdivxG + term2))\n",
        "\n",
        "        "
      ],
      "metadata": {
        "id": "eeED3RqXJgnK"
      },
      "execution_count": 39,
      "outputs": []
    },
    {
      "cell_type": "code",
      "source": [
        "x=np.array([1/3, 1/3, 1/3])"
      ],
      "metadata": {
        "id": "cIAUueK-I5mo"
      },
      "execution_count": 40,
      "outputs": []
    },
    {
      "cell_type": "code",
      "source": [
        "NRTL(x,298.)"
      ],
      "metadata": {
        "colab": {
          "base_uri": "https://localhost:8080/"
        },
        "id": "qrDcucUdKAsB",
        "outputId": "f4d9c2ad-b2ef-4a0b-8891-02757af70313"
      },
      "execution_count": 41,
      "outputs": [
        {
          "output_type": "execute_result",
          "data": {
            "text/plain": [
              "array([1.02500286, 1.13152448, 2.06917874])"
            ]
          },
          "metadata": {},
          "execution_count": 41
        }
      ]
    },
    {
      "cell_type": "code",
      "source": [
        "def NRTL_gamma(x, T):\n",
        "    x=np.asarray(x).reshape((1,-1))\n",
        "    tau = (p.NRTL_A + p.NRTL_B / T + p.NRTL_C * np.log(T) +\n",
        "            p.NRTL_D * T)\n",
        "    G = np.exp(-p.NRTL_alpha * tau)\n",
        "    xG=x @ G\n",
        "    xtauGdivxG = (x@ (tau*G)/ xG)\n",
        "    lngamma = xtauGdivxG +  (((G*(tau - xtauGdivxG))/xG) @x.T).T\n",
        "    return np.exp(lngamma).flatten()"
      ],
      "metadata": {
        "id": "Pcm_woxuKCP_"
      },
      "execution_count": 42,
      "outputs": []
    },
    {
      "cell_type": "code",
      "source": [
        "NRTL_gamma(x,298.)\n"
      ],
      "metadata": {
        "colab": {
          "base_uri": "https://localhost:8080/"
        },
        "id": "KmRiIS5OKl6p",
        "outputId": "3e2c7db0-f06b-4e20-e4b9-fff38dba20f8"
      },
      "execution_count": 43,
      "outputs": [
        {
          "output_type": "execute_result",
          "data": {
            "text/plain": [
              "array([1.02500286, 1.13152448, 2.06917874])"
            ]
          },
          "metadata": {},
          "execution_count": 43
        }
      ]
    },
    {
      "cell_type": "code",
      "source": [
        "NRTL_einsum(x,298.)"
      ],
      "metadata": {
        "id": "IqOuNERrLsUt",
        "outputId": "dfd35f31-f608-4b29-fdb3-6f60f5a0222f",
        "colab": {
          "base_uri": "https://localhost:8080/"
        }
      },
      "execution_count": 44,
      "outputs": [
        {
          "output_type": "execute_result",
          "data": {
            "text/plain": [
              "array([1.02500286, 1.13152448, 2.06917874])"
            ]
          },
          "metadata": {},
          "execution_count": 44
        }
      ]
    },
    {
      "cell_type": "code",
      "source": [],
      "metadata": {
        "id": "a2cE8s1JC_ar"
      },
      "execution_count": null,
      "outputs": []
    }
  ]
}