{
  "nbformat": 4,
  "nbformat_minor": 0,
  "metadata": {
    "colab": {
      "provenance": [],
      "collapsed_sections": [],
      "authorship_tag": "ABX9TyNQt5eQYtUQwM6GSi8L8ttM",
      "include_colab_link": true
    },
    "kernelspec": {
      "name": "python3",
      "display_name": "Python 3"
    },
    "language_info": {
      "name": "python"
    }
  },
  "cells": [
    {
      "cell_type": "markdown",
      "metadata": {
        "id": "view-in-github",
        "colab_type": "text"
      },
      "source": [
        "<a href=\"https://colab.research.google.com/github/profteachkids/chetools/blob/main/tools/ipopt.ipynb\" target=\"_parent\"><img src=\"https://colab.research.google.com/assets/colab-badge.svg\" alt=\"Open In Colab\"/></a>"
      ]
    },
    {
      "cell_type": "code",
      "source": [
        "!pip install -q condacolab\n",
        "import condacolab\n",
        "condacolab.install()"
      ],
      "metadata": {
        "colab": {
          "base_uri": "https://localhost:8080/"
        },
        "id": "gJefRWFmJVED",
        "outputId": "555ca8b4-54af-4869-9b7f-24d0a07b893d"
      },
      "execution_count": 1,
      "outputs": [
        {
          "output_type": "stream",
          "name": "stdout",
          "text": [
            "⏬ Downloading https://github.com/jaimergp/miniforge/releases/latest/download/Mambaforge-colab-Linux-x86_64.sh...\n",
            "📦 Installing...\n",
            "📌 Adjusting configuration...\n",
            "🩹 Patching environment...\n",
            "⏲ Done in 0:00:36\n",
            "🔁 Restarting kernel...\n"
          ]
        }
      ]
    },
    {
      "cell_type": "code",
      "source": [
        "!conda install -c conda-forge cyipopt"
      ],
      "metadata": {
        "colab": {
          "base_uri": "https://localhost:8080/"
        },
        "id": "J5nVmkt5JlbR",
        "outputId": "0e632ec4-6884-405b-fdd0-5520ed8e1a14"
      },
      "execution_count": 2,
      "outputs": [
        {
          "output_type": "stream",
          "name": "stdout",
          "text": [
            "Collecting package metadata (current_repodata.json): - \b\b\\ \b\b| \b\b/ \b\b- \b\b\\ \b\b| \b\b/ \b\b- \b\b\\ \b\b| \b\b/ \b\b- \b\b\\ \b\b| \b\b/ \b\b- \b\b\\ \b\b| \b\b/ \b\b- \b\b\\ \b\b| \b\b/ \b\b- \b\b\\ \b\b| \b\b/ \b\b- \b\b\\ \b\b| \b\b/ \b\b- \b\b\\ \b\b| \b\b/ \b\b- \b\b\\ \b\b| \b\b/ \b\b- \b\b\\ \b\b| \b\b/ \b\b- \b\b\\ \b\b| \b\b/ \b\b- \b\b\\ \b\b| \b\b/ \b\b- \b\b\\ \b\b| \b\b/ \b\b- \b\b\\ \b\b| \b\b/ \b\b- \b\b\\ \b\b| \b\b/ \b\b- \b\b\\ \b\b| \b\b/ \b\b- \b\b\\ \b\b| \b\b/ \b\b- \b\b\\ \b\b| \b\b/ \b\b- \b\b\\ \b\b| \b\b/ \b\b- \b\b\\ \b\b| \b\b/ \b\b- \b\b\\ \b\b| \b\b/ \b\b- \b\b\\ \b\b| \b\b/ \b\b- \b\b\\ \b\b| \b\b/ \b\b- \b\b\\ \b\b| \b\b/ \b\b- \b\b\\ \b\b| \b\b/ \b\b- \b\b\\ \b\b| \b\b/ \b\b- \b\b\\ \b\b| \b\b/ \b\b- \b\b\\ \b\b| \b\b/ \b\b- \b\b\\ \b\b| \b\b/ \b\b- \b\b\\ \b\b| \b\b/ \b\b- \b\b\\ \b\b| \b\b/ \b\b- \b\b\\ \b\b| \b\b/ \b\b- \b\b\\ \b\b| \b\b/ \b\b- \b\b\\ \b\b| \b\b/ \b\b- \b\b\\ \b\b| \b\b/ \b\b- \b\bdone\n",
            "Solving environment: | \b\b/ \b\b- \b\b\\ \b\b| \b\b/ \b\b- \b\b\\ \b\b| \b\b/ \b\b- \b\b\\ \b\b| \b\b/ \b\b- \b\b\\ \b\b| \b\b/ \b\b- \b\b\\ \b\b| \b\b/ \b\b- \b\b\\ \b\b| \b\b/ \b\b- \b\b\\ \b\b| \b\b/ \b\b- \b\b\\ \b\b| \b\b/ \b\b- \b\b\\ \b\b| \b\b/ \b\b- \b\b\\ \b\b| \b\b/ \b\b- \b\b\\ \b\b| \b\bdone\n",
            "\n",
            "## Package Plan ##\n",
            "\n",
            "  environment location: /usr/local\n",
            "\n",
            "  added / updated specs:\n",
            "    - cyipopt\n",
            "\n",
            "\n",
            "The following packages will be downloaded:\n",
            "\n",
            "    package                    |            build\n",
            "    ---------------------------|-----------------\n",
            "    ampl-mp-3.1.0              |    h2cc385e_1006         1.1 MB  conda-forge\n",
            "    certifi-2022.6.15          |     pyhd8ed1ab_1         154 KB  conda-forge\n",
            "    cyipopt-1.1.0              |   py37hb2fd402_3         135 KB  conda-forge\n",
            "    future-0.18.2              |   py37h89c1867_5         713 KB  conda-forge\n",
            "    ipopt-3.14.8               |       hc8a599a_0         1.1 MB  conda-forge\n",
            "    libblas-3.9.0              |16_linux64_openblas          13 KB  conda-forge\n",
            "    libcblas-3.9.0             |16_linux64_openblas          13 KB  conda-forge\n",
            "    libgfortran-ng-12.1.0      |      h69a702a_16          23 KB  conda-forge\n",
            "    libgfortran5-12.1.0        |      hdcd56e2_16         1.8 MB  conda-forge\n",
            "    liblapack-3.9.0            |16_linux64_openblas          13 KB  conda-forge\n",
            "    libopenblas-0.3.21         |pthreads_h78a6416_3        10.1 MB  conda-forge\n",
            "    metis-5.1.0                |    h58526e2_1006         4.1 MB  conda-forge\n",
            "    mumps-include-5.2.1        |      ha770c72_11          23 KB  conda-forge\n",
            "    mumps-seq-5.2.1            |      h2104b81_11         3.3 MB  conda-forge\n",
            "    numpy-1.21.6               |   py37h976b520_0         6.1 MB  conda-forge\n",
            "    scotch-6.0.9               |       hb2e6521_2         1.3 MB  conda-forge\n",
            "    unixodbc-2.3.10            |       h583eb01_0         296 KB  conda-forge\n",
            "    zlib-1.2.12                |       h166bdaf_2          91 KB  conda-forge\n",
            "    ------------------------------------------------------------\n",
            "                                           Total:        30.3 MB\n",
            "\n",
            "The following NEW packages will be INSTALLED:\n",
            "\n",
            "  ampl-mp            conda-forge/linux-64::ampl-mp-3.1.0-h2cc385e_1006\n",
            "  cyipopt            conda-forge/linux-64::cyipopt-1.1.0-py37hb2fd402_3\n",
            "  future             conda-forge/linux-64::future-0.18.2-py37h89c1867_5\n",
            "  ipopt              conda-forge/linux-64::ipopt-3.14.8-hc8a599a_0\n",
            "  libblas            conda-forge/linux-64::libblas-3.9.0-16_linux64_openblas\n",
            "  libcblas           conda-forge/linux-64::libcblas-3.9.0-16_linux64_openblas\n",
            "  libgfortran-ng     conda-forge/linux-64::libgfortran-ng-12.1.0-h69a702a_16\n",
            "  libgfortran5       conda-forge/linux-64::libgfortran5-12.1.0-hdcd56e2_16\n",
            "  liblapack          conda-forge/linux-64::liblapack-3.9.0-16_linux64_openblas\n",
            "  libopenblas        conda-forge/linux-64::libopenblas-0.3.21-pthreads_h78a6416_3\n",
            "  metis              conda-forge/linux-64::metis-5.1.0-h58526e2_1006\n",
            "  mumps-include      conda-forge/linux-64::mumps-include-5.2.1-ha770c72_11\n",
            "  mumps-seq          conda-forge/linux-64::mumps-seq-5.2.1-h2104b81_11\n",
            "  numpy              conda-forge/linux-64::numpy-1.21.6-py37h976b520_0\n",
            "  scotch             conda-forge/linux-64::scotch-6.0.9-hb2e6521_2\n",
            "  unixodbc           conda-forge/linux-64::unixodbc-2.3.10-h583eb01_0\n",
            "  zlib               conda-forge/linux-64::zlib-1.2.12-h166bdaf_2\n",
            "\n",
            "The following packages will be UPDATED:\n",
            "\n",
            "  certifi            conda-forge/linux-64::certifi-2022.6.~ --> conda-forge/noarch::certifi-2022.6.15-pyhd8ed1ab_1\n",
            "\n",
            "\n",
            "\n",
            "Downloading and Extracting Packages\n",
            "ipopt-3.14.8         | 1.1 MB    | : 100% 1.0/1 [00:00<00:00,  1.95it/s]\n",
            "libgfortran5-12.1.0  | 1.8 MB    | : 100% 1.0/1 [00:00<00:00,  2.02it/s]\n",
            "cyipopt-1.1.0        | 135 KB    | : 100% 1.0/1 [00:00<00:00,  6.30it/s]                \n",
            "metis-5.1.0          | 4.1 MB    | : 100% 1.0/1 [00:01<00:00,  1.11s/it]\n",
            "liblapack-3.9.0      | 13 KB     | : 100% 1.0/1 [00:00<00:00, 18.03it/s]\n",
            "mumps-include-5.2.1  | 23 KB     | : 100% 1.0/1 [00:00<00:00, 18.98it/s]\n",
            "zlib-1.2.12          | 91 KB     | : 100% 1.0/1 [00:00<00:00, 14.38it/s]\n",
            "libgfortran-ng-12.1. | 23 KB     | : 100% 1.0/1 [00:00<00:00, 17.18it/s]\n",
            "ampl-mp-3.1.0        | 1.1 MB    | : 100% 1.0/1 [00:00<00:00,  2.85it/s]\n",
            "libopenblas-0.3.21   | 10.1 MB   | : 100% 1.0/1 [00:02<00:00,  2.71s/it]               \n",
            "numpy-1.21.6         | 6.1 MB    | : 100% 1.0/1 [00:01<00:00,  1.91s/it]\n",
            "unixodbc-2.3.10      | 296 KB    | : 100% 1.0/1 [00:00<00:00,  7.22it/s]\n",
            "libcblas-3.9.0       | 13 KB     | : 100% 1.0/1 [00:00<00:00, 20.86it/s]\n",
            "scotch-6.0.9         | 1.3 MB    | : 100% 1.0/1 [00:00<00:00,  2.68it/s]\n",
            "libblas-3.9.0        | 13 KB     | : 100% 1.0/1 [00:00<00:00, 18.49it/s]\n",
            "future-0.18.2        | 713 KB    | : 100% 1.0/1 [00:00<00:00,  2.99it/s]\n",
            "certifi-2022.6.15    | 154 KB    | : 100% 1.0/1 [00:00<00:00, 13.29it/s]\n",
            "mumps-seq-5.2.1      | 3.3 MB    | : 100% 1.0/1 [00:00<00:00,  1.13it/s]               \n",
            "Preparing transaction: - \b\bdone\n",
            "Verifying transaction: | \b\b/ \b\b- \b\b\\ \b\bdone\n",
            "Executing transaction: / \b\b- \b\b\\ \b\b| \b\b/ \b\b- \b\b\\ \b\b| \b\b/ \b\b- \b\b\\ \b\b| \b\b/ \b\b- \b\b\\ \b\b| \b\b/ \b\b- \b\b\\ \b\b| \b\bdone\n",
            "Retrieving notices: ...working... done\n"
          ]
        }
      ]
    },
    {
      "cell_type": "code",
      "source": [
        "import jax\n",
        "import jax.numpy as jnp\n",
        "jax.config.update(\"jax_enable_x64\", True)\n",
        "\n",
        "import cyipopt\n",
        "from cyipopt import minimize_ipopt\n",
        "from functools import partial"
      ],
      "metadata": {
        "id": "dCb7yc07H2oy"
      },
      "execution_count": 1,
      "outputs": []
    },
    {
      "cell_type": "code",
      "source": [
        "class Problem():\n",
        "    def __init__(self,obj,constraints,x0,show_intermediate=True):\n",
        "        self.x0=x0\n",
        "        self.show_intermediate=show_intermediate\n",
        "        self.obj=obj\n",
        "        self.obj_jit=jax.jit(obj)\n",
        "        self.obj_grad = jax.jit(jax.grad(obj))\n",
        "        self.constraints_functions=constraints\n",
        "        self.constraint_jac = jax.jit(jax.jacobian(self.combined_constraints))\n",
        "        self.hess = jax.jit(jax.jacrev(jax.jacfwd(self.L)))\n",
        "        self.n_constraints = self.combined_constraints(self.x0).size\n",
        "        self.row, self.col = self.hessianstructure()\n",
        "\n",
        "\n",
        "    def objective(self, x):\n",
        "        return self.obj_jit(x)\n",
        "\n",
        "    def gradient(self, x):\n",
        "        return self.obj_grad(x)\n",
        "\n",
        "    @partial(jax.jit, static_argnums=(0,))\n",
        "    def combined_constraints(self, x):\n",
        "        constraint_list=[jnp.atleast_1d(f(x)) for f in self.constraints_functions]\n",
        "        if len(constraint_list) == 0:\n",
        "            return jnp.array([])\n",
        "        return jnp.concatenate(constraint_list)\n",
        "\n",
        "    def constraints(self, x):\n",
        "        return self.combined_constraints(x)\n",
        "\n",
        "    def jacobian(self, x):\n",
        "        return self.constraint_jac(x)\n",
        "\n",
        "\n",
        "\n",
        "    @partial(jax.jit, static_argnums=(0,))\n",
        "    def L(self, x, lagrange, obj_factor):\n",
        "        return obj_factor*self.obj(x) + jnp.sum(lagrange*self.combined_constraints(x))\n",
        "\n",
        "    def hessian(self, x, lagrange, obj_factor):\n",
        "        return self.hess(x,lagrange,obj_factor)[self.row, self.col]\n",
        "\n",
        "    def hessianstructure(self):\n",
        "        return jnp.nonzero(jnp.tril(self.hess(self.x0,jnp.ones(self.n_constraints), 1.)))\n",
        "\n",
        "    def intermediate(self, alg_mod, iter_count, obj_value, inf_pr, inf_du, mu,\n",
        "                     d_norm, regularization_size, alpha_du, alpha_pr,\n",
        "                     ls_trials):\n",
        "        \"\"\"Prints information at every Ipopt iteration.\"\"\"\n",
        "        if not self.show_intermediate:\n",
        "            return\n",
        "        msg = \"Objective value at iteration #{:d} is - {:g}\"\n",
        "\n",
        "        print(msg.format(iter_count, obj_value))\n",
        "\n"
      ],
      "metadata": {
        "id": "KuAhH9JauPk5"
      },
      "execution_count": 15,
      "outputs": []
    },
    {
      "cell_type": "code",
      "source": [
        "# n_grades = 100\n",
        "# grades = jnp.arange(n_grades)\n",
        "\n",
        "\n",
        "# def entropy(p):\n",
        "#     return jnp.sum(p[:n_grades]*jnp.log(p[:n_grades]))\n",
        "\n",
        "# def p_constraint(p):\n",
        "#     return jnp.sum(p[:n_grades])-1.\n",
        "\n",
        "# def avg_constraint(p):\n",
        "#     return jnp.sum(p[:n_grades]*grades)-50.\n",
        "\n",
        "# def std_constraint(p):\n",
        "#     avg = jnp.sum(p[:n_grades]*grades)\n",
        "#     std= jnp.sqrt(jnp.sum(p[:n_grades]*(grades - avg)**2 )) - 10.\n",
        "#     return std\n",
        "\n",
        "# problem=Problem(entropy, [entropy, p_constraint, avg_constraint, std_constraint], jnp.full(n_grades,1/n_grades), show_intermediate=True)\n",
        "# x0 = jnp.full(n_grades,1/n_grades)\n",
        "# nlp=cyipopt.Problem(\n",
        "#    n=len(x0),\n",
        "#    m=problem.n_constraints,\n",
        "#    problem_obj=problem,\n",
        "#    lb=[0.]*len(x0),\n",
        "#    ub=[1.]*len(x0),\n",
        "#    cl=[0.]*problem.n_constraints,\n",
        "#    cu=[0.]*problem.n_constraints,\n",
        "# )\n",
        "# res=nlp.solve(x0)\n",
        "# res[0]"
      ],
      "metadata": {
        "id": "0eUY0TQ2uScr"
      },
      "execution_count": 18,
      "outputs": []
    },
    {
      "cell_type": "code",
      "source": [],
      "metadata": {
        "id": "EhmWAARWufhi"
      },
      "execution_count": null,
      "outputs": []
    }
  ]
}