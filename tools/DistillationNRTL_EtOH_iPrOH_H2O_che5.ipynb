{
  "nbformat": 4,
  "nbformat_minor": 0,
  "metadata": {
    "colab": {
      "provenance": [],
      "authorship_tag": "ABX9TyPwAd/IcYvrEPqaCyAzEBqJ",
      "include_colab_link": true
    },
    "kernelspec": {
      "name": "python3",
      "display_name": "Python 3"
    },
    "language_info": {
      "name": "python"
    }
  },
  "cells": [
    {
      "cell_type": "markdown",
      "metadata": {
        "id": "view-in-github",
        "colab_type": "text"
      },
      "source": [
        "<a href=\"https://colab.research.google.com/github/profteachkids/chetools/blob/main/tools/DistillationNRTL_EtOH_iPrOH_H2O_che5.ipynb\" target=\"_parent\"><img src=\"https://colab.research.google.com/assets/colab-badge.svg\" alt=\"Open In Colab\"/></a>"
      ]
    },
    {
      "cell_type": "code",
      "source": [
        "!wget -N -q https://raw.githubusercontent.com/profteachkids/chetools/main/tools/che5.ipynb -O che5.ipynb\n",
        "!pip install importnb"
      ],
      "metadata": {
        "colab": {
          "base_uri": "https://localhost:8080/"
        },
        "id": "69l3XTFqXPJl",
        "outputId": "26cd7f3f-6426-4604-fe31-f90d10f8ee46"
      },
      "execution_count": 1,
      "outputs": [
        {
          "output_type": "stream",
          "name": "stdout",
          "text": [
            "Collecting importnb\n",
            "  Downloading importnb-2023.1.7-py3-none-any.whl (42 kB)\n",
            "\u001b[?25l     \u001b[90m━━━━━━━━━━━━━━━━━━━━━━━━━━━━━━━━━━━━━━━━\u001b[0m \u001b[32m0.0/42.9 kB\u001b[0m \u001b[31m?\u001b[0m eta \u001b[36m-:--:--\u001b[0m\r\u001b[2K     \u001b[90m━━━━━━━━━━━━━━━━━━━━━━━━━━━━━━━━━━━━━━━━\u001b[0m \u001b[32m42.9/42.9 kB\u001b[0m \u001b[31m1.2 MB/s\u001b[0m eta \u001b[36m0:00:00\u001b[0m\n",
            "\u001b[?25hInstalling collected packages: importnb\n",
            "Successfully installed importnb-2023.1.7\n"
          ]
        }
      ]
    },
    {
      "cell_type": "code",
      "source": [
        "from importnb import Notebook\n",
        "with Notebook():\n",
        "    from che5 import DotDict, Range, RangeArray, Comp, CompArray, d2nt, Props\n",
        "\n",
        "import numpy as np\n",
        "from scipy.optimize import root,minimize\n",
        "import jax\n",
        "import jax.numpy as jnp\n",
        "from jax.config import config\n",
        "config.update(\"jax_enable_x64\", True)"
      ],
      "metadata": {
        "id": "RRVu8H8IXa3w"
      },
      "execution_count": 2,
      "outputs": []
    },
    {
      "cell_type": "code",
      "source": [
        "p=Props(['Ethanol','Isopropanol', 'Water'])"
      ],
      "metadata": {
        "id": "aIjT8yBZI59y",
        "outputId": "56a0639b-c6f4-4183-a819-b52e004a7617",
        "colab": {
          "base_uri": "https://localhost:8080/"
        }
      },
      "execution_count": 3,
      "outputs": [
        {
          "output_type": "stream",
          "name": "stderr",
          "text": [
            "WARNING:jax._src.xla_bridge:No GPU/TPU found, falling back to CPU. (Set TF_CPP_MIN_LOG_LEVEL=0 and rerun for more info.)\n"
          ]
        }
      ]
    },
    {
      "cell_type": "code",
      "source": [
        "d=DotDict()\n",
        "\n",
        "d.P = 1e5\n",
        "d.N = 15\n",
        "d.NC = p.N_comps\n",
        "d.F= 100.\n",
        "d.Fz = np.array([0.1,0.1, 0.8])\n",
        "d.FT =320.\n",
        "d.D = 0.15*d.F\n",
        "d.B = d.F - d.D\n",
        "\n",
        "d.F_stage = d.N // 2\n",
        "\n",
        "d.reflux_ratio = 10\n"
      ],
      "metadata": {
        "id": "jZoVc-TZpa1D"
      },
      "execution_count": 4,
      "outputs": []
    },
    {
      "cell_type": "code",
      "source": [
        "d.bp = jnp.squeeze(p.Tb(d.P))\n",
        "bp_scaled = (d.bp - np.mean(d.bp))/1.2 + np.mean(d.bp)\n",
        "bp_scaled_minmax = np.min(bp_scaled), np.max(bp_scaled)\n",
        "bp_minmax = np.min(d.bp), np.max(d.bp)\n",
        "\n",
        "d.T = RangeArray(np.linspace(*bp_scaled_minmax,d.N), *bp_minmax)\n",
        "d.TC = Range(bp_scaled[-1], *bp_minmax)\n",
        "\n",
        "Lguess = np.repeat(d.D*(d.reflux_ratio),d.N)\n",
        "Lguess[d.F_stage:]+=d.F\n",
        "\n",
        "d.L = RangeArray(Lguess, 0., 2*d.F*d.reflux_ratio)\n",
        "d.V = RangeArray(np.repeat(d.D*(d.reflux_ratio+1),d.N), 0., 2*d.F*d.reflux_ratio)\n",
        "\n",
        "QBGuess = d.D * (d.reflux_ratio+1)* np.mean(p.HvapNB)\n",
        "d.QB = Range(QBGuess, 0., 2*QBGuess )\n",
        "d.QC = Range(QBGuess, 0., 2*QBGuess)\n",
        "\n",
        "d.Lx = CompArray(np.tile(d.Fz,(d.N,1)))\n",
        "d.Vy = CompArray(np.tile(d.Fz,(d.N,1)))\n",
        "\n"
      ],
      "metadata": {
        "id": "cPLRlJOS52Fs"
      },
      "execution_count": 5,
      "outputs": []
    },
    {
      "cell_type": "code",
      "source": [
        "x0, x2nt, wrap, x2unk, const   = d2nt(d)"
      ],
      "metadata": {
        "id": "rHVxiki_phXS"
      },
      "execution_count": 14,
      "outputs": []
    },
    {
      "cell_type": "code",
      "source": [
        "r = DotDict()\n",
        "\n",
        "r.MB = np.zeros((d.N,d.NC))\n",
        "r.EB = np.zeros(d.N)\n",
        "zeros = np.zeros((1,p.N_comps))\n",
        "def eqs(d):\n",
        "    r.EQUIL = d.Lx * p.NRTL_gamma(d.Lx,d.T)* p.Pvap(d.T) - d.Vy*d.P\n",
        "\n",
        "\n",
        "    r.Lin = np.r_[(d.L[0]*d.Vy[0])[None,:], d.L[1:,None]*d.Lx[:-1]]\n",
        "\n",
        "    r.Lout = np.r_[d.L[1:,None]*d.Lx[:-1], (d.B*d.Lx[-1])[None,:]]\n",
        "\n",
        "    r.Vin = np.r_[d.V[1:,None]*d.Vy[1:], zeros]\n",
        "    r.Vout = d.V[:,None]*d.Vy\n",
        "\n",
        "    r.MB[:] = r.Lin - r.Lout + r.Vin - r.Vout\n",
        "\n",
        "    r.MB[d.F_stage.astype(int)-1] += d.F*d.Fz\n",
        "\n",
        "    r.TCBP = np.atleast_1d(np.sum(d.Vy[0]* p.NRTL_gamma(d.Vy[0],d.TC) * p.Pvap(d.TC)) - d.P)\n",
        "\n",
        "    r.T = np.insert(d.T,0,d.TC)\n",
        "    r.EB[:] = p.Hl(r.Lin, r.T[:-1]) + p.Hv(r.Vin, r.T[1:]) - p.Hl(r.Lout, r.T[1:]) - p.Hv(r.Vout, r.T[1:])\n",
        "    r.EB[d.F_stage-1] += p.Hl(d.F*d.Fz, d.FT)\n",
        "    r.EB[-1]+=d.QB\n",
        "\n",
        "    r.CONDENSER = np.atleast_1d(p.Hv(r.Vout[0],r.T[1]) - p.Hl(r.Vout[0], r.T[0]) - d.QC)\n",
        "\n",
        "    r.RF = np.atleast_1d((d.V[0]-d.D)/d.D) - d.reflux_ratio\n",
        "    return np.concatenate([np.ravel(r.EQUIL), np.ravel(r.MB), np.ravel(r.EB), r.TCBP, r.RF, r.CONDENSER]), r\n"
      ],
      "metadata": {
        "id": "_4hviOyfp1k5"
      },
      "execution_count": 28,
      "outputs": []
    },
    {
      "cell_type": "code",
      "source": [
        "\n",
        "def eqs_jax(d):\n",
        "    zeros = jnp.zeros((1,p.N_comps))\n",
        "    r = DotDict()\n",
        "    r.EQUIL = d.Lx * p.NRTL_gamma(d.Lx,d.T)* p.Pvap(d.T) - d.Vy*d.P\n",
        "\n",
        "\n",
        "    r.Lin = jnp.r_[(d.L[0]*d.Vy[0])[None,:], d.L[1:,None]*d.Lx[:-1]]\n",
        "\n",
        "    r.Lout = jnp.r_[d.L[1:,None]*d.Lx[:-1], (d.B*d.Lx[-1])[None,:]]\n",
        "\n",
        "    r.Vin = jnp.r_[d.V[1:,None]*d.Vy[1:], zeros]\n",
        "    r.Vout = d.V[:,None]*d.Vy\n",
        "\n",
        "    r.MB = r.Lin - r.Lout + r.Vin - r.Vout\n",
        "\n",
        "    r.MB=r.MB.at[d.F_stage.astype(int)-1].add(d.F*d.Fz)\n",
        "\n",
        "    r.TCBP = jnp.atleast_1d(jnp.sum(d.Vy[0]* p.NRTL_gamma(d.Vy[0],d.TC) * p.Pvap(d.TC)) - d.P)\n",
        "\n",
        "    r.T = jnp.insert(d.T,0,d.TC)\n",
        "    r.EB = p.Hl(r.Lin, r.T[:-1]) + p.Hv(r.Vin, r.T[1:]) - p.Hl(r.Lout, r.T[1:]) - p.Hv(r.Vout, r.T[1:])\n",
        "    r.EB=r.EB.at[d.F_stage.astype(int)-1].add(p.Hl(d.F*d.Fz, d.FT))\n",
        "    r.EB=r.EB.at[-1].add(d.QB)\n",
        "\n",
        "    r.CONDENSER = jnp.atleast_1d(p.Hv(r.Vout[0],r.T[1]) - p.Hl(r.Vout[0], r.T[0]) - d.QC)\n",
        "\n",
        "    r.RF = jnp.atleast_1d((d.V[0]-d.D)/d.D) - d.reflux_ratio\n",
        "    return jnp.concatenate([jnp.ravel(r.EQUIL), jnp.ravel(r.MB), jnp.ravel(r.EB), r.TCBP, r.RF, r.CONDENSER]), r"
      ],
      "metadata": {
        "id": "oobYo7Qt9UpS"
      },
      "execution_count": 30,
      "outputs": []
    },
    {
      "cell_type": "code",
      "source": [
        "eqs_wrapped = wrap(eqs_jax)\n",
        "eqs_jit=jax.jit(eqs_wrapped)\n",
        "jac=jax.jit(jax.jacobian(eqs_wrapped))"
      ],
      "metadata": {
        "id": "PCFvkYbXt3VL"
      },
      "execution_count": 31,
      "outputs": []
    },
    {
      "cell_type": "code",
      "source": [
        "sol=minimize(lambda x: 0., x0, method='SLSQP', bounds=[(-15,15)]*len(x0), constraints=dict(type='eq',fun=eqs_jit,jac=jac))\n",
        "# sol=root(eqs_jit,x0,jac=jac,method='lm')"
      ],
      "metadata": {
        "id": "mTDsIbrhzcai"
      },
      "execution_count": 32,
      "outputs": []
    },
    {
      "cell_type": "code",
      "source": [
        "eqs_jax(x2nt(sol.x))"
      ],
      "metadata": {
        "colab": {
          "base_uri": "https://localhost:8080/"
        },
        "id": "bcUjPmRH_2q1",
        "outputId": "67405f49-44e2-44d0-a2f9-4513dbbb8f9a"
      },
      "execution_count": 33,
      "outputs": [
        {
          "output_type": "execute_result",
          "data": {
            "text/plain": [
              "(Array([-5.82076609e-11, -2.61934474e-10,  1.12777343e-10,  1.96450856e-09,\n",
              "         1.95723260e-09,  1.55341695e-09, -2.11002771e-10,  4.14729584e-10,\n",
              "        -1.38243195e-10, -2.03726813e-10, -3.20142135e-10,  0.00000000e+00,\n",
              "         7.27595761e-12,  3.63797881e-11, -2.65572453e-10, -7.27595761e-11,\n",
              "         3.12866177e-10, -7.27595761e-11, -1.30967237e-10, -1.60071068e-10,\n",
              "        -1.45519152e-11,  7.63975549e-11,  7.27595761e-12, -1.81898940e-10,\n",
              "         9.09494702e-11, -6.54836185e-11, -3.63797881e-11, -1.16415322e-10,\n",
              "        -1.67347025e-10, -2.32830644e-10, -4.72937245e-11, -4.07453626e-10,\n",
              "        -2.61934474e-10,  1.09139364e-10, -9.45874490e-11,  1.01863407e-10,\n",
              "        -9.45874490e-11, -6.33008312e-10, -2.18278728e-10, -3.63797881e-11,\n",
              "        -5.45696821e-10, -1.16415322e-10,  6.18456397e-11, -2.14640750e-10,\n",
              "         2.83762347e-10, -1.42108547e-14, -7.10542736e-15,  7.10542736e-15,\n",
              "        -7.10542736e-15,  0.00000000e+00,  0.00000000e+00,  2.84217094e-14,\n",
              "         0.00000000e+00,  1.42108547e-14,  7.10542736e-15,  4.26325641e-14,\n",
              "         2.13162821e-14, -7.10542736e-15, -1.42108547e-14, -7.10542736e-15,\n",
              "        -2.13162821e-14, -4.26325641e-14, -2.84217094e-14,  1.42108547e-14,\n",
              "         3.55271368e-14,  2.84217094e-14, -2.13162821e-14, -3.55271368e-14,\n",
              "        -1.27897692e-13,  2.13162821e-14,  4.97379915e-14,  5.68434189e-14,\n",
              "        -2.84217094e-14, -3.55271368e-14,  7.10542736e-14,  7.10542736e-15,\n",
              "         7.10542736e-15, -5.68434189e-14,  2.13162821e-14,  2.84217094e-14,\n",
              "         7.10542736e-14, -2.13162821e-14, -4.26325641e-14, -8.52651283e-14,\n",
              "         7.10542736e-15,  1.42108547e-14,  5.68434189e-14,  7.10542736e-15,\n",
              "         7.10542736e-15,  0.00000000e+00,  7.45058060e-09, -4.47034836e-08,\n",
              "         0.00000000e+00, -1.49011612e-08, -1.49011612e-08,  3.72529030e-08,\n",
              "        -1.86264515e-08,  1.49011612e-08, -1.49011612e-08, -1.49011612e-08,\n",
              "         7.45058060e-09, -1.49011612e-08,  2.98023224e-08, -2.23517418e-08,\n",
              "         6.51925802e-09,  8.87666829e-10,  0.00000000e+00,  1.21071935e-08],      dtype=float64),\n",
              " {'EQUIL': Array([[-5.82076609e-11, -2.61934474e-10,  1.12777343e-10],\n",
              "         [ 1.96450856e-09,  1.95723260e-09,  1.55341695e-09],\n",
              "         [-2.11002771e-10,  4.14729584e-10, -1.38243195e-10],\n",
              "         [-2.03726813e-10, -3.20142135e-10,  0.00000000e+00],\n",
              "         [ 7.27595761e-12,  3.63797881e-11, -2.65572453e-10],\n",
              "         [-7.27595761e-11,  3.12866177e-10, -7.27595761e-11],\n",
              "         [-1.30967237e-10, -1.60071068e-10, -1.45519152e-11],\n",
              "         [ 7.63975549e-11,  7.27595761e-12, -1.81898940e-10],\n",
              "         [ 9.09494702e-11, -6.54836185e-11, -3.63797881e-11],\n",
              "         [-1.16415322e-10, -1.67347025e-10, -2.32830644e-10],\n",
              "         [-4.72937245e-11, -4.07453626e-10, -2.61934474e-10],\n",
              "         [ 1.09139364e-10, -9.45874490e-11,  1.01863407e-10],\n",
              "         [-9.45874490e-11, -6.33008312e-10, -2.18278728e-10],\n",
              "         [-3.63797881e-11, -5.45696821e-10, -1.16415322e-10],\n",
              "         [ 6.18456397e-11, -2.14640750e-10,  2.83762347e-10]],      dtype=float64),\n",
              "  'Lin': Array([[ 52.53110683,  57.42796944,  40.04092373],\n",
              "         [ 49.49362612,  58.95258168,  41.40326584],\n",
              "         [ 46.73672173,  59.92360423,  43.03743202],\n",
              "         [ 44.16784297,  60.2041877 ,  45.16247969],\n",
              "         [ 41.64592776,  59.51777958,  48.17884482],\n",
              "         [ 38.89886896,  57.26260022,  52.92727996],\n",
              "         [ 35.2060433 ,  51.87648542,  61.60965084],\n",
              "         [ 47.32053945,  64.55195547, 144.78922199],\n",
              "         [ 47.47933487,  64.4125417 , 144.77601422],\n",
              "         [ 47.65108308,  64.25895873, 144.76445315],\n",
              "         [ 47.83247951,  64.08190261, 144.76670257],\n",
              "         [ 48.00093266,  63.8368426 , 144.84734011],\n",
              "         [ 48.03055567,  63.29362903, 145.34869572],\n",
              "         [ 47.22304448,  61.21517995, 148.1312037 ],\n",
              "         [ 41.02579437,  50.05961645, 164.81498878]], dtype=float64),\n",
              "  'Lout': Array([[ 49.49362612,  58.95258168,  41.40326584],\n",
              "         [ 46.73672173,  59.92360423,  43.03743202],\n",
              "         [ 44.16784297,  60.2041877 ,  45.16247969],\n",
              "         [ 41.64592776,  59.51777958,  48.17884482],\n",
              "         [ 38.89886896,  57.26260022,  52.92727996],\n",
              "         [ 35.2060433 ,  51.87648542,  61.60965084],\n",
              "         [ 47.32053945,  64.55195547, 144.78922199],\n",
              "         [ 47.47933487,  64.4125417 , 144.77601422],\n",
              "         [ 47.65108308,  64.25895873, 144.76445315],\n",
              "         [ 47.83247951,  64.08190261, 144.76670257],\n",
              "         [ 48.00093266,  63.8368426 , 144.84734011],\n",
              "         [ 48.03055567,  63.29362903, 145.34869572],\n",
              "         [ 47.22304448,  61.21517995, 148.1312037 ],\n",
              "         [ 41.02579437,  50.05961645, 164.81498878],\n",
              "         [  4.74688932,   4.25720306,  75.99590763]], dtype=float64),\n",
              "  'Vin': Array([[54.7467368 , 64.69537863, 45.40735821],\n",
              "         [51.98983242, 65.66640117, 47.04152439],\n",
              "         [49.42095365, 65.94698464, 49.16657206],\n",
              "         [46.89903844, 65.26057652, 52.18293719],\n",
              "         [44.15197965, 63.00539716, 56.93137233],\n",
              "         [40.45915398, 57.61928236, 65.61374322],\n",
              "         [42.57365013, 60.29475241, 68.79331436],\n",
              "         [42.73244555, 60.15533864, 68.7801066 ],\n",
              "         [42.90419377, 60.00175568, 68.76854553],\n",
              "         [43.08559019, 59.82469956, 68.77079494],\n",
              "         [43.25404335, 59.57963954, 68.85143248],\n",
              "         [43.28366635, 59.03642598, 69.35278809],\n",
              "         [42.47615517, 56.9579769 , 72.13529608],\n",
              "         [36.27890506, 45.8024134 , 88.81908116],\n",
              "         [ 0.        ,  0.        ,  0.        ]], dtype=float64),\n",
              "  'Vout': Array([[57.78421751, 63.17076638, 44.04501611],\n",
              "         [54.7467368 , 64.69537863, 45.40735821],\n",
              "         [51.98983242, 65.66640117, 47.04152439],\n",
              "         [49.42095365, 65.94698464, 49.16657206],\n",
              "         [46.89903844, 65.26057652, 52.18293719],\n",
              "         [44.15197965, 63.00539716, 56.93137233],\n",
              "         [40.45915398, 57.61928236, 65.61374322],\n",
              "         [42.57365013, 60.29475241, 68.79331436],\n",
              "         [42.73244555, 60.15533864, 68.7801066 ],\n",
              "         [42.90419377, 60.00175568, 68.76854553],\n",
              "         [43.08559019, 59.82469956, 68.77079494],\n",
              "         [43.25404335, 59.57963954, 68.85143248],\n",
              "         [43.28366635, 59.03642598, 69.35278809],\n",
              "         [42.47615517, 56.9579769 , 72.13529608],\n",
              "         [36.27890506, 45.8024134 , 88.81908116]], dtype=float64),\n",
              "  'MB': Array([[-1.42108547e-14, -7.10542736e-15,  7.10542736e-15],\n",
              "         [-7.10542736e-15,  0.00000000e+00,  0.00000000e+00],\n",
              "         [ 2.84217094e-14,  0.00000000e+00,  1.42108547e-14],\n",
              "         [ 7.10542736e-15,  4.26325641e-14,  2.13162821e-14],\n",
              "         [-7.10542736e-15, -1.42108547e-14, -7.10542736e-15],\n",
              "         [-2.13162821e-14, -4.26325641e-14, -2.84217094e-14],\n",
              "         [ 1.42108547e-14,  3.55271368e-14,  2.84217094e-14],\n",
              "         [-2.13162821e-14, -3.55271368e-14, -1.27897692e-13],\n",
              "         [ 2.13162821e-14,  4.97379915e-14,  5.68434189e-14],\n",
              "         [-2.84217094e-14, -3.55271368e-14,  7.10542736e-14],\n",
              "         [ 7.10542736e-15,  7.10542736e-15, -5.68434189e-14],\n",
              "         [ 2.13162821e-14,  2.84217094e-14,  7.10542736e-14],\n",
              "         [-2.13162821e-14, -4.26325641e-14, -8.52651283e-14],\n",
              "         [ 7.10542736e-15,  1.42108547e-14,  5.68434189e-14],\n",
              "         [ 7.10542736e-15,  7.10542736e-15,  0.00000000e+00]],      dtype=float64),\n",
              "  'TCBP': Array([8.87666829e-10], dtype=float64),\n",
              "  'T': Array([352.3958534 , 352.44013578, 352.48097275, 352.5219882 ,\n",
              "         352.57101141, 352.64880986, 352.82555878, 353.46267848,\n",
              "         353.46182256, 353.46094446, 353.460276  , 353.46107074,\n",
              "         353.47002109, 353.52399687, 353.86826911, 357.32306792],      dtype=float64),\n",
              "  'EB': Array([ 7.45058060e-09, -4.47034836e-08,  0.00000000e+00, -1.49011612e-08,\n",
              "         -1.49011612e-08,  3.72529030e-08, -1.86264515e-08,  1.49011612e-08,\n",
              "         -1.49011612e-08, -1.49011612e-08,  7.45058060e-09, -1.49011612e-08,\n",
              "          2.98023224e-08, -2.23517418e-08,  6.51925802e-09], dtype=float64),\n",
              "  'CONDENSER': Array([1.21071935e-08], dtype=float64),\n",
              "  'RF': Array([0.], dtype=float64)})"
            ]
          },
          "metadata": {},
          "execution_count": 33
        }
      ]
    },
    {
      "cell_type": "code",
      "source": [
        "x2nt(sol.x)._asdict()"
      ],
      "metadata": {
        "id": "AetCqijIr3lF"
      },
      "execution_count": null,
      "outputs": []
    },
    {
      "cell_type": "code",
      "source": [],
      "metadata": {
        "id": "K5xzBUBc2mLO"
      },
      "execution_count": null,
      "outputs": []
    }
  ]
}