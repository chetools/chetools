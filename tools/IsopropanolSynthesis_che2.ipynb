{
  "nbformat": 4,
  "nbformat_minor": 0,
  "metadata": {
    "colab": {
      "name": "IsopropanolSynthesis_che2.ipynb",
      "provenance": [],
      "collapsed_sections": [],
      "authorship_tag": "ABX9TyNWv0LKA1uSGjFL/szjNS7I",
      "include_colab_link": true
    },
    "kernelspec": {
      "name": "python3",
      "display_name": "Python 3"
    },
    "language_info": {
      "name": "python"
    }
  },
  "cells": [
    {
      "cell_type": "markdown",
      "metadata": {
        "id": "view-in-github",
        "colab_type": "text"
      },
      "source": [
        "<a href=\"https://colab.research.google.com/github/profteachkids/chetools/blob/main/tools/IsopropanolSynthesis_che2.ipynb\" target=\"_parent\"><img src=\"https://colab.research.google.com/assets/colab-badge.svg\" alt=\"Open In Colab\"/></a>"
      ]
    },
    {
      "cell_type": "code",
      "source": [
        "!wget -N -q https://raw.githubusercontent.com/profteachkids/chetools/main/tools/che2.ipynb -O che2.ipynb\n",
        "!pip install importnb"
      ],
      "metadata": {
        "id": "Gwp9C2bBoebL",
        "colab": {
          "base_uri": "https://localhost:8080/"
        },
        "outputId": "f9b38bf9-75e3-45fb-d636-b3d696cfa967"
      },
      "execution_count": 1,
      "outputs": [
        {
          "output_type": "stream",
          "name": "stdout",
          "text": [
            "Looking in indexes: https://pypi.org/simple, https://us-python.pkg.dev/colab-wheels/public/simple/\n",
            "Collecting importnb\n",
            "  Downloading importnb-0.7.0-py3-none-any.whl (24 kB)\n",
            "Installing collected packages: importnb\n",
            "Successfully installed importnb-0.7.0\n"
          ]
        }
      ]
    },
    {
      "cell_type": "code",
      "source": [
        "from importnb import Notebook\n",
        "with Notebook(): \n",
        "    from che2 import DotDict, Range, RangeArray, Comp, CompArray, d2nt, Props"
      ],
      "metadata": {
        "id": "e-4zIaZrKnmz"
      },
      "execution_count": 2,
      "outputs": []
    },
    {
      "cell_type": "code",
      "execution_count": 3,
      "metadata": {
        "id": "EQTOJoLTGQgb"
      },
      "outputs": [],
      "source": [
        "import jax.numpy as jnp\n",
        "from scipy.optimize import least_squares"
      ]
    },
    {
      "cell_type": "markdown",
      "source": [
        "<img src='https://github.com/profteachkids/CHE2064_Spring2022/raw/main/IsopropylSynthesisProcessDiagram.jpg'>"
      ],
      "metadata": {
        "id": "rPIq5KWqCytb"
      }
    },
    {
      "cell_type": "code",
      "source": [
        "# Static parameters (Total feed, feed mole fradtions, feed temperature and )\n",
        "# 1. propene\n",
        "# 2. diisopropyl ether\n",
        "# 3. isopropanol\n",
        "# 4. water\n",
        "# Rx1:  C3H6 + H2O -> C3H8O\n",
        "# Rx2:  2C3H8O -> C6H14 + H2O \n",
        "\n",
        "#Simple version - Overall mass balance only\n",
        "\n",
        "e = DotDict()\n",
        "e.alkeneF = 100.\n",
        "e.waterF = 100.\n",
        "\n",
        "e.alkeney = jnp.array([1., 0., 0., 0.])\n",
        "e.waterx = jnp.array([0., 0., 0., 1.])\n",
        "\n",
        "e.rx1 = jnp.array([-1, 0, 1, -1])\n",
        "e.rx2 = jnp.array([0, 1, -2, 1])\n",
        "\n",
        "e.rx1_extent = Range(e.alkeneF/2, 0., e.alkeneF)\n",
        "e.rx2_extent = Range(e.alkeneF/4, 0., e.alkeneF/2)\n",
        "\n",
        "e.alcoholP = Range(e.alkeneF/2, 0., e.alkeneF)  \n",
        "e.alcoholPx = jnp.array([0., 0.005, 0.94, 0.055])\n",
        "\n",
        "e.etherP = Range(e.alkeneF/2, 0., e.alkeneF)\n",
        "e.etherPx = jnp.array([0.001, 0.98, 0.018, 0.002])"
      ],
      "metadata": {
        "id": "y91AfkgeM3XL",
        "outputId": "392444fc-96da-40db-eb79-a10978a199f6",
        "colab": {
          "base_uri": "https://localhost:8080/"
        }
      },
      "execution_count": 4,
      "outputs": [
        {
          "output_type": "stream",
          "name": "stderr",
          "text": [
            "WARNING:absl:No GPU/TPU found, falling back to CPU. (Set TF_CPP_MIN_LOG_LEVEL=0 and rerun for more info.)\n"
          ]
        }
      ]
    },
    {
      "cell_type": "code",
      "source": [
        "x, x2nt, wrap, nt0, x2unk, x2const  = d2nt(e)"
      ],
      "metadata": {
        "id": "W1SjV7rkND3_"
      },
      "execution_count": 5,
      "outputs": []
    },
    {
      "cell_type": "code",
      "source": [
        "def eqs(d):\n",
        "    r=DotDict()\n",
        "    feed = d.alkeneF*d.alkeney + d.waterF*d.waterx \n",
        "    product = (d.etherP*d.etherPx + d.alcoholP*d.alcoholPx)\n",
        "\n",
        "    molecular_balance = feed + d.rx1_extent*d.rx1 + d.rx2_extent*d.rx2 - product\n",
        "\n",
        "    r.alkene = d.alkeneF*d.alkeney\n",
        "    r.water = d.waterF*d.waterx \n",
        "    r.ether = d.etherP*d.etherPx\n",
        "    r.alcohol = d.alcoholP*d.alcoholPx\n",
        "    return molecular_balance, r"
      ],
      "metadata": {
        "id": "ihz1HodGNG6_"
      },
      "execution_count": 6,
      "outputs": []
    },
    {
      "cell_type": "code",
      "source": [
        "eqs_wrapped, LO = wrap(eqs)\n",
        "eqs_wrapped(x)"
      ],
      "metadata": {
        "colab": {
          "base_uri": "https://localhost:8080/"
        },
        "id": "T6SyaBMhNMzj",
        "outputId": "098ea0a1-5f48-413b-b993-7316c24e0cfd"
      },
      "execution_count": 7,
      "outputs": [
        {
          "output_type": "execute_result",
          "data": {
            "text/plain": [
              "DeviceArray([ 49.95, -24.25, -47.9 ,  72.15], dtype=float64)"
            ]
          },
          "metadata": {},
          "execution_count": 7
        }
      ]
    },
    {
      "cell_type": "code",
      "source": [
        "sol=least_squares(eqs_wrapped, x, jac=LO)\n",
        "print(sol)"
      ],
      "metadata": {
        "colab": {
          "base_uri": "https://localhost:8080/"
        },
        "id": "Yq8Nq50_NVWf",
        "outputId": "780423ce-d270-4ba8-84fb-b84391cd7da5"
      },
      "execution_count": 8,
      "outputs": [
        {
          "output_type": "stream",
          "name": "stdout",
          "text": [
            " active_mask: array([0., 0., 0., 0.])\n",
            "        cost: 4.791117365757333e-22\n",
            "         fun: array([ 1.78720988e-11,  3.55271368e-15, -1.78772552e-11,  1.78665971e-11])\n",
            "        grad: array([-2.60511886e-13,  2.51443796e-10,  7.31444976e-11,  1.22371945e-12])\n",
            "         jac: <4x4 _CustomLinearOperator with dtype=float64>\n",
            "     message: '`gtol` termination condition is satisfied.'\n",
            "        nfev: 14\n",
            "        njev: 14\n",
            "  optimality: 2.5144379583072215e-10\n",
            "      status: 1\n",
            "     success: True\n",
            "           x: array([ 9.93202641, -2.14550313,  2.97450864, -2.97450864])\n"
          ]
        }
      ]
    },
    {
      "cell_type": "code",
      "source": [
        "nt=x2nt(sol.x)\n",
        "nt._asdict()"
      ],
      "metadata": {
        "colab": {
          "base_uri": "https://localhost:8080/"
        },
        "id": "8bm3_bzwNj7i",
        "outputId": "03f6d898-0892-46dc-c92e-28f7ded54d2c"
      },
      "execution_count": 14,
      "outputs": [
        {
          "output_type": "execute_result",
          "data": {
            "text/plain": [
              "OrderedDict([('alkeneF', DeviceArray(100., dtype=float64)),\n",
              "             ('waterF', DeviceArray(100., dtype=float64)),\n",
              "             ('alkeney', DeviceArray([1., 0., 0., 0.], dtype=float64)),\n",
              "             ('waterx', DeviceArray([0., 0., 0., 1.], dtype=float64)),\n",
              "             ('rx1', DeviceArray([-1,  0,  1, -1], dtype=int64)),\n",
              "             ('rx2', DeviceArray([ 0,  1, -2,  1], dtype=int64)),\n",
              "             ('rx1_extent', DeviceArray(99.99514091, dtype=float64)),\n",
              "             ('rx2_extent', DeviceArray(5.23760933, dtype=float64)),\n",
              "             ('alcoholP', DeviceArray(95.14091351, dtype=float64)),\n",
              "             ('alcoholPx',\n",
              "              DeviceArray([0.   , 0.005, 0.94 , 0.055], dtype=float64)),\n",
              "             ('etherP', DeviceArray(4.85908649, dtype=float64)),\n",
              "             ('etherPx',\n",
              "              DeviceArray([0.001, 0.98 , 0.018, 0.002], dtype=float64))])"
            ]
          },
          "metadata": {},
          "execution_count": 14
        }
      ]
    },
    {
      "cell_type": "code",
      "source": [
        "x2unk(sol.x)"
      ],
      "metadata": {
        "id": "FhE1ZXdaAbHE",
        "outputId": "2f566c86-521b-48fd-e491-73914b87916a",
        "colab": {
          "base_uri": "https://localhost:8080/"
        }
      },
      "execution_count": 10,
      "outputs": [
        {
          "output_type": "execute_result",
          "data": {
            "text/plain": [
              "_(rx1_extent=DeviceArray(99.99514091, dtype=float64), rx2_extent=DeviceArray(5.23760933, dtype=float64), alcoholP=DeviceArray(95.14091351, dtype=float64), etherP=DeviceArray(4.85908649, dtype=float64))"
            ]
          },
          "metadata": {},
          "execution_count": 10
        }
      ]
    },
    {
      "cell_type": "code",
      "source": [
        "x2const()"
      ],
      "metadata": {
        "id": "b8ZBqSQZCXmp",
        "outputId": "b4af26ad-433a-49f5-97e8-5e1d91fc348c",
        "colab": {
          "base_uri": "https://localhost:8080/"
        }
      },
      "execution_count": 11,
      "outputs": [
        {
          "output_type": "execute_result",
          "data": {
            "text/plain": [
              "_(alkeneF=DeviceArray(100., dtype=float64), waterF=DeviceArray(100., dtype=float64), alkeney=DeviceArray([1., 0., 0., 0.], dtype=float64), waterx=DeviceArray([0., 0., 0., 1.], dtype=float64), rx1=DeviceArray([-1,  0,  1, -1], dtype=int64), rx2=DeviceArray([ 0,  1, -2,  1], dtype=int64), alcoholPx=DeviceArray([0.   , 0.005, 0.94 , 0.055], dtype=float64), etherPx=DeviceArray([0.001, 0.98 , 0.018, 0.002], dtype=float64))"
            ]
          },
          "metadata": {},
          "execution_count": 11
        }
      ]
    },
    {
      "cell_type": "code",
      "source": [
        "_, r= eqs(x2nt(sol.x))\n",
        "r"
      ],
      "metadata": {
        "colab": {
          "base_uri": "https://localhost:8080/"
        },
        "id": "YJJ3E0yYNmmM",
        "outputId": "ba1b6610-b1a5-45ad-941c-6e0b96bd5ee7"
      },
      "execution_count": 14,
      "outputs": [
        {
          "output_type": "execute_result",
          "data": {
            "text/plain": [
              "{'alkene': DeviceArray([100.,   0.,   0.,   0.], dtype=float64),\n",
              " 'water': DeviceArray([  0.,   0.,   0., 100.], dtype=float64),\n",
              " 'ether': DeviceArray([0.00485909, 4.76190476, 0.08746356, 0.00971817], dtype=float64),\n",
              " 'alcohol': DeviceArray([ 0.        ,  0.47570457, 89.4324587 ,  5.23275024], dtype=float64)}"
            ]
          },
          "metadata": {},
          "execution_count": 14
        }
      ]
    },
    {
      "cell_type": "markdown",
      "source": [
        "<img src='https://github.com/profteachkids/CHE2064_Spring2022/raw/main/IsopropylSynthesisProcessDiagram.jpg'>"
      ],
      "metadata": {
        "id": "_FiCvYkNNr5a"
      }
    },
    {
      "cell_type": "code",
      "source": [
        "# Include internal flows (recycle)\n",
        "\n",
        "\n",
        "d=DotDict()\n",
        "d.alkeneF = 100.\n",
        "d.waterF = 100.\n",
        "\n",
        "d.alkeney = np.array([1., 0., 0., 0.])\n",
        "d.waterx = np.array([0., 0., 0., 1.])\n",
        "\n",
        "d.rx1 = np.array([-1, 0, 1, -1])\n",
        "d.rx2 = np.array([0, 1, -2, 1])\n",
        "\n",
        "d.rx1_extent = Range(d.alkeneF/2, 0., d.alkeneF)\n",
        "d.rx2_extent = Range(d.alkeneF/4, 0., d.alkeneF/2)\n",
        "\n",
        "d.alcoholP = Range(d.alkeneF/2, 0., d.alkeneF)  \n",
        "d.alcoholPx = np.array([0., 0.005, 0.94, 0.055])\n",
        "\n",
        "d.etherP = Range(d.alkeneF/2, 0., d.alkeneF)\n",
        "d.etherPx = np.array([0.001, 0.98, 0.018, 0.002])\n",
        "\n",
        "d.WARFR = 12. #water_alkene_reactor_feed_ratio\n",
        "\n",
        "d.D1F = Range(d.alkeneF * d.WARFR, 0., 2.*d.WARFR*d.alkeneF)\n",
        "d.D1Fx = Comp([0.001, 0.03, 0.07, 0.9])\n",
        "\n",
        "d.D1K = np.array([100., 10., 5., 0.2])\n",
        "d.D1Vy = Comp([0.01, 0.299, 0.3, 0.3])\n",
        "d.D1Lx = Comp([0.0001, 0.1, 0.1, 0.8])\n",
        "d.D1V = Range(d.alkeneF * d.WARFR/2, 0., 2.*d.WARFR*d.alkeneF)\n",
        "d.D1L = Range(d.alkeneF * d.WARFR/2, 0., 2.*d.WARFR*d.alkeneF)\n",
        "\n",
        "d.decantW = Range(d.alkeneF * d.WARFR, 0., 2.*d.WARFR*d.alkeneF)\n",
        "d.decantWx = np.array([0.001, 0.005, 0.02, 0.98]) \n"
      ],
      "metadata": {
        "id": "jZoVc-TZpa1D"
      },
      "execution_count": null,
      "outputs": []
    },
    {
      "cell_type": "code",
      "source": [
        "wrap, x, d2, xtod, xtodunk  = dtox(d)"
      ],
      "metadata": {
        "id": "rHVxiki_phXS"
      },
      "execution_count": null,
      "outputs": []
    },
    {
      "cell_type": "code",
      "source": [
        "def eqs(d):\n",
        "    r=DotDict()\n",
        "    feed = d.alkeneF*d.alkeney + d.waterF*d.waterx \n",
        "    product = (d.etherP*d.etherPx + d.alcoholP*d.alcoholPx)\n",
        "\n",
        "    molecular_balance = feed + d.rx1_extent*d.rx1 + d.rx2_extent*d.rx2 - product\n",
        "\n",
        "    r.alkene = d.alkeneF*d.alkeney\n",
        "    r.water = d.waterF*d.waterx \n",
        "    r.ether = d.etherP*d.etherPx\n",
        "    r.alcohol = d.alcoholP*d.alcoholPx\n",
        "    return molecular_balance, r\n"
      ],
      "metadata": {
        "id": "_4hviOyfp1k5"
      },
      "execution_count": null,
      "outputs": []
    },
    {
      "cell_type": "code",
      "source": [
        "def eqs2(d):\n",
        "    r=DotDict()\n",
        "    r.reactor_feed = d.alkeneF*d.alkeney + d.waterF*d.waterx + d.D1L*d.D1Lx + d.decantW*d.decantWx\n",
        "\n",
        "    r.REACTOR = r.reactor_feed + d.rx1_extent*d.rx1 + d.rx2_extent*d.rx2 - d.D1F*d.D1Fx\n",
        "\n",
        "    r.FEED_RATIO = np.atleast_1d((d.waterF+d.D1L+d.decantW)/d.alkeneF - d.WARFR)\n",
        "    \n",
        "    r.D1 = d.D1F*d.D1Fx - d.D1V*d.D1Vy - d.D1L*d.D1Lx\n",
        "    r.D1K = d.D1Vy/d.D1Lx - d.D1K\n",
        "\n",
        "    r.AZ = d.D1V*d.D1Vy - d.etherP*d.etherPx - d.alcoholP*d.alcoholPx - d.decantW*d.decantWx\n",
        "\n",
        "    r.alkene = d.alkeneF*d.alkeney\n",
        "    r.water = d.waterF*d.waterx \n",
        "    r.ether = d.etherP*d.etherPx\n",
        "    r.alcohol = d.alcoholP*d.alcoholPx\n",
        "    return np.concatenate([r.REACTOR, r.FEED_RATIO, r.D1, r.D1K, r.AZ]), r\n"
      ],
      "metadata": {
        "id": "KZUHitSI7nc3"
      },
      "execution_count": null,
      "outputs": []
    },
    {
      "cell_type": "code",
      "source": [
        "eqs_wrapped = wrap(eqs2)"
      ],
      "metadata": {
        "id": "PCFvkYbXt3VL"
      },
      "execution_count": null,
      "outputs": []
    },
    {
      "cell_type": "code",
      "source": [
        "eqs_wrapped(x)"
      ],
      "metadata": {
        "colab": {
          "base_uri": "https://localhost:8080/"
        },
        "id": "WEWMqruYu8jv",
        "outputId": "3e583ec7-ce90-4896-8041-5b7361c53595"
      },
      "execution_count": null,
      "outputs": [
        {
          "output_type": "execute_result",
          "data": {
            "text/plain": [
              "array([ 5.00611928e+01,  5.50299646e+01,  7.79166839e-02,  6.52030926e+02,\n",
              "        7.00000000e+00, -5.46185287e+00, -2.21389701e+02, -1.74097719e+02,\n",
              "        4.00949272e+02,  1.00220022e+01, -6.71034213e+00, -1.69933993e+00,\n",
              "        2.12582508e-01,  5.35066007e+00,  1.42109736e+02,  1.26119802e+02,\n",
              "       -9.80830198e+02])"
            ]
          },
          "metadata": {},
          "execution_count": 20
        }
      ]
    },
    {
      "cell_type": "code",
      "source": [
        "sol=root(eqs_wrapped, x)\n",
        "print(sol)\n",
        "solx=sol.x"
      ],
      "metadata": {
        "id": "l8ocZ2P2qyg5"
      },
      "execution_count": null,
      "outputs": []
    },
    {
      "cell_type": "code",
      "source": [
        "dunk=xtodunk(solx)\n",
        "dunk"
      ],
      "metadata": {
        "colab": {
          "base_uri": "https://localhost:8080/"
        },
        "id": "AetCqijIr3lF",
        "outputId": "3c12b07b-a910-480e-c000-1daceddf671d"
      },
      "execution_count": null,
      "outputs": [
        {
          "output_type": "execute_result",
          "data": {
            "text/plain": [
              "{'D1F': array([1200.09006814]),\n",
              " 'D1Fx': array([1.73915272e-05, 8.62596534e-03, 2.17013664e-01, 7.74342979e-01]),\n",
              " 'D1L': array([1085.79849147]),\n",
              " 'D1Lx': array([1.66771652e-06, 4.64480150e-03, 1.57148856e-01, 8.38204675e-01]),\n",
              " 'D1V': array([114.29157667]),\n",
              " 'D1Vy': array([1.66771652e-04, 4.64480150e-02, 7.85744278e-01, 1.67640935e-01]),\n",
              " 'alcoholP': array([95.14091351]),\n",
              " 'decantW': array([14.20150853]),\n",
              " 'etherP': array([4.85908649]),\n",
              " 'rx1_extent': array([99.99514091]),\n",
              " 'rx2_extent': array([5.23760933])}"
            ]
          },
          "metadata": {},
          "execution_count": 22
        }
      ]
    },
    {
      "cell_type": "code",
      "source": [
        "eqs_wrapped(sol.x)"
      ],
      "metadata": {
        "id": "w7IBxauHFqQb",
        "colab": {
          "base_uri": "https://localhost:8080/"
        },
        "outputId": "539b5172-876b-4d8a-e110-0473838fad29"
      },
      "execution_count": null,
      "outputs": [
        {
          "output_type": "execute_result",
          "data": {
            "text/plain": [
              "array([-2.62082023e-14,  0.00000000e+00,  5.68434189e-14,  2.27373675e-13,\n",
              "        0.00000000e+00,  9.87491339e-16,  0.00000000e+00, -2.84217094e-14,\n",
              "       -1.13686838e-13, -5.68434189e-14,  1.77635684e-15,  0.00000000e+00,\n",
              "        2.22044605e-16, -8.96852037e-16,  1.38777878e-15, -2.44249065e-15,\n",
              "        2.13162821e-14])"
            ]
          },
          "metadata": {},
          "execution_count": 23
        }
      ]
    },
    {
      "cell_type": "code",
      "source": [
        ""
      ],
      "metadata": {
        "id": "wMY-2wP0iR7E"
      },
      "execution_count": null,
      "outputs": []
    },
    {
      "cell_type": "code",
      "source": [
        ""
      ],
      "metadata": {
        "id": "O_kXt1fv5RQr"
      },
      "execution_count": null,
      "outputs": []
    }
  ]
}