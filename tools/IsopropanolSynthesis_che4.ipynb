{
  "nbformat": 4,
  "nbformat_minor": 0,
  "metadata": {
    "colab": {
      "name": "IsopropanolSynthesis_che4.ipynb",
      "provenance": [],
      "collapsed_sections": [],
      "authorship_tag": "ABX9TyNleMoiLlVm4WPcSS47ypsC",
      "include_colab_link": true
    },
    "kernelspec": {
      "name": "python3",
      "display_name": "Python 3"
    },
    "language_info": {
      "name": "python"
    }
  },
  "cells": [
    {
      "cell_type": "markdown",
      "metadata": {
        "id": "view-in-github",
        "colab_type": "text"
      },
      "source": [
        "<a href=\"https://colab.research.google.com/github/profteachkids/chetools/blob/main/tools/IsopropanolSynthesis_che4.ipynb\" target=\"_parent\"><img src=\"https://colab.research.google.com/assets/colab-badge.svg\" alt=\"Open In Colab\"/></a>"
      ]
    },
    {
      "cell_type": "code",
      "source": [
        "!wget -N -q https://raw.githubusercontent.com/profteachkids/chetools/main/tools/che4.ipynb -O che4.ipynb\n",
        "!pip install importnb"
      ],
      "metadata": {
        "id": "Gwp9C2bBoebL",
        "colab": {
          "base_uri": "https://localhost:8080/"
        },
        "outputId": "aecf1907-9916-4647-c744-251fe2c43699"
      },
      "execution_count": 1,
      "outputs": [
        {
          "output_type": "stream",
          "name": "stdout",
          "text": [
            "Looking in indexes: https://pypi.org/simple, https://us-python.pkg.dev/colab-wheels/public/simple/\n",
            "Collecting importnb\n",
            "  Downloading importnb-0.7.0-py3-none-any.whl (24 kB)\n",
            "Installing collected packages: importnb\n",
            "Successfully installed importnb-0.7.0\n"
          ]
        }
      ]
    },
    {
      "cell_type": "code",
      "source": [
        "from importnb import Notebook\n",
        "with Notebook():\n",
        "    from che4 import Range, Comp, CompArray, RangeArray, DotDict, d2nt, Props"
      ],
      "metadata": {
        "id": "e-4zIaZrKnmz"
      },
      "execution_count": 2,
      "outputs": []
    },
    {
      "cell_type": "code",
      "execution_count": 4,
      "metadata": {
        "id": "EQTOJoLTGQgb"
      },
      "outputs": [],
      "source": [
        "import jax\n",
        "import jax.numpy as jnp\n",
        "from scipy.optimize import root"
      ]
    },
    {
      "cell_type": "markdown",
      "source": [
        "<img src='https://github.com/profteachkids/CHE2064_Spring2022/raw/main/IsopropylSynthesisProcessDiagram.jpg'>"
      ],
      "metadata": {
        "id": "rPIq5KWqCytb"
      }
    },
    {
      "cell_type": "code",
      "source": [
        "# Static parameters (Total feed, feed mole fradtions, feed temperature and )\n",
        "# 1. propene\n",
        "# 2. diisopropyl ether\n",
        "# 3. isopropanol\n",
        "# 4. water\n",
        "# Rx1:  C3H6 + H2O -> C3H8O\n",
        "# Rx2:  2C3H8O -> C6H14 + H2O \n",
        "\n",
        "#Simple version - Overall mass balance only\n",
        "\n",
        "e = DotDict()\n",
        "e.alkeneF = 100.\n",
        "e.waterF = 100.\n",
        "\n",
        "e.alkeney = jnp.array([1., 0., 0., 0.])\n",
        "e.waterx = jnp.array([0., 0., 0., 1.])\n",
        "\n",
        "e.rx1 = jnp.array([-1, 0, 1, -1])\n",
        "e.rx2 = jnp.array([0, 1, -2, 1])\n",
        "\n",
        "e.rx1_extent = Range(e.alkeneF/2, 0., e.alkeneF)\n",
        "e.rx2_extent = Range(e.alkeneF/4, 0., e.alkeneF/2)\n",
        "\n",
        "e.alcoholP = Range(e.alkeneF/2, 0., e.alkeneF)  \n",
        "e.alcoholPx = jnp.array([0., 0.005, 0.94, 0.055])\n",
        "\n",
        "e.etherP = Range(e.alkeneF/2, 0., e.alkeneF)\n",
        "e.etherPx = jnp.array([0.0005, 0.98, 0.018, 0.0015])"
      ],
      "metadata": {
        "id": "y91AfkgeM3XL",
        "colab": {
          "base_uri": "https://localhost:8080/"
        },
        "outputId": "bf31d56f-b021-4ba9-f1eb-d45c48f24d07"
      },
      "execution_count": 5,
      "outputs": [
        {
          "output_type": "stream",
          "name": "stderr",
          "text": [
            "WARNING:absl:No GPU/TPU found, falling back to CPU. (Set TF_CPP_MIN_LOG_LEVEL=0 and rerun for more info.)\n"
          ]
        }
      ]
    },
    {
      "cell_type": "code",
      "source": [
        "x0, x2nt, wrap, x2unk, const  = d2nt(e)"
      ],
      "metadata": {
        "id": "W1SjV7rkND3_"
      },
      "execution_count": 6,
      "outputs": []
    },
    {
      "cell_type": "code",
      "source": [
        "def eqs(d):\n",
        "    r=DotDict()\n",
        "    feed = d.alkeneF*d.alkeney + d.waterF*d.waterx \n",
        "    product = (d.etherP*d.etherPx + d.alcoholP*d.alcoholPx)\n",
        "\n",
        "    molecular_balance = feed + d.rx1_extent*d.rx1 + d.rx2_extent*d.rx2 - product\n",
        "\n",
        "    r.alkene = d.alkeneF*d.alkeney\n",
        "    r.water = d.waterF*d.waterx \n",
        "    r.ether = d.etherP*d.etherPx\n",
        "    r.alcohol = d.alcoholP*d.alcoholPx\n",
        "    return molecular_balance, r"
      ],
      "metadata": {
        "id": "ihz1HodGNG6_"
      },
      "execution_count": 7,
      "outputs": []
    },
    {
      "cell_type": "code",
      "source": [
        "eqs_wrapped = wrap(eqs)\n",
        "eqs_wrapped(x0)"
      ],
      "metadata": {
        "colab": {
          "base_uri": "https://localhost:8080/"
        },
        "id": "T6SyaBMhNMzj",
        "outputId": "29672bb6-c0ee-4fd5-e844-aff17b3cce0e"
      },
      "execution_count": 8,
      "outputs": [
        {
          "output_type": "execute_result",
          "data": {
            "text/plain": [
              "DeviceArray([ 49.975, -24.25 , -47.9  ,  72.175], dtype=float64)"
            ]
          },
          "metadata": {},
          "execution_count": 8
        }
      ]
    },
    {
      "cell_type": "code",
      "source": [
        "sol=root(eqs_wrapped, x0, jac=jax.jit(jax.jacobian(eqs_wrapped)))\n",
        "print(sol)"
      ],
      "metadata": {
        "colab": {
          "base_uri": "https://localhost:8080/"
        },
        "id": "Yq8Nq50_NVWf",
        "outputId": "650251b5-e2e9-467c-a08d-cc0c0a8dfc7b"
      },
      "execution_count": 10,
      "outputs": [
        {
          "output_type": "stream",
          "name": "stdout",
          "text": [
            "    fjac: array([[-0.08077149, -0.07905158,  0.9898315 , -0.08637366],\n",
            "       [-0.14383609,  0.70046632,  0.10451792,  0.69118313],\n",
            "       [-0.88362986,  0.2265039 , -0.08891891, -0.39998459],\n",
            "       [-0.4381614 , -0.67215606, -0.03745699,  0.59566584]])\n",
            "     fun: array([ 2.45997710e-12,  8.81863471e-11, -1.42520662e-10,  2.28936869e-11])\n",
            " message: 'The solution converged.'\n",
            "    nfev: 30\n",
            "    njev: 2\n",
            "     qtf: array([-1.56119367e-08,  1.05874020e-09,  1.17466932e-09, -2.60478164e-10])\n",
            "       r: array([ 0.03809488, -9.42648571, -3.4174629 ,  0.22469471,  5.19258249,\n",
            "       -0.51030967, -2.56314275,  0.41711272, -0.84829511,  2.46778622])\n",
            "  status: 1\n",
            " success: True\n",
            "       x: array([10.6251736 , -2.14547599,  2.97500876, -2.9744831 ])\n"
          ]
        }
      ]
    },
    {
      "cell_type": "code",
      "source": [
        "nt=x2nt(sol.x)\n",
        "nt._asdict()"
      ],
      "metadata": {
        "colab": {
          "base_uri": "https://localhost:8080/"
        },
        "id": "8bm3_bzwNj7i",
        "outputId": "4ee21802-a4bb-4d78-b45c-5b6031fb9bf3"
      },
      "execution_count": 11,
      "outputs": [
        {
          "output_type": "execute_result",
          "data": {
            "text/plain": [
              "OrderedDict([('alkeneF', DeviceArray(100., dtype=float64)),\n",
              "             ('waterF', DeviceArray(100., dtype=float64)),\n",
              "             ('alkeney', DeviceArray([1., 0., 0., 0.], dtype=float64)),\n",
              "             ('waterx', DeviceArray([0., 0., 0., 1.], dtype=float64)),\n",
              "             ('rx1', DeviceArray([-1,  0,  1, -1], dtype=int64)),\n",
              "             ('rx2', DeviceArray([ 0,  1, -2,  1], dtype=int64)),\n",
              "             ('rx1_extent', DeviceArray(99.9975704, dtype=float64)),\n",
              "             ('rx2_extent', DeviceArray(5.23773658, dtype=float64)),\n",
              "             ('alcoholP', DeviceArray(95.14322505, dtype=float64)),\n",
              "             ('alcoholPx',\n",
              "              DeviceArray([0.   , 0.005, 0.94 , 0.055], dtype=float64)),\n",
              "             ('etherP', DeviceArray(4.85920455, dtype=float64)),\n",
              "             ('etherPx',\n",
              "              DeviceArray([5.0e-04, 9.8e-01, 1.8e-02, 1.5e-03], dtype=float64))])"
            ]
          },
          "metadata": {},
          "execution_count": 11
        }
      ]
    },
    {
      "cell_type": "code",
      "source": [
        "unk=x2unk(sol.x)\n",
        "unk._asdict()"
      ],
      "metadata": {
        "colab": {
          "base_uri": "https://localhost:8080/"
        },
        "id": "FhE1ZXdaAbHE",
        "outputId": "7be00fb4-6cd0-473b-bea9-e04554c7ac19"
      },
      "execution_count": 12,
      "outputs": [
        {
          "output_type": "execute_result",
          "data": {
            "text/plain": [
              "OrderedDict([('rx1_extent', DeviceArray(99.9975704, dtype=float64)),\n",
              "             ('rx2_extent', DeviceArray(5.23773658, dtype=float64)),\n",
              "             ('alcoholP', DeviceArray(95.14322505, dtype=float64)),\n",
              "             ('etherP', DeviceArray(4.85920455, dtype=float64))])"
            ]
          },
          "metadata": {},
          "execution_count": 12
        }
      ]
    },
    {
      "cell_type": "code",
      "source": [
        "const._asdict()"
      ],
      "metadata": {
        "colab": {
          "base_uri": "https://localhost:8080/"
        },
        "id": "b8ZBqSQZCXmp",
        "outputId": "259483d0-5b03-4ccc-a974-44eea057e322"
      },
      "execution_count": 13,
      "outputs": [
        {
          "output_type": "execute_result",
          "data": {
            "text/plain": [
              "OrderedDict([('alkeneF', DeviceArray(100., dtype=float64)),\n",
              "             ('waterF', DeviceArray(100., dtype=float64)),\n",
              "             ('alkeney', DeviceArray([1., 0., 0., 0.], dtype=float64)),\n",
              "             ('waterx', DeviceArray([0., 0., 0., 1.], dtype=float64)),\n",
              "             ('rx1', DeviceArray([-1,  0,  1, -1], dtype=int64)),\n",
              "             ('rx2', DeviceArray([ 0,  1, -2,  1], dtype=int64)),\n",
              "             ('alcoholPx',\n",
              "              DeviceArray([0.   , 0.005, 0.94 , 0.055], dtype=float64)),\n",
              "             ('etherPx',\n",
              "              DeviceArray([5.0e-04, 9.8e-01, 1.8e-02, 1.5e-03], dtype=float64))])"
            ]
          },
          "metadata": {},
          "execution_count": 13
        }
      ]
    },
    {
      "cell_type": "code",
      "source": [
        "_, r= eqs(x2nt(sol.x))\n",
        "r"
      ],
      "metadata": {
        "colab": {
          "base_uri": "https://localhost:8080/"
        },
        "id": "YJJ3E0yYNmmM",
        "outputId": "e6a70652-84f4-4f3e-a4ac-80fc91a0f8a7"
      },
      "execution_count": 14,
      "outputs": [
        {
          "output_type": "execute_result",
          "data": {
            "text/plain": [
              "{'alkene': DeviceArray([100.,   0.,   0.,   0.], dtype=float64),\n",
              " 'water': DeviceArray([  0.,   0.,   0., 100.], dtype=float64),\n",
              " 'ether': DeviceArray([2.42960227e-03, 4.76202046e+00, 8.74656819e-02,\n",
              "              7.28880682e-03], dtype=float64),\n",
              " 'alcohol': DeviceArray([ 0.        ,  0.47571613, 89.43463155,  5.23287738], dtype=float64)}"
            ]
          },
          "metadata": {},
          "execution_count": 14
        }
      ]
    },
    {
      "cell_type": "markdown",
      "source": [
        "<img src='https://github.com/profteachkids/CHE2064_Spring2022/raw/main/IsopropylSynthesisProcessDiagram.jpg'>"
      ],
      "metadata": {
        "id": "_FiCvYkNNr5a"
      }
    },
    {
      "cell_type": "code",
      "source": [
        "# Include internal flows (recycle)\n",
        "\n",
        "\n",
        "d=DotDict()\n",
        "d.alkeneF = 100.\n",
        "d.waterF = 100.\n",
        "\n",
        "d.alkeney = jnp.array([1., 0., 0., 0.])\n",
        "d.waterx = jnp.array([0., 0., 0., 1.])\n",
        "\n",
        "d.rx1 = jnp.array([-1, 0, 1, -1])\n",
        "d.rx2 = jnp.array([0, 1, -2, 1])\n",
        "\n",
        "d.rx1_extent = Range(d.alkeneF/2, 0., d.alkeneF)\n",
        "d.rx2_extent = Range(d.alkeneF/4, 0., d.alkeneF/2)\n",
        "\n",
        "d.alcoholP = Range(d.alkeneF/2, 0., d.alkeneF)  \n",
        "d.alcoholPx = jnp.array([0., 0.005, 0.94, 0.055])\n",
        "\n",
        "d.etherP = Range(d.alkeneF/2, 0., d.alkeneF)\n",
        "d.etherPx = jnp.array([0.0005, 0.98, 0.018, 0.0015])\n",
        "\n",
        "d.WARFR = 12. #water_alkene_reactor_feed_ratio\n",
        "\n",
        "d.D1F = Range(d.alkeneF * d.WARFR, 0., 2.*d.WARFR*d.alkeneF)\n",
        "d.D1Fx = Comp([0.001, 0.03, 0.07, 0.9])\n",
        "\n",
        "d.D1K = jnp.array([100., 10., 5., 0.2])\n",
        "d.D1Vy = Comp([0.01, 0.299, 0.3, 0.3])\n",
        "d.D1Lx = Comp([0.0001, 0.1, 0.1, 0.8])\n",
        "d.D1V = Range(d.alkeneF * d.WARFR/2, 0., 2.*d.WARFR*d.alkeneF)\n",
        "d.D1L = Range(d.alkeneF * d.WARFR/2, 0., 2.*d.WARFR*d.alkeneF)\n",
        "\n",
        "d.decantW = Range(d.alkeneF * d.WARFR, 0., 2.*d.WARFR*d.alkeneF)\n",
        "d.decantWx = jnp.array([0.0001, 0.0005, 0.0014, 0.98])\n"
      ],
      "metadata": {
        "id": "jZoVc-TZpa1D"
      },
      "execution_count": 15,
      "outputs": []
    },
    {
      "cell_type": "code",
      "source": [
        "x0, x2nt, wrap, x2unk, const  = d2nt(d)"
      ],
      "metadata": {
        "id": "rHVxiki_phXS"
      },
      "execution_count": 16,
      "outputs": []
    },
    {
      "cell_type": "code",
      "source": [
        "def eqs2(d):\n",
        "    r=DotDict()\n",
        "    r.reactor_feed = d.alkeneF*d.alkeney + d.waterF*d.waterx + d.D1L*d.D1Lx + d.decantW*d.decantWx\n",
        "\n",
        "    r.REACTOR = r.reactor_feed + d.rx1_extent*d.rx1 + d.rx2_extent*d.rx2 - d.D1F*d.D1Fx\n",
        "\n",
        "    r.FEED_RATIO = jnp.atleast_1d((d.waterF+d.D1L+d.decantW)/d.alkeneF - d.WARFR)\n",
        "    \n",
        "    r.D1 = d.D1F*d.D1Fx - d.D1V*d.D1Vy - d.D1L*d.D1Lx\n",
        "    r.D1K = d.D1Vy/d.D1Lx - d.D1K\n",
        "\n",
        "    r.AZ = d.D1V*d.D1Vy - d.etherP*d.etherPx - d.alcoholP*d.alcoholPx - d.decantW*d.decantWx\n",
        "\n",
        "    r.alkene = d.alkeneF*d.alkeney\n",
        "    r.water = d.waterF*d.waterx \n",
        "    r.ether = d.etherP*d.etherPx\n",
        "    r.alcohol = d.alcoholP*d.alcoholPx\n",
        "    return jnp.concatenate([r.REACTOR, r.FEED_RATIO, r.D1, r.D1K, r.AZ]), r\n"
      ],
      "metadata": {
        "id": "KZUHitSI7nc3"
      },
      "execution_count": 17,
      "outputs": []
    },
    {
      "cell_type": "code",
      "source": [
        "eqs2_wrapped = wrap(eqs2)"
      ],
      "metadata": {
        "id": "PCFvkYbXt3VL"
      },
      "execution_count": 18,
      "outputs": []
    },
    {
      "cell_type": "code",
      "source": [
        "sol=root(eqs2_wrapped, x0, jac=jax.jit(jax.jacobian(eqs2_wrapped)))\n",
        "sol.message"
      ],
      "metadata": {
        "id": "l8ocZ2P2qyg5",
        "colab": {
          "base_uri": "https://localhost:8080/",
          "height": 36
        },
        "outputId": "202cbd4d-63be-475d-ca0a-1ad2527c3d15"
      },
      "execution_count": 22,
      "outputs": [
        {
          "output_type": "execute_result",
          "data": {
            "text/plain": [
              "'The solution converged.'"
            ],
            "application/vnd.google.colaboratory.intrinsic+json": {
              "type": "string"
            }
          },
          "metadata": {},
          "execution_count": 22
        }
      ]
    },
    {
      "cell_type": "code",
      "source": [
        "unk=x2unk(sol.x)\n",
        "unk._asdict()"
      ],
      "metadata": {
        "id": "AetCqijIr3lF",
        "colab": {
          "base_uri": "https://localhost:8080/"
        },
        "outputId": "5d2cd787-8937-4a1b-c97c-3acbd0a56f32"
      },
      "execution_count": 23,
      "outputs": [
        {
          "output_type": "execute_result",
          "data": {
            "text/plain": [
              "OrderedDict([('rx1_extent', DeviceArray(99.9975704, dtype=float64)),\n",
              "             ('rx2_extent', DeviceArray(5.23773658, dtype=float64)),\n",
              "             ('alcoholP', DeviceArray(95.14322505, dtype=float64)),\n",
              "             ('etherP', DeviceArray(4.85920455, dtype=float64)),\n",
              "             ('D1F', DeviceArray(1199.74805577, dtype=float64)),\n",
              "             ('D1Fx',\n",
              "              DeviceArray([3.50840994e-06, 8.53998248e-03, 2.16963767e-01,\n",
              "                           7.74492742e-01], dtype=float64)),\n",
              "             ('D1Vy',\n",
              "              DeviceArray([3.37442255e-05, 4.60555454e-02, 7.86283218e-01,\n",
              "                           1.67627493e-01], dtype=float64)),\n",
              "             ('D1Lx',\n",
              "              DeviceArray([3.37442255e-07, 4.60555454e-03, 1.57256644e-01,\n",
              "                           8.38137465e-01], dtype=float64)),\n",
              "             ('D1V', DeviceArray(113.87993521, dtype=float64)),\n",
              "             ('D1L', DeviceArray(1085.86812057, dtype=float64)),\n",
              "             ('decantW', DeviceArray(14.13187943, dtype=float64))])"
            ]
          },
          "metadata": {},
          "execution_count": 23
        }
      ]
    },
    {
      "cell_type": "code",
      "source": [
        "eqs2_wrapped(sol.x)"
      ],
      "metadata": {
        "id": "w7IBxauHFqQb",
        "colab": {
          "base_uri": "https://localhost:8080/"
        },
        "outputId": "b9d763c7-dfc6-41ef-c619-5282e68f177d"
      },
      "execution_count": 24,
      "outputs": [
        {
          "output_type": "execute_result",
          "data": {
            "text/plain": [
              "DeviceArray([ 5.98462252e-14,  7.10542736e-15, -1.13686838e-13,\n",
              "             -1.13686838e-13,  0.00000000e+00,  4.55907014e-16,\n",
              "             -7.99360578e-15,  2.84217094e-14,  2.27373675e-13,\n",
              "             -7.10542736e-14, -7.10542736e-15,  8.88178420e-16,\n",
              "             -1.38777878e-16, -8.65193334e-17,  1.93508404e-15,\n",
              "              1.47451495e-14, -1.59872116e-14], dtype=float64)"
            ]
          },
          "metadata": {},
          "execution_count": 24
        }
      ]
    },
    {
      "cell_type": "code",
      "source": [],
      "metadata": {
        "id": "mVNej8ZHSo2A"
      },
      "execution_count": null,
      "outputs": []
    }
  ]
}