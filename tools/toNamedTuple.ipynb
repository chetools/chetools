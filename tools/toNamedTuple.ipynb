{
  "nbformat": 4,
  "nbformat_minor": 0,
  "metadata": {
    "colab": {
      "name": "toNamedTuple.ipynb",
      "provenance": [],
      "collapsed_sections": [],
      "authorship_tag": "ABX9TyOxVEe9C1UoI50zvpo4xUwS",
      "include_colab_link": true
    },
    "kernelspec": {
      "name": "python3",
      "display_name": "Python 3"
    },
    "language_info": {
      "name": "python"
    }
  },
  "cells": [
    {
      "cell_type": "markdown",
      "metadata": {
        "id": "view-in-github",
        "colab_type": "text"
      },
      "source": [
        "<a href=\"https://colab.research.google.com/github/profteachkids/chetools/blob/main/tools/toNamedTuple.ipynb\" target=\"_parent\"><img src=\"https://colab.research.google.com/assets/colab-badge.svg\" alt=\"Open In Colab\"/></a>"
      ]
    },
    {
      "cell_type": "code",
      "execution_count": 25,
      "metadata": {
        "colab": {
          "base_uri": "https://localhost:8080/"
        },
        "id": "IYFRJaNUwrM6",
        "outputId": "06f4b195-4ae5-4b89-8720-4ee4e752150d"
      },
      "outputs": [
        {
          "output_type": "stream",
          "name": "stdout",
          "text": [
            "Requirement already satisfied: importnb in /usr/local/lib/python3.7/dist-packages (0.7.0)\n"
          ]
        }
      ],
      "source": [
        "!wget -N -q https://raw.githubusercontent.com/profteachkids/chetools/main/tools/dotmap.ipynb\n",
        "!pip install importnb\n",
        "from importnb import Notebook\n",
        "with Notebook(): \n",
        "    from dotmap import DotMap\n",
        "from collections import namedtuple\n",
        "import jax\n",
        "import numpy as np\n",
        "import jax.numpy as jnp\n",
        "import jax.tree_util as tu\n",
        "from functools import partial"
      ]
    },
    {
      "cell_type": "code",
      "source": [
        "d=DotMap()\n",
        "d.a.j=10.\n",
        "d.a.k=20.\n",
        "\n",
        "d.b.y=5.\n",
        "d.b.x.m=2.\n",
        "d.b.x.n=4.\n",
        "\n",
        "d.c=4.\n",
        "\n",
        "d=d.toDict()"
      ],
      "metadata": {
        "id": "Gp9yoLE0xYZh"
      },
      "execution_count": 18,
      "outputs": []
    },
    {
      "cell_type": "code",
      "source": [
        "def recurse(d,e={},root='r'):\n",
        "    for k,v in d.items():\n",
        "        if isinstance(v,Mapping):\n",
        "            e[k]={}\n",
        "            e[k]=recurse(v,e[k],root+\"_\"+k)\n",
        "        else:\n",
        "            e[k]=v\n",
        "    NT=namedtuple(root,e.keys())\n",
        "    return NT(**e)\n"
      ],
      "metadata": {
        "id": "oq3ZW7zKajGD"
      },
      "execution_count": 19,
      "outputs": []
    },
    {
      "cell_type": "code",
      "source": [
        "recurse(d)"
      ],
      "metadata": {
        "colab": {
          "base_uri": "https://localhost:8080/"
        },
        "id": "_690iHlOe2oy",
        "outputId": "31f2fd03-3cf8-407b-f199-1830bfcc7289"
      },
      "execution_count": 20,
      "outputs": [
        {
          "output_type": "execute_result",
          "data": {
            "text/plain": [
              "r(a=r_a(j=10.0, k=20.0), b=r_b(y=5.0, x=r_b_x(m=2.0, n=4.0)), c=4.0)"
            ]
          },
          "metadata": {},
          "execution_count": 20
        }
      ]
    },
    {
      "cell_type": "code",
      "source": [
        "def toNamedTuple(d):\n",
        "    stack=[(d,partial(d.__setitem__,'toNamedTupleResult'))]\n",
        "\n",
        "\n",
        "    while stack:\n",
        "        build={}\n",
        "        nodict=True\n",
        "        source,setter=stack[-1]\n",
        "        for k,v in source.items():\n",
        "            if isinstance(v,dict):\n",
        "                stack.append((v, partial(source.__setitem__,k)))\n",
        "                nodict=False\n",
        "        if nodict:            \n",
        "            NT = namedtuple('_', source.keys())\n",
        "            setter(NT(**source))\n",
        "            stack.pop()\n",
        "            \n",
        "    return d['toNamedTupleResult']"
      ],
      "metadata": {
        "id": "xQTi8FMzx3xC"
      },
      "execution_count": 21,
      "outputs": []
    },
    {
      "cell_type": "code",
      "source": [
        "dt=toNamedTuple(d)\n",
        "dt"
      ],
      "metadata": {
        "id": "3OP6JiGcyvzB",
        "colab": {
          "base_uri": "https://localhost:8080/"
        },
        "outputId": "4f1212c3-e3be-435c-9817-00816941e99b"
      },
      "execution_count": 22,
      "outputs": [
        {
          "output_type": "execute_result",
          "data": {
            "text/plain": [
              "_(a=_(j=10.0, k=20.0), b=_(y=5.0, x=_(m=2.0, n=4.0)), c=4.0)"
            ]
          },
          "metadata": {},
          "execution_count": 22
        }
      ]
    },
    {
      "cell_type": "code",
      "source": [
        "val,tree = tu.tree_flatten(dt)"
      ],
      "metadata": {
        "id": "7etz1LXrWX4k"
      },
      "execution_count": 27,
      "outputs": []
    },
    {
      "cell_type": "code",
      "source": [
        "val,tree"
      ],
      "metadata": {
        "colab": {
          "base_uri": "https://localhost:8080/"
        },
        "id": "UvIgLdnOeTt0",
        "outputId": "bb574d89-29f0-4add-ed92-a9df45a03f9f"
      },
      "execution_count": 28,
      "outputs": [
        {
          "output_type": "execute_result",
          "data": {
            "text/plain": [
              "([10.0, 20.0, 5.0, 2.0, 4.0, 4.0],\n",
              " PyTreeDef(CustomNode(namedtuple[<class '__main__._'>], [CustomNode(namedtuple[<class '__main__._'>], [*, *]), CustomNode(namedtuple[<class '__main__._'>], [*, CustomNode(namedtuple[<class '__main__._'>], [*, *])]), *])))"
            ]
          },
          "metadata": {},
          "execution_count": 28
        }
      ]
    },
    {
      "cell_type": "code",
      "source": [
        "val2 = np.random.normal(size=len(val))"
      ],
      "metadata": {
        "id": "jxN6rqbXfU_Z"
      },
      "execution_count": 30,
      "outputs": []
    },
    {
      "cell_type": "code",
      "source": [
        "%%timeit\n",
        "tu.tree_unflatten(tree, val2)"
      ],
      "metadata": {
        "colab": {
          "base_uri": "https://localhost:8080/"
        },
        "id": "XKFoLTlAfiUI",
        "outputId": "7d0d84e6-fe30-47f7-9867-12d8ac2d066a"
      },
      "execution_count": 32,
      "outputs": [
        {
          "output_type": "stream",
          "name": "stdout",
          "text": [
            "The slowest run took 23.96 times longer than the fastest. This could mean that an intermediate result is being cached.\n",
            "100000 loops, best of 5: 4.55 µs per loop\n"
          ]
        }
      ]
    },
    {
      "cell_type": "code",
      "source": [
        ""
      ],
      "metadata": {
        "id": "T-Us3xsJfnOp"
      },
      "execution_count": null,
      "outputs": []
    }
  ]
}