{
  "nbformat": 4,
  "nbformat_minor": 0,
  "metadata": {
    "colab": {
      "name": "toNamedTuple.ipynb",
      "provenance": [],
      "collapsed_sections": [],
      "authorship_tag": "ABX9TyPft/N1pV26GZuGQq9k7D0U",
      "include_colab_link": true
    },
    "kernelspec": {
      "name": "python3",
      "display_name": "Python 3"
    },
    "language_info": {
      "name": "python"
    }
  },
  "cells": [
    {
      "cell_type": "markdown",
      "metadata": {
        "id": "view-in-github",
        "colab_type": "text"
      },
      "source": [
        "<a href=\"https://colab.research.google.com/github/profteachkids/chetools/blob/main/tools/toNamedTuple.ipynb\" target=\"_parent\"><img src=\"https://colab.research.google.com/assets/colab-badge.svg\" alt=\"Open In Colab\"/></a>"
      ]
    },
    {
      "cell_type": "code",
      "execution_count": 1,
      "metadata": {
        "colab": {
          "base_uri": "https://localhost:8080/"
        },
        "id": "IYFRJaNUwrM6",
        "outputId": "4fe72268-49d5-4b9f-cbfb-15bdb0fe36dc"
      },
      "outputs": [
        {
          "output_type": "stream",
          "name": "stdout",
          "text": [
            "Collecting importnb\n",
            "  Downloading importnb-0.7.0-py3-none-any.whl (24 kB)\n",
            "Installing collected packages: importnb\n",
            "Successfully installed importnb-0.7.0\n"
          ]
        }
      ],
      "source": [
        "!wget -N -q https://raw.githubusercontent.com/profteachkids/chetools/main/tools/dotmap.ipynb\n",
        "!pip install importnb\n",
        "from importnb import Notebook\n",
        "with Notebook(): \n",
        "    from dotmap import DotMap\n",
        "from collections import namedtuple\n",
        "import jax\n",
        "import numpy as np\n",
        "import jax.numpy as jnp\n",
        "import jax.tree_util as tu\n",
        "from functools import partial\n",
        "from copy import deepcopy"
      ]
    },
    {
      "cell_type": "code",
      "source": [
        "def toNamedTuple_recursive(d,e=None,i=None):\n",
        "    if e is None:\n",
        "        if isinstance(d,list):\n",
        "            e=[]\n",
        "        elif isinstance(d,dict):\n",
        "            e={}\n",
        "\n",
        "    if isinstance(d,dict):\n",
        "        for k,v in d.items():\n",
        "            if isinstance(v,dict):\n",
        "                e[k]={}\n",
        "                e[k]=toNamedTuple_recursive(v,e[k])\n",
        "            elif isinstance(v,list):\n",
        "                e[k]=[]\n",
        "                e[k]=toNamedTuple_recursive(v,e[k])\n",
        "            else:\n",
        "                e[k]=v\n",
        "        NT=namedtuple('_',e.keys())\n",
        "        res=NT(**e)\n",
        "    \n",
        "    elif isinstance(d,list):\n",
        "        e=[None]*len(d)\n",
        "        for i,v in enumerate(d):\n",
        "            if isinstance(v,dict):\n",
        "                e[i]={}\n",
        "                e[i]=toNamedTuple_recursive(v,e[i])\n",
        "            elif isinstance(v,list):\n",
        "                e[i]=[]\n",
        "                e[i]=toNamedTuple_recursive(v,e[i])\n",
        "            else:\n",
        "                e[i]=v\n",
        "        res = tuple(e)\n",
        "    \n",
        "    return res"
      ],
      "metadata": {
        "id": "J0xg0S-OSwAN"
      },
      "execution_count": 19,
      "outputs": []
    },
    {
      "cell_type": "code",
      "source": [
        "\n",
        "def dictHandler(build,k):\n",
        "    def dictSetter(v):\n",
        "        if isinstance(v,dict):\n",
        "            NT = namedtuple('_', v.keys())\n",
        "            build[k]=NT(**v)\n",
        "        elif isinstance(v,list):\n",
        "            build[k]=tuple(v)\n",
        "        return\n",
        "    return dictSetter\n",
        "\n",
        "def listHandler(l,i):\n",
        "    def listSetter(v):\n",
        "        if isinstance(v,list):\n",
        "            l[i]=tuple(v)\n",
        "        elif isinstance(v,dict):\n",
        "            NT = namedtuple('_', v.keys())\n",
        "            l[i]=NT(**v)\n",
        "        else:\n",
        "            l[i]=v\n",
        "        return\n",
        "    return listSetter\n",
        "\n",
        "def toNamedTuple_stack(orig):\n",
        "    d=deepcopy(orig)\n",
        "\n",
        "    def listRoot(v):\n",
        "        nonlocal d\n",
        "        d=tuple(v)\n",
        "\n",
        "\n",
        "    def dictRoot(v):\n",
        "        nonlocal d\n",
        "        NT = namedtuple('_', v.keys())\n",
        "        d=NT(**v)\n",
        "\n",
        "    if isinstance(d,list):\n",
        "        stack=[(d, listRoot)]\n",
        "    elif isinstance(d, dict):\n",
        "        stack=[(d, dictRoot)]\n",
        "\n",
        "    count=0\n",
        "    while stack:\n",
        "        nested=False\n",
        "        source,setter=stack[-1]\n",
        "        if isinstance(source,list):\n",
        "            for i,v in enumerate(source):\n",
        "                if type(v) in (dict,list):\n",
        "                    stack.append((v, listHandler(source,i)))\n",
        "                    nested=True\n",
        "\n",
        "        elif isinstance(source,dict):\n",
        "            for k,v in source.items():\n",
        "                if type(v) in (dict,list):\n",
        "                    stack.append((v, dictHandler(source,k)))\n",
        "                    nested=True\n",
        "\n",
        "        if not nested: \n",
        "            setter(source)\n",
        "            stack.pop()\n",
        "        count+=1\n",
        "    return d"
      ],
      "metadata": {
        "id": "_XJ5QjJthrtF"
      },
      "execution_count": 20,
      "outputs": []
    },
    {
      "cell_type": "code",
      "source": [
        "d=dict(b=dict(m=2,n=4))\n",
        "e=dict(c=1,g=dict(z=2))\n",
        "f=dict(x=3.,y=[d,d])\n",
        "\n",
        "z=[dict(a=d, k=[d,[e,f]]), [d,e,f]]\n",
        "dt=toNamedTuple_stack(z)\n",
        "dt"
      ],
      "metadata": {
        "id": "3OP6JiGcyvzB",
        "colab": {
          "base_uri": "https://localhost:8080/"
        },
        "outputId": "e3cfad40-42da-4d97-f8b1-5e86646d49c3"
      },
      "execution_count": 23,
      "outputs": [
        {
          "output_type": "execute_result",
          "data": {
            "text/plain": [
              "(_(a=_(b=_(m=2, n=4)), k=(_(b=_(m=2, n=4)), (_(c=1, g=_(z=2)), _(x=3.0, y=(_(b=_(m=2, n=4)), _(b=_(m=2, n=4))))))),\n",
              " (_(b=_(m=2, n=4)),\n",
              "  _(c=1, g=_(z=2)),\n",
              "  _(x=3.0, y=(_(b=_(m=2, n=4)), _(b=_(m=2, n=4))))))"
            ]
          },
          "metadata": {},
          "execution_count": 23
        }
      ]
    },
    {
      "cell_type": "code",
      "source": [
        "dt=toNamedTuple_recursive(z)\n",
        "dt"
      ],
      "metadata": {
        "colab": {
          "base_uri": "https://localhost:8080/"
        },
        "id": "n5L7xK-vXmye",
        "outputId": "b1342bae-6f91-424e-d0d9-8a88a9b2f590"
      },
      "execution_count": 24,
      "outputs": [
        {
          "output_type": "execute_result",
          "data": {
            "text/plain": [
              "(_(a=_(b=_(m=2, n=4)), k=(_(b=_(m=2, n=4)), (_(c=1, g=_(z=2)), _(x=3.0, y=(_(b=_(m=2, n=4)), _(b=_(m=2, n=4))))))),\n",
              " (_(b=_(m=2, n=4)),\n",
              "  _(c=1, g=_(z=2)),\n",
              "  _(x=3.0, y=(_(b=_(m=2, n=4)), _(b=_(m=2, n=4))))))"
            ]
          },
          "metadata": {},
          "execution_count": 24
        }
      ]
    },
    {
      "cell_type": "code",
      "source": [
        "val,tree = tu.tree_flatten(dt)"
      ],
      "metadata": {
        "id": "7etz1LXrWX4k"
      },
      "execution_count": null,
      "outputs": []
    },
    {
      "cell_type": "code",
      "source": [
        "val,tree"
      ],
      "metadata": {
        "colab": {
          "base_uri": "https://localhost:8080/"
        },
        "id": "UvIgLdnOeTt0",
        "outputId": "aabe1d6b-272c-4886-dba0-9607dccc9a29"
      },
      "execution_count": null,
      "outputs": [
        {
          "output_type": "execute_result",
          "data": {
            "text/plain": [
              "([2, 4, 2, 4, 1, 2, 3.0, 2, 4, 2, 4, 3.0, 2, 4, 2, 4],\n",
              " PyTreeDef((CustomNode(namedtuple[<class '__main__._'>], [CustomNode(namedtuple[<class '__main__._'>], [CustomNode(namedtuple[<class '__main__._'>], [*, *])]), (CustomNode(namedtuple[<class '__main__._'>], [CustomNode(namedtuple[<class '__main__._'>], [*, *])]), (CustomNode(namedtuple[<class '__main__._'>], [*, CustomNode(namedtuple[<class '__main__._'>], [*])]), CustomNode(namedtuple[<class '__main__._'>], [*, (CustomNode(namedtuple[<class '__main__._'>], [CustomNode(namedtuple[<class '__main__._'>], [*, *])]), CustomNode(namedtuple[<class '__main__._'>], [CustomNode(namedtuple[<class '__main__._'>], [*, *])]))])))]), CustomNode(namedtuple[<class '__main__._'>], [*, (CustomNode(namedtuple[<class '__main__._'>], [CustomNode(namedtuple[<class '__main__._'>], [*, *])]), CustomNode(namedtuple[<class '__main__._'>], [CustomNode(namedtuple[<class '__main__._'>], [*, *])]))]))))"
            ]
          },
          "metadata": {},
          "execution_count": 17
        }
      ]
    },
    {
      "cell_type": "code",
      "source": [
        "val"
      ],
      "metadata": {
        "colab": {
          "base_uri": "https://localhost:8080/"
        },
        "id": "c8HRPba14gU4",
        "outputId": "e7752ded-24c1-4165-f095-e11eeeda9ceb"
      },
      "execution_count": null,
      "outputs": [
        {
          "output_type": "execute_result",
          "data": {
            "text/plain": [
              "[2, 4, 2, 4, 1, 2, 3.0, 2, 4, 2, 4, 3.0, 2, 4, 2, 4]"
            ]
          },
          "metadata": {},
          "execution_count": 18
        }
      ]
    },
    {
      "cell_type": "code",
      "source": [
        "val2 = np.random.normal(size=len(val))"
      ],
      "metadata": {
        "id": "jxN6rqbXfU_Z"
      },
      "execution_count": null,
      "outputs": []
    },
    {
      "cell_type": "code",
      "source": [
        "%%timeit\n",
        "tu.tree_unflatten(tree, val2)"
      ],
      "metadata": {
        "colab": {
          "base_uri": "https://localhost:8080/"
        },
        "id": "XKFoLTlAfiUI",
        "outputId": "0f27416f-3fa8-448e-c087-0f24abc0041d"
      },
      "execution_count": null,
      "outputs": [
        {
          "output_type": "stream",
          "name": "stdout",
          "text": [
            "The slowest run took 6.25 times longer than the fastest. This could mean that an intermediate result is being cached.\n",
            "100000 loops, best of 5: 13.1 µs per loop\n"
          ]
        }
      ]
    }
  ]
}