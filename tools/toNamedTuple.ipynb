{
  "nbformat": 4,
  "nbformat_minor": 0,
  "metadata": {
    "colab": {
      "name": "toNamedTuple.ipynb",
      "provenance": [],
      "collapsed_sections": [],
      "authorship_tag": "ABX9TyOJnaVLnDVuMrOCNvYdLUme",
      "include_colab_link": true
    },
    "kernelspec": {
      "name": "python3",
      "display_name": "Python 3"
    },
    "language_info": {
      "name": "python"
    }
  },
  "cells": [
    {
      "cell_type": "markdown",
      "metadata": {
        "id": "view-in-github",
        "colab_type": "text"
      },
      "source": [
        "<a href=\"https://colab.research.google.com/github/profteachkids/chetools/blob/main/tools/toNamedTuple.ipynb\" target=\"_parent\"><img src=\"https://colab.research.google.com/assets/colab-badge.svg\" alt=\"Open In Colab\"/></a>"
      ]
    },
    {
      "cell_type": "code",
      "execution_count": 1,
      "metadata": {
        "colab": {
          "base_uri": "https://localhost:8080/"
        },
        "id": "IYFRJaNUwrM6",
        "outputId": "001b4098-8638-4f8a-e849-d562b4dbcbe7"
      },
      "outputs": [
        {
          "output_type": "stream",
          "name": "stdout",
          "text": [
            "Collecting importnb\n",
            "  Downloading importnb-0.7.0-py3-none-any.whl (24 kB)\n",
            "Installing collected packages: importnb\n",
            "Successfully installed importnb-0.7.0\n"
          ]
        }
      ],
      "source": [
        "!wget -N -q https://raw.githubusercontent.com/profteachkids/chetools/main/tools/dotmap.ipynb\n",
        "!pip install importnb\n",
        "from importnb import Notebook\n",
        "with Notebook(): \n",
        "    from dotmap import DotMap\n",
        "from collections import namedtuple\n",
        "import jax\n",
        "import numpy as np\n",
        "import jax.numpy as jnp\n",
        "import jax.tree_util as tu\n",
        "from functools import partial\n",
        "from copy import deepcopy"
      ]
    },
    {
      "cell_type": "code",
      "source": [
        "def recurse(d,e={},root='r'):\n",
        "    for k,v in d.items():\n",
        "        if isinstance(v,dict):\n",
        "            e[k]={}\n",
        "            e[k]=recurse(v,e[k],root+\"_\"+k)\n",
        "        else:\n",
        "            e[k]=v\n",
        "    NT=namedtuple(root,e.keys())\n",
        "    return NT(**e)"
      ],
      "metadata": {
        "id": "3HmZVe8PgP2m"
      },
      "execution_count": null,
      "outputs": []
    },
    {
      "cell_type": "code",
      "source": [
        ""
      ],
      "metadata": {
        "id": "Gp9yoLE0xYZh"
      },
      "execution_count": null,
      "outputs": []
    },
    {
      "cell_type": "code",
      "source": [
        "def toNamedTuple(orig):\n",
        "    d=deepcopy(orig)\n",
        "    stack=[(d,dictHandler(d,'toNamedTupleResult'))]\n",
        "\n",
        "\n",
        "    while stack:\n",
        "        nodict=True\n",
        "        source,setter=stack[-1]\n",
        "        for k,v in source.items():\n",
        "            if isinstance(v,dict):\n",
        "                stack.append((v, dictHandler(source,k)))\n",
        "                nodict=False\n",
        "        if nodict:            \n",
        "            setter(source)\n",
        "            stack.pop()\n",
        "            \n",
        "    return d['toNamedTupleResult']"
      ],
      "metadata": {
        "id": "QJpbmEPt1p87"
      },
      "execution_count": null,
      "outputs": []
    },
    {
      "cell_type": "code",
      "source": [
        "\n",
        "def dictHandler(build,k):\n",
        "    def dictSetter(v):\n",
        "        if isinstance(v,dict):\n",
        "            NT = namedtuple('_', v.keys())\n",
        "            build[k]=NT(**v)\n",
        "        elif isinstance(v,list):\n",
        "            build[k]=tuple(v)\n",
        "        return\n",
        "    return dictSetter\n",
        "\n",
        "def listHandler(l,i):\n",
        "    def listSetter(v):\n",
        "        if isinstance(v,list):\n",
        "            l[i]=tuple(v)\n",
        "        elif isinstance(v,dict):\n",
        "            NT = namedtuple('_', v.keys())\n",
        "            l[i]=NT(**v)\n",
        "        else:\n",
        "            l[i]=v\n",
        "        return\n",
        "    return listSetter\n",
        "\n",
        "def toNamedTuple3(orig):\n",
        "    d=deepcopy(orig)\n",
        "\n",
        "    def listRoot(v):\n",
        "        nonlocal d\n",
        "        d=tuple(v)\n",
        "\n",
        "\n",
        "    def dictRoot(v):\n",
        "        nonlocal d\n",
        "        NT = namedtuple('_', v.keys())\n",
        "        d=NT(**v)\n",
        "\n",
        "    if isinstance(d,list):\n",
        "        stack=[(d, listRoot)]\n",
        "    elif isinstance(d, dict):\n",
        "        # stack=[(d, dictHandler(d,'result'))]\n",
        "        stack=[(d, dictRoot)]\n",
        "\n",
        "    count=0\n",
        "    while stack:\n",
        "        nested=False\n",
        "        source,setter=stack[-1]\n",
        "        # printlist(stack)\n",
        "        # print(source)\n",
        "        # print(d)\n",
        "        # print('---')\n",
        "        if isinstance(source,list):\n",
        "            for i,v in enumerate(source):\n",
        "                if type(v) in (dict,list):\n",
        "                    stack.append((v, listHandler(source,i)))\n",
        "                    nested=True\n",
        "\n",
        "        elif isinstance(source,dict):\n",
        "            for k,v in source.items():\n",
        "                if type(v) in (dict,list):\n",
        "                    stack.append((v, dictHandler(source,k)))\n",
        "                    nested=True\n",
        "\n",
        "        if not nested: \n",
        "            setter(source)\n",
        "            stack.pop()\n",
        "        count+=1\n",
        "    return d"
      ],
      "metadata": {
        "id": "_XJ5QjJthrtF"
      },
      "execution_count": 11,
      "outputs": []
    },
    {
      "cell_type": "code",
      "source": [
        "d=dict(b=dict(m=2,n=4))\n",
        "e=dict(c=1,g=dict(z=2))\n",
        "f=dict(x=3.,y=[d,d])\n",
        "\n",
        "z=[dict(a=d, k=[d,[e,f]]), f]\n",
        "dt=toNamedTuple3(z)\n",
        "dt"
      ],
      "metadata": {
        "id": "3OP6JiGcyvzB",
        "colab": {
          "base_uri": "https://localhost:8080/"
        },
        "outputId": "8c4cbcda-9cfb-4887-c8b7-b6ac7ba0a245"
      },
      "execution_count": 15,
      "outputs": [
        {
          "output_type": "execute_result",
          "data": {
            "text/plain": [
              "(_(a=_(b=_(m=2, n=4)), k=(_(b=_(m=2, n=4)), (_(c=1, g=_(z=2)), _(x=3.0, y=(_(b=_(m=2, n=4)), _(b=_(m=2, n=4))))))),\n",
              " _(x=3.0, y=(_(b=_(m=2, n=4)), _(b=_(m=2, n=4)))))"
            ]
          },
          "metadata": {},
          "execution_count": 15
        }
      ]
    },
    {
      "cell_type": "code",
      "source": [
        "val,tree = tu.tree_flatten(dt)"
      ],
      "metadata": {
        "id": "7etz1LXrWX4k"
      },
      "execution_count": 16,
      "outputs": []
    },
    {
      "cell_type": "code",
      "source": [
        "val,tree"
      ],
      "metadata": {
        "colab": {
          "base_uri": "https://localhost:8080/"
        },
        "id": "UvIgLdnOeTt0",
        "outputId": "aabe1d6b-272c-4886-dba0-9607dccc9a29"
      },
      "execution_count": 17,
      "outputs": [
        {
          "output_type": "execute_result",
          "data": {
            "text/plain": [
              "([2, 4, 2, 4, 1, 2, 3.0, 2, 4, 2, 4, 3.0, 2, 4, 2, 4],\n",
              " PyTreeDef((CustomNode(namedtuple[<class '__main__._'>], [CustomNode(namedtuple[<class '__main__._'>], [CustomNode(namedtuple[<class '__main__._'>], [*, *])]), (CustomNode(namedtuple[<class '__main__._'>], [CustomNode(namedtuple[<class '__main__._'>], [*, *])]), (CustomNode(namedtuple[<class '__main__._'>], [*, CustomNode(namedtuple[<class '__main__._'>], [*])]), CustomNode(namedtuple[<class '__main__._'>], [*, (CustomNode(namedtuple[<class '__main__._'>], [CustomNode(namedtuple[<class '__main__._'>], [*, *])]), CustomNode(namedtuple[<class '__main__._'>], [CustomNode(namedtuple[<class '__main__._'>], [*, *])]))])))]), CustomNode(namedtuple[<class '__main__._'>], [*, (CustomNode(namedtuple[<class '__main__._'>], [CustomNode(namedtuple[<class '__main__._'>], [*, *])]), CustomNode(namedtuple[<class '__main__._'>], [CustomNode(namedtuple[<class '__main__._'>], [*, *])]))]))))"
            ]
          },
          "metadata": {},
          "execution_count": 17
        }
      ]
    },
    {
      "cell_type": "code",
      "source": [
        "val"
      ],
      "metadata": {
        "colab": {
          "base_uri": "https://localhost:8080/"
        },
        "id": "c8HRPba14gU4",
        "outputId": "e7752ded-24c1-4165-f095-e11eeeda9ceb"
      },
      "execution_count": 18,
      "outputs": [
        {
          "output_type": "execute_result",
          "data": {
            "text/plain": [
              "[2, 4, 2, 4, 1, 2, 3.0, 2, 4, 2, 4, 3.0, 2, 4, 2, 4]"
            ]
          },
          "metadata": {},
          "execution_count": 18
        }
      ]
    },
    {
      "cell_type": "code",
      "source": [
        "val2 = np.random.normal(size=len(val))"
      ],
      "metadata": {
        "id": "jxN6rqbXfU_Z"
      },
      "execution_count": 19,
      "outputs": []
    },
    {
      "cell_type": "code",
      "source": [
        "%%timeit\n",
        "tu.tree_unflatten(tree, val2)"
      ],
      "metadata": {
        "colab": {
          "base_uri": "https://localhost:8080/"
        },
        "id": "XKFoLTlAfiUI",
        "outputId": "0f27416f-3fa8-448e-c087-0f24abc0041d"
      },
      "execution_count": 20,
      "outputs": [
        {
          "output_type": "stream",
          "name": "stdout",
          "text": [
            "The slowest run took 6.25 times longer than the fastest. This could mean that an intermediate result is being cached.\n",
            "100000 loops, best of 5: 13.1 µs per loop\n"
          ]
        }
      ]
    }
  ]
}